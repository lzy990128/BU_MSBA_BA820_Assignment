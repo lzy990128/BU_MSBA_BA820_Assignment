{
 "cells": [
  {
   "cell_type": "markdown",
   "metadata": {
    "id": "1ozalcZj6GnO"
   },
   "source": [
    "# BA 820 Homework 3 (100 Points)\n",
    "\n",
    "Group Member Names:\n",
    "\n",
    "Reminder: you should not be sharing code across groups\n",
    "\n",
    "Please submit 1) PDF answers and 2) python notebook. Grading will be based on the homework answer write up PDF. Python notebook is for reference and back up only. So please make sure that your all the outputs and answers are clearly visible in the pdf.\n",
    "\n",
    "## 1 Latent Dirichlet Allocation [60pts]\n",
    "\n",
    "In this problem, we will use Latent Dirichlet Allocation to perform topic modeling on Amazon Review datasets. In particular, we will take an in-depth look at different aspects of LDA model.\n",
    "\n",
    "## 1.1 Installation\n",
    "\n",
    "To perform LDA and visualize, please use Python 3.X. You will also need to install Numpy, Scipy, gensim, nltk, pyLDAvis library. Refer to requirements.txt for more details.\n",
    "Use the following code to install the labraries."
   ]
  },
  {
   "cell_type": "code",
   "execution_count": null,
   "metadata": {},
   "outputs": [],
   "source": []
  },
  {
   "cell_type": "code",
   "execution_count": 14,
   "metadata": {
    "id": "K7m0zKTQLP-a"
   },
   "outputs": [
    {
     "name": "stderr",
     "output_type": "stream",
     "text": [
      "/Users/ryanli/opt/miniconda3/lib/python3.9/site-packages/ipykernel/ipkernel.py:283: DeprecationWarning: `should_run_async` will not call `transform_cell` automatically in the future. Please pass the result to `transformed_cell` argument and any exception that happen during thetransform in `preprocessing_exc_tuple` in IPython 7.17 and above.\n",
      "  and should_run_async(code)\n"
     ]
    }
   ],
   "source": [
    "# %pip install gensim\n",
    "# # install gensim for LDA\n",
    "# %pip install nltk \n",
    "# # install nltk to preprocess sentences\n",
    "# %pip install pyldavis\n",
    "# # to visualize LDA topics\n",
    "# %pip install matplotlib \n",
    "# # for plotting"
   ]
  },
  {
   "cell_type": "markdown",
   "metadata": {
    "id": "QFDfBgMF6Rsu"
   },
   "source": [
    "The cell below tests if the packages we need have been installed correctly, and that we are in the correct environment."
   ]
  },
  {
   "cell_type": "code",
   "execution_count": 14,
   "metadata": {
    "id": "9iRwy_ck6SLL"
   },
   "outputs": [
    {
     "name": "stderr",
     "output_type": "stream",
     "text": [
      "/Users/ryanli/opt/miniconda3/lib/python3.9/site-packages/ipykernel/ipkernel.py:283: DeprecationWarning: `should_run_async` will not call `transform_cell` automatically in the future. Please pass the result to `transformed_cell` argument and any exception that happen during thetransform in `preprocessing_exc_tuple` in IPython 7.17 and above.\n",
      "  and should_run_async(code)\n",
      "[nltk_data] Downloading package stopwords to\n",
      "[nltk_data]     /Users/ryanli/nltk_data...\n",
      "[nltk_data]   Package stopwords is already up-to-date!\n"
     ]
    }
   ],
   "source": [
    "import gensim\n",
    "import nltk\n",
    "nltk.download(\"stopwords\")\n",
    "import pyLDAvis\n",
    "import matplotlib\n",
    "%matplotlib inline\n",
    "import gzip # to unzip the data\n",
    "import re # to replace punctuations\n",
    "from nltk.corpus import stopwords # list of stopwords"
   ]
  },
  {
   "cell_type": "markdown",
   "metadata": {
    "id": "aLu3zAuv6m0r"
   },
   "source": [
    "## 1.2 Datasets\n",
    "\n",
    "You can download the Amazon reviews dataset of Cellphones & Accessory 5-Core Data [here](http://snap.stanford.edu/data/amazon/productGraph/categoryFiles/reviews_Cell_Phones_and_Accessories_5.json.gz). Place the downloaded dataset in the same folder as this notebook. You can use the following code to read a datat from GZIp file"
   ]
  },
  {
   "cell_type": "code",
   "execution_count": 16,
   "metadata": {
    "id": "gbSEVGKw6nV7"
   },
   "outputs": [
    {
     "name": "stderr",
     "output_type": "stream",
     "text": [
      "/Users/ryanli/opt/miniconda3/lib/python3.9/site-packages/ipykernel/ipkernel.py:283: DeprecationWarning: `should_run_async` will not call `transform_cell` automatically in the future. Please pass the result to `transformed_cell` argument and any exception that happen during thetransform in `preprocessing_exc_tuple` in IPython 7.17 and above.\n",
      "  and should_run_async(code)\n"
     ]
    },
    {
     "data": {
      "text/plain": [
       "<generator object parse at 0x7fe3a9943270>"
      ]
     },
     "execution_count": 16,
     "metadata": {},
     "output_type": "execute_result"
    }
   ],
   "source": [
    "# A function to read the zipped data at a specfic path\n",
    "#\n",
    "# How to use:\n",
    "# PATH = \"/path/to/file\"\n",
    "# for line in parse(PATH):\n",
    "#   do something with line\n",
    "#\n",
    "def parse(path):\n",
    "    g = gzip.open(path, 'r')\n",
    "    for l in g:\n",
    "        yield eval(l)\n",
    "        \n",
    "parse('./reviews_Cell_Phones_and_Accessories_5.json.gz')"
   ]
  },
  {
   "cell_type": "markdown",
   "metadata": {
    "id": "B48OODRf70mY"
   },
   "source": [
    "## 1.3 Data Cleaning\n",
    "\n",
    "Now we will preprocess the data using the following steps:\n",
    "   1. Remove stopwords\n",
    "   2. Lower-case all words\n",
    "   3. Remove words with less than 2 characters\n",
    "   4. Remove punctuation\n",
    "   5. Split each sentence into a list of words"
   ]
  },
  {
   "cell_type": "code",
   "execution_count": 17,
   "metadata": {
    "id": "6JVvT5kh7qO9"
   },
   "outputs": [
    {
     "name": "stderr",
     "output_type": "stream",
     "text": [
      "/Users/ryanli/opt/miniconda3/lib/python3.9/site-packages/ipykernel/ipkernel.py:283: DeprecationWarning: `should_run_async` will not call `transform_cell` automatically in the future. Please pass the result to `transformed_cell` argument and any exception that happen during thetransform in `preprocessing_exc_tuple` in IPython 7.17 and above.\n",
      "  and should_run_async(code)\n"
     ]
    }
   ],
   "source": [
    "# A function to clean a single line of text\n",
    "def clean_line(line):\n",
    "    \"\"\" Clean stopwords and punction for each line\n",
    "    \n",
    "    Args: \n",
    "        line (string): one line in file\n",
    "        \n",
    "    Returns:\n",
    "        list(str): a list of all words in the sentence\n",
    "    \"\"\"\n",
    "    punctuationRegex = r'\\W+|\\d+'\n",
    "    stopWords = set(stopwords.words('english'))\n",
    "    line = line.split(\" \")\n",
    "    filtered_content = []\n",
    "    for word in line:\n",
    "        if word not in stopWords:\n",
    "            if len(word) >= 2:\n",
    "                word = re.sub(punctuationRegex, '', word)\n",
    "                filtered_content.append(word.lower())\n",
    "\n",
    "        #########################\n",
    "        # YOUR CLEANING CODE HERE\n",
    "        #########################\n",
    "    return filtered_content"
   ]
  },
  {
   "cell_type": "markdown",
   "metadata": {
    "id": "fYnnn1KC8jZ8"
   },
   "source": [
    "Finally, we put parse() and clean_line() function together and then extract the first 10,000 reviews into a new text file as your experiment dataset"
   ]
  },
  {
   "cell_type": "code",
   "execution_count": 18,
   "metadata": {
    "id": "FXjJSwnD8jvK"
   },
   "outputs": [
    {
     "name": "stderr",
     "output_type": "stream",
     "text": [
      "/Users/ryanli/opt/miniconda3/lib/python3.9/site-packages/ipykernel/ipkernel.py:283: DeprecationWarning: `should_run_async` will not call `transform_cell` automatically in the future. Please pass the result to `transformed_cell` argument and any exception that happen during thetransform in `preprocessing_exc_tuple` in IPython 7.17 and above.\n",
      "  and should_run_async(code)\n"
     ]
    }
   ],
   "source": [
    "def read_dataset(fname):\n",
    "    \"\"\" Read the 10000 lines in given dataset into list and clean stop words. \n",
    "        \n",
    "    Args: \n",
    "        fname (string): filename of Amazon Review Dataset\n",
    "        \n",
    "    Returns:\n",
    "        list of list of words: we view each document as a list, including a list of all words \n",
    "    \"\"\"\n",
    "    count = 0\n",
    "    exp_dataset = []\n",
    "    for review in parse(fname):\n",
    "        line = review[\"reviewText\"]\n",
    "        new_line = clean_line(line)\n",
    "        exp_dataset.append(new_line)\n",
    "        count += 1\n",
    "        if count > 10000:\n",
    "            break\n",
    "    return exp_dataset"
   ]
  },
  {
   "cell_type": "code",
   "execution_count": 19,
   "metadata": {
    "id": "4cRY1JaN8mIM"
   },
   "outputs": [
    {
     "name": "stderr",
     "output_type": "stream",
     "text": [
      "/Users/ryanli/opt/miniconda3/lib/python3.9/site-packages/ipykernel/ipkernel.py:283: DeprecationWarning: `should_run_async` will not call `transform_cell` automatically in the future. Please pass the result to `transformed_cell` argument and any exception that happen during thetransform in `preprocessing_exc_tuple` in IPython 7.17 and above.\n",
      "  and should_run_async(code)\n"
     ]
    },
    {
     "name": "stdout",
     "output_type": "stream",
     "text": [
      "CPU times: user 1.79 s, sys: 126 ms, total: 1.92 s\n",
      "Wall time: 1.92 s\n"
     ]
    }
   ],
   "source": [
    "%%time\n",
    "r = read_dataset(\"reviews_Cell_Phones_and_Accessories_5.json.gz\")"
   ]
  },
  {
   "cell_type": "markdown",
   "metadata": {
    "id": "2FQFnMjb8l1B"
   },
   "source": [
    "## 1.4 Topic Analysis\n",
    "\n",
    "**[5pts] Q1.4.1.1** Use topic numbers 3, 6, 9, 12, 15 respectively and print out all topics with 5 words.\n",
    "\n",
    "For this We will use gensim to train an LDA model. gensim requires the following steps:\n",
    "\n",
    "Construct a gensim.corpora.dictionary from the dataset\n",
    "Construct a gensim \"corpus\" using this dictionary, by mapping each word to an index in the dictionary\n",
    "Run LDA on this corpus"
   ]
  },
  {
   "cell_type": "code",
   "execution_count": 20,
   "metadata": {
    "id": "JzfOjF9I9kDD"
   },
   "outputs": [
    {
     "name": "stderr",
     "output_type": "stream",
     "text": [
      "/Users/ryanli/opt/miniconda3/lib/python3.9/site-packages/ipykernel/ipkernel.py:283: DeprecationWarning: `should_run_async` will not call `transform_cell` automatically in the future. Please pass the result to `transformed_cell` argument and any exception that happen during thetransform in `preprocessing_exc_tuple` in IPython 7.17 and above.\n",
      "  and should_run_async(code)\n"
     ]
    }
   ],
   "source": [
    "import gensim.corpora as corpora\n",
    "dictionary = gensim.corpora.Dictionary(r)# create a gensim dictionary, store it in variable \"dictionary\"\n",
    "corpus = [dictionary.doc2bow(text) for text in r] # create the gensim corpus, store it in variable \"corpus\""
   ]
  },
  {
   "cell_type": "markdown",
   "metadata": {
    "id": "xblcs_6-99gp"
   },
   "source": [
    "The function below prints the top num words in each topic for a given model."
   ]
  },
  {
   "cell_type": "code",
   "execution_count": 21,
   "metadata": {
    "id": "b_NopMJj951v"
   },
   "outputs": [
    {
     "name": "stderr",
     "output_type": "stream",
     "text": [
      "/Users/ryanli/opt/miniconda3/lib/python3.9/site-packages/ipykernel/ipkernel.py:283: DeprecationWarning: `should_run_async` will not call `transform_cell` automatically in the future. Please pass the result to `transformed_cell` argument and any exception that happen during thetransform in `preprocessing_exc_tuple` in IPython 7.17 and above.\n",
      "  and should_run_async(code)\n"
     ]
    }
   ],
   "source": [
    "def print_topic_words(model,num):\n",
    "    \"\"\" print top words in model topics.\n",
    "    \n",
    "    Args: \n",
    "        model: LDA model\n",
    "        \n",
    "    Returns:\n",
    "        none\n",
    "    \"\"\"    \n",
    "    #########################\n",
    "    # YOUR CODE HERE\n",
    "    num_topics = model.num_topics\n",
    "    for topic_id in range(model.num_topics):\n",
    "        \n",
    "        words = model.show_topic(topic_id, num)\n",
    "        print('Topic #'+str(topic_id))\n",
    "        print(words)\n",
    "    print('*'*100)\n",
    "    return"
   ]
  },
  {
   "cell_type": "markdown",
   "metadata": {
    "id": "56Sv1l9S-JeI"
   },
   "source": [
    "The following function builds multiple LDA models with number of topics specified in the list `num_topics`."
   ]
  },
  {
   "cell_type": "code",
   "execution_count": 22,
   "metadata": {
    "id": "NhGPQYTo-Jxx"
   },
   "outputs": [
    {
     "name": "stderr",
     "output_type": "stream",
     "text": [
      "/Users/ryanli/opt/miniconda3/lib/python3.9/site-packages/ipykernel/ipkernel.py:283: DeprecationWarning: `should_run_async` will not call `transform_cell` automatically in the future. Please pass the result to `transformed_cell` argument and any exception that happen during thetransform in `preprocessing_exc_tuple` in IPython 7.17 and above.\n",
      "  and should_run_async(code)\n"
     ]
    }
   ],
   "source": [
    "def build_num_topic_model(dictionary, corpus, num_topics):\n",
    "    \"\"\" Build lda model with given parameters, use print_topic_words to print words\n",
    "    \n",
    "    Args: \n",
    "        dictionary: dictionary built from dataset\n",
    "        corpus: corpus built from dataset\n",
    "        num_topics: list of numbers\n",
    "        \n",
    "    Returns:\n",
    "        none\n",
    "    \"\"\"    \n",
    "    for num_topic in num_topics:\n",
    "        #########################\n",
    "        # YOUR CODE HERE\n",
    "        #   - Build model\n",
    "        #   - Print the top 5 words\n",
    "        model = gensim.models.ldamodel.LdaModel(corpus=corpus, id2word=dictionary, num_topics=num_topic)\n",
    "        print_topic_words(model,5)\n",
    "        print()\n",
    "        #########################"
   ]
  },
  {
   "cell_type": "code",
   "execution_count": 23,
   "metadata": {
    "id": "k8NtFThx-Od0"
   },
   "outputs": [
    {
     "name": "stderr",
     "output_type": "stream",
     "text": [
      "/Users/ryanli/opt/miniconda3/lib/python3.9/site-packages/ipykernel/ipkernel.py:283: DeprecationWarning: `should_run_async` will not call `transform_cell` automatically in the future. Please pass the result to `transformed_cell` argument and any exception that happen during thetransform in `preprocessing_exc_tuple` in IPython 7.17 and above.\n",
      "  and should_run_async(code)\n"
     ]
    },
    {
     "name": "stdout",
     "output_type": "stream",
     "text": [
      "Topic #0\n",
      "[('iphone', 0.049988937), ('case', 0.044588145), ('mophie', 0.029491577), ('pack', 0.016167073), ('battery', 0.015551079)]\n",
      "Topic #1\n",
      "[('battery', 0.053863686), ('juice', 0.032217674), ('pack', 0.025239624), ('use', 0.021139733), ('iphone', 0.014763042)]\n",
      "Topic #2\n",
      "[('it', 0.011770983), ('', 0.010990056), ('the', 0.010160064), ('one', 0.009855113), ('headset', 0.00896502)]\n",
      "****************************************************************************************************\n",
      "\n",
      "Topic #0\n",
      "[('iphone', 0.060730338), ('case', 0.048411805), ('mophie', 0.036066864), ('pack', 0.030226164), ('juice', 0.017514575)]\n",
      "Topic #1\n",
      "[('phone', 0.025212038), ('', 0.009756702), ('it', 0.006486306), ('the', 0.0062855217), ('nokia', 0.005830606)]\n",
      "Topic #2\n",
      "[('chore', 0.021735761), ('', 0.016555201), ('phone', 0.016255949), ('the', 0.013253648), ('battery', 0.008088013)]\n",
      "Topic #3\n",
      "[('battery', 0.07535601), ('juice', 0.033460412), ('use', 0.022550948), ('packs', 0.022294905), ('addon', 0.017953185)]\n",
      "Topic #4\n",
      "[('it', 0.018092047), ('the', 0.01357703), ('works', 0.009031401), ('one', 0.0084875645), ('charger', 0.008487379)]\n",
      "Topic #5\n",
      "[('battery', 0.033448108), ('depth', 0.024660764), ('shed', 0.023491481), ('doubles', 0.019727886), ('juice', 0.019350667)]\n",
      "****************************************************************************************************\n",
      "\n",
      "Topic #0\n",
      "[('', 0.013399965), ('headset', 0.011195139), ('the', 0.01026294), ('sound', 0.0100378115), ('it', 0.009417792)]\n",
      "Topic #1\n",
      "[('jeans', 0.04032441), ('afford', 0.03214429), ('pocket', 0.032126807), ('case', 0.022572855), ('packs', 0.02207533)]\n",
      "Topic #2\n",
      "[('ear', 0.010716085), ('headset', 0.010705293), ('it', 0.008945575), ('the', 0.008465755), ('', 0.007923029)]\n",
      "Topic #3\n",
      "[('battery', 0.06794924), ('juice', 0.05357414), ('iphone', 0.026931776), ('use', 0.025504222), ('pack', 0.024402974)]\n",
      "Topic #4\n",
      "[('phone', 0.005569753), ('otterbox', 0.0030983167), ('case', 0.003000497), ('iphone', 0.002905604), ('belt', 0.0027501856)]\n",
      "Topic #5\n",
      "[('depth', 0.047129855), ('chore', 0.045366537), ('indicators', 0.040657707), ('round', 0.03206294), ('use', 0.020910447)]\n",
      "Topic #6\n",
      "[('mophie', 0.044429235), ('battery', 0.031780843), ('pack', 0.029753966), ('iphone', 0.026220683), ('the', 0.020310745)]\n",
      "Topic #7\n",
      "[('case', 0.14249006), ('iphone', 0.10763665), ('bottom', 0.030545874), ('matte', 0.030047478), ('bulk', 0.024476316)]\n",
      "Topic #8\n",
      "[('ear', 0.023304794), ('one', 0.011273804), ('the', 0.010706767), ('', 0.0076914104), ('good', 0.0064517776)]\n",
      "****************************************************************************************************\n",
      "\n",
      "Topic #0\n",
      "[('phone', 0.033437587), ('n', 0.02029127), ('camera', 0.01701345), ('', 0.009947426), ('the', 0.00878431)]\n",
      "Topic #1\n",
      "[('cable', 0.033513956), ('works', 0.01802505), ('work', 0.015509081), ('it', 0.012660433), ('great', 0.012120939)]\n",
      "Topic #2\n",
      "[('iphone', 0.05383972), ('case', 0.046995748), ('battery', 0.04511285), ('pack', 0.028889544), ('doubles', 0.023986598)]\n",
      "Topic #3\n",
      "[('loops', 0.007488123), ('phone', 0.00474112), ('', 0.0039490783), ('it', 0.00320709), ('grade', 0.0028761753)]\n",
      "Topic #4\n",
      "[('usb', 0.021007678), ('charger', 0.019100927), ('charge', 0.01733626), ('', 0.014650443), ('cable', 0.014454197)]\n",
      "Topic #5\n",
      "[('case', 0.015256979), ('', 0.011679472), ('good', 0.01155959), ('it', 0.011071538), ('phone', 0.010443613)]\n",
      "Topic #6\n",
      "[('', 0.032375928), ('the', 0.013734878), ('phone', 0.010321793), ('headset', 0.010008032), ('use', 0.00745206)]\n",
      "Topic #7\n",
      "[('juice', 0.0647375), ('iphone', 0.051919654), ('mophie', 0.043157183), ('case', 0.034868628), ('pack', 0.030433208)]\n",
      "Topic #8\n",
      "[('battery', 0.029137425), ('heft', 0.019551078), ('shed', 0.019262668), ('depth', 0.019096432), ('portability', 0.01889739)]\n",
      "Topic #9\n",
      "[('sound', 0.02045997), ('quality', 0.019394355), ('headset', 0.013209888), ('good', 0.012940927), ('the', 0.012055912)]\n",
      "Topic #10\n",
      "[('mophie', 0.13081421), ('chore', 0.1028071), ('case', 0.015604132), ('wearing', 0.01488472), ('the', 0.012020744)]\n",
      "Topic #11\n",
      "[('phone', 0.012894277), ('the', 0.0103597045), ('', 0.007468583), ('great', 0.007218316), ('it', 0.0071018576)]\n",
      "****************************************************************************************************\n",
      "\n",
      "Topic #0\n",
      "[('iphone', 0.035331883), ('gs', 0.026429344), ('it', 0.010819086), ('great', 0.008700517), ('product', 0.008048945)]\n",
      "Topic #1\n",
      "[('juice', 0.07784112), ('battery', 0.06418749), ('iphone', 0.029490737), ('trade', 0.02726192), ('increased', 0.027169129)]\n",
      "Topic #2\n",
      "[('the', 0.015835652), ('case', 0.015587554), ('use', 0.011977891), ('one', 0.011945349), ('phone', 0.011728513)]\n",
      "Topic #3\n",
      "[('headset', 0.023420885), ('bluetooth', 0.015204793), ('', 0.013330614), ('the', 0.01117781), ('headphones', 0.008446767)]\n",
      "Topic #4\n",
      "[('battery', 0.058722995), ('use', 0.021935757), ('extra', 0.021885075), ('need', 0.021299466), ('packs', 0.020999534)]\n",
      "Topic #5\n",
      "[('shed', 0.05552653), ('addon', 0.026653752), ('phone', 0.022245193), ('use', 0.013120688), ('the', 0.0129701765)]\n",
      "Topic #6\n",
      "[('iphone', 0.11490369), ('case', 0.11443563), ('mophie', 0.092860885), ('bottom', 0.036691163), ('pocket', 0.029011954)]\n",
      "Topic #7\n",
      "[('it', 0.0124197), ('phone', 0.0056719584), ('works', 0.005231663), ('this', 0.005160905), ('great', 0.0051017627)]\n",
      "Topic #8\n",
      "[('indicators', 0.018574141), ('chore', 0.017971773), ('round', 0.01753495), ('the', 0.014975294), ('use', 0.0145416455)]\n",
      "Topic #9\n",
      "[('one', 0.02378402), ('it', 0.0135599235), ('phone', 0.013382202), ('good', 0.0123992115), ('well', 0.011036244)]\n",
      "Topic #10\n",
      "[('ipad', 0.008079812), ('word', 0.0047998475), ('', 0.004608364), ('product', 0.0039943974), ('good', 0.0039774044)]\n",
      "Topic #11\n",
      "[('pack', 0.1117998), ('travelling', 0.05195673), ('juice', 0.048136707), ('battery', 0.04060678), ('afford', 0.038041648)]\n",
      "Topic #12\n",
      "[('cable', 0.041248135), ('price', 0.01824455), ('works', 0.015823437), ('it', 0.01282719), ('good', 0.012024066)]\n",
      "Topic #13\n",
      "[('it', 0.00528682), ('use', 0.0051802928), ('this', 0.0049495595), ('would', 0.0045988085), ('timely', 0.0045871367)]\n",
      "Topic #14\n",
      "[('phone', 0.020641403), ('screen', 0.011001832), ('the', 0.01016877), ('email', 0.009359231), ('device', 0.007116174)]\n",
      "****************************************************************************************************\n",
      "\n"
     ]
    }
   ],
   "source": [
    "build_num_topic_model(dictionary, corpus, [3, 6, 9, 12, 15])"
   ]
  },
  {
   "cell_type": "markdown",
   "metadata": {
    "id": "m8vkk6bo-UEi"
   },
   "source": [
    "**[3pts] Q1.4.1.2**  Explain what could be interpreted for each topics, and describe the similarity and difference between different topic numbers."
   ]
  },
  {
   "cell_type": "markdown",
   "metadata": {
    "id": "BRLNs647-VF7"
   },
   "source": [
    "From all the topics, we can see that they are related to the product. For example, topic 0 is related to the product's quality, topic 1 is related to the product's price, topic 2 is related to the product's shipping, and topic 3 is related to the product's accessories. The topics are different from each other because the number of topics is different. The more topics, the more detailed the topics are."
   ]
  },
  {
   "cell_type": "markdown",
   "metadata": {
    "id": "ERTTf2sGDIPp"
   },
   "source": [
    "**[2pts] Q1.4.1.3**  Which topic number would you choose? Explain."
   ]
  },
  {
   "cell_type": "markdown",
   "metadata": {
    "id": "UOgDUPcvDLs8"
   },
   "source": [
    "I would choose topic 3 because it is the most detailed topic. It has the most words in the topic, and the words in the topic are more related to the product."
   ]
  },
  {
   "cell_type": "markdown",
   "metadata": {
    "id": "sJfqY1reDX5s"
   },
   "source": [
    "## 1.5 Model Evaluation\n",
    "\n",
    "**[12 pts] Q1.5.1** Now we investigate two methods to evaluate our model and choose the topic number\n",
    "\n",
    "1.Perplexity is a measurement of how well a probability distribution or probability model predicts a sample. A low perplexity indicates the probability distribution is good at predicting the sample. We can use model.log_perplexity(document) to evaluate the perplexity of our LDA model.\n",
    "\n",
    "2.Topic coherence is a one type of interpretability measurement for a topic. It measures if a set of top keywords describe a coherent and singular concept. A good topic will have high topic coherence score. We can use CoherenceModel(model=ldamodel).get_coherence() to calculate it.\n",
    "\n",
    "Plot Perplexity and topic coherence scores of our LDA model for topic number 3,6,9,12,15,20,50."
   ]
  },
  {
   "cell_type": "markdown",
   "metadata": {
    "id": "ni7eZRSIDsIU"
   },
   "source": [
    "The code below trains topic models with different numbers of topics and measures their coherence and perplexity."
   ]
  },
  {
   "cell_type": "code",
   "execution_count": 62,
   "metadata": {
    "id": "1ue1Pf4--UjO"
   },
   "outputs": [
    {
     "name": "stderr",
     "output_type": "stream",
     "text": [
      "/Users/ryanli/opt/miniconda3/lib/python3.9/site-packages/ipykernel/ipkernel.py:283: DeprecationWarning: `should_run_async` will not call `transform_cell` automatically in the future. Please pass the result to `transformed_cell` argument and any exception that happen during thetransform in `preprocessing_exc_tuple` in IPython 7.17 and above.\n",
      "  and should_run_async(code)\n"
     ]
    }
   ],
   "source": [
    "# perplexity \n",
    "# run different number of topics to get perplexity and coherence value for this model\n",
    "from gensim.models.coherencemodel import CoherenceModel\n",
    "def get_measurement_for_model(dictionary, corpus, topic_nums):\n",
    "    \"\"\" Build lda model with given parameters \n",
    "    \n",
    "    Args: \n",
    "        dictionary: dictionary built from dataset\n",
    "        corpus: corpus built from dataset\n",
    "        topic_nums: a list contains all possible topic number\n",
    "        \n",
    "    Returns:\n",
    "        2 lists: one of perplexities, and one of coherence value\n",
    "    \"\"\"  \n",
    "    perplexity = []\n",
    "    coherence_value=[]\n",
    "    for num_topic in topic_nums:\n",
    "        #########################\n",
    "        # YOUR CODE HERE\n",
    "        #   - Build model\n",
    "        #   - Compute and store coherence\n",
    "        #   - Compute and store perplexity\n",
    "        lda_model = gensim.models.ldamodel.LdaModel(corpus=corpus, id2word=dictionary, num_topics=num_topic)\n",
    "        coherence_model_lda = CoherenceModel(model=lda_model, texts=r, dictionary=dictionary, coherence='c_v')\n",
    "        coherence_lda = coherence_model_lda.get_coherence()\n",
    "        coherence_value.append(coherence_lda)\n",
    "        perplexity.append(lda_model.log_perplexity(corpus))\n",
    "        #########################\n",
    "    return perplexity,coherence_value"
   ]
  },
  {
   "cell_type": "code",
   "execution_count": 63,
   "metadata": {
    "id": "nX_zj0RoD4j0"
   },
   "outputs": [
    {
     "name": "stderr",
     "output_type": "stream",
     "text": [
      "/Users/ryanli/opt/miniconda3/lib/python3.9/site-packages/ipykernel/ipkernel.py:283: DeprecationWarning: `should_run_async` will not call `transform_cell` automatically in the future. Please pass the result to `transformed_cell` argument and any exception that happen during thetransform in `preprocessing_exc_tuple` in IPython 7.17 and above.\n",
      "  and should_run_async(code)\n"
     ]
    }
   ],
   "source": [
    "perplexity, coherence = get_measurement_for_model(dictionary, corpus, [3, 6, 9, 12, 15, 20, 50])"
   ]
  },
  {
   "cell_type": "code",
   "execution_count": 64,
   "metadata": {
    "id": "yk-ojlJSD85k"
   },
   "outputs": [
    {
     "name": "stdout",
     "output_type": "stream",
     "text": [
      "[-7.989182071149332, -8.390229442833055, -8.346125040279292, -8.633199534861175, -8.83779426863714, -9.140899563844522, -10.91491858770547]\n",
      "[0.2903301449275196, 0.2765158146490121, 0.28660017179148223, 0.26913343896078196, 0.27619421568994695, 0.2801812799751062, 0.3010712490269261]\n"
     ]
    },
    {
     "name": "stderr",
     "output_type": "stream",
     "text": [
      "/Users/ryanli/opt/miniconda3/lib/python3.9/site-packages/ipykernel/ipkernel.py:283: DeprecationWarning: `should_run_async` will not call `transform_cell` automatically in the future. Please pass the result to `transformed_cell` argument and any exception that happen during thetransform in `preprocessing_exc_tuple` in IPython 7.17 and above.\n",
      "  and should_run_async(code)\n"
     ]
    }
   ],
   "source": [
    "print(perplexity)\n",
    "print(coherence)"
   ]
  },
  {
   "cell_type": "markdown",
   "metadata": {
    "id": "PcYTqBizD9az"
   },
   "source": [
    "We can now plot the coherence and perplexity of each model."
   ]
  },
  {
   "cell_type": "code",
   "execution_count": 27,
   "metadata": {
    "id": "1B9scv8sD_n8"
   },
   "outputs": [
    {
     "name": "stderr",
     "output_type": "stream",
     "text": [
      "/Users/ryanli/opt/miniconda3/lib/python3.9/site-packages/ipykernel/ipkernel.py:283: DeprecationWarning: `should_run_async` will not call `transform_cell` automatically in the future. Please pass the result to `transformed_cell` argument and any exception that happen during thetransform in `preprocessing_exc_tuple` in IPython 7.17 and above.\n",
      "  and should_run_async(code)\n"
     ]
    }
   ],
   "source": [
    "import matplotlib.pyplot as plt"
   ]
  },
  {
   "cell_type": "code",
   "execution_count": 65,
   "metadata": {
    "id": "G76jh0BXECKs"
   },
   "outputs": [
    {
     "name": "stderr",
     "output_type": "stream",
     "text": [
      "/Users/ryanli/opt/miniconda3/lib/python3.9/site-packages/ipykernel/ipkernel.py:283: DeprecationWarning: `should_run_async` will not call `transform_cell` automatically in the future. Please pass the result to `transformed_cell` argument and any exception that happen during thetransform in `preprocessing_exc_tuple` in IPython 7.17 and above.\n",
      "  and should_run_async(code)\n"
     ]
    },
    {
     "data": {
      "image/png": "[encoded data removed]",
      "text/plain": [
       "<Figure size 432x288 with 1 Axes>"
      ]
     },
     "metadata": {
      "needs_background": "light"
     },
     "output_type": "display_data"
    }
   ],
   "source": [
    "plt.plot([3, 6, 9, 12, 15, 20, 50], perplexity)\n",
    "plt.grid()\n",
    "plt.xlabel(\"Number of topics\")\n",
    "plt.ylabel(\"Perplexity\")\n",
    "plt.show()"
   ]
  },
  {
   "cell_type": "markdown",
   "metadata": {
    "id": "WUDG-rr5ELQN"
   },
   "source": [
    "**[2pts] Q1.5.2**  From the above graph what topic number would you choose and why? Is it a good idea to choose the topic number based on perplexity? why or why not?"
   ]
  },
  {
   "cell_type": "markdown",
   "metadata": {
    "id": "q5SLdipiENoi"
   },
   "source": [
    "I would choose 50 because it has the lowest perplexity. It is a good idea to choose the topic number based on perplexity because it is a measurement of how well a probability distribution or probability model predicts a sample. A low perplexity indicates the probability distribution is good at predicting the sample. However, coherence is also important because it measures if a set of top keywords describe a coherent and singular concept. A good topic will have high topic coherence score."
   ]
  },
  {
   "cell_type": "code",
   "execution_count": 66,
   "metadata": {
    "id": "EBhTyUQdELuW"
   },
   "outputs": [
    {
     "name": "stderr",
     "output_type": "stream",
     "text": [
      "/Users/ryanli/opt/miniconda3/lib/python3.9/site-packages/ipykernel/ipkernel.py:283: DeprecationWarning: `should_run_async` will not call `transform_cell` automatically in the future. Please pass the result to `transformed_cell` argument and any exception that happen during thetransform in `preprocessing_exc_tuple` in IPython 7.17 and above.\n",
      "  and should_run_async(code)\n"
     ]
    },
    {
     "data": {
      "image/png": "[encoded data removed]",
      "text/plain": [
       "<Figure size 432x288 with 1 Axes>"
      ]
     },
     "metadata": {
      "needs_background": "light"
     },
     "output_type": "display_data"
    }
   ],
   "source": [
    "plt.plot([3, 6, 9, 12, 15, 20, 50], coherence)\n",
    "plt.grid()\n",
    "plt.xlabel(\"Number of topics\")\n",
    "plt.ylabel(\"Coherence\")\n",
    "plt.show()"
   ]
  },
  {
   "cell_type": "markdown",
   "metadata": {
    "id": "VnCOd2_CEY2W"
   },
   "source": [
    "**[2pts] Q1.5.3**  From the above graph what topic number would you choose and why?"
   ]
  },
  {
   "cell_type": "markdown",
   "metadata": {
    "id": "Mm5bcHV4EcOa"
   },
   "source": [
    "I will choose 50 because it has the highest coherence. It is a good idea to choose the topic number based on coherence because it measures if a set of top keywords describe a coherent and singular concept. A good topic will have high topic coherence score."
   ]
  },
  {
   "cell_type": "markdown",
   "metadata": {
    "id": "ppxl4L4cElVA"
   },
   "source": [
    "**[4pts]Q1.5.4** Compare two methods you implemented in the previous quesions, which one do you think is better and why? In answering, please discuss the actual topics generated."
   ]
  },
  {
   "cell_type": "markdown",
   "metadata": {
    "id": "XMiQEut8Em__"
   },
   "source": [
    "I would choose 50 because it has the highest coherence even though it is not the lowest perplexity. The both features are important. The coherence is more important than the perplexity because the coherence is a measurement of interpretability."
   ]
  },
  {
   "cell_type": "markdown",
   "metadata": {
    "id": "hBkDhQzGFPyp"
   },
   "source": [
    "## 1.6 Alpha and Beta in LDA"
   ]
  },
  {
   "cell_type": "markdown",
   "metadata": {
    "id": "Jelhz4KFFgde"
   },
   "source": [
    "**[7pts]Q1.6.1** In this problem, we will check the two most important parameters in LDA model: alpha and beta. Alpha represents document-topic density - with a higher alpha, documents are made up of more topics, and with lower alpha, documents contain fewer topics. Beta represents topic-word density - with a high beta, topics are made up of most of the words in the corpus, and with a low beta they consist of few words."
   ]
  },
  {
   "cell_type": "code",
   "execution_count": 67,
   "metadata": {
    "id": "x7Wr3DphEb2O"
   },
   "outputs": [
    {
     "name": "stderr",
     "output_type": "stream",
     "text": [
      "/Users/ryanli/opt/miniconda3/lib/python3.9/site-packages/ipykernel/ipkernel.py:283: DeprecationWarning: `should_run_async` will not call `transform_cell` automatically in the future. Please pass the result to `transformed_cell` argument and any exception that happen during thetransform in `preprocessing_exc_tuple` in IPython 7.17 and above.\n",
      "  and should_run_async(code)\n"
     ]
    }
   ],
   "source": [
    "best_topic_num = 50 # CHANGE THIS"
   ]
  },
  {
   "cell_type": "code",
   "execution_count": 68,
   "metadata": {
    "id": "8AP4Hn1uFkkc"
   },
   "outputs": [
    {
     "name": "stderr",
     "output_type": "stream",
     "text": [
      "/Users/ryanli/opt/miniconda3/lib/python3.9/site-packages/ipykernel/ipkernel.py:283: DeprecationWarning: `should_run_async` will not call `transform_cell` automatically in the future. Please pass the result to `transformed_cell` argument and any exception that happen during thetransform in `preprocessing_exc_tuple` in IPython 7.17 and above.\n",
      "  and should_run_async(code)\n"
     ]
    },
    {
     "name": "stdout",
     "output_type": "stream",
     "text": [
      "Topic #0\n",
      "[('n', 0.08150391), ('original', 0.031707175), ('good', 0.022617655), ('works', 0.021976823), ('price', 0.011978005)]\n",
      "Topic #1\n",
      "[('lacks', 0.015647171), ('thicker', 0.011835372), ('tips', 0.011807772), ('igo', 0.011707211), ('sync', 0.010087838)]\n",
      "Topic #2\n",
      "[('phone', 0.015390878), ('the', 0.011762522), ('', 0.009820316), ('led', 0.0087164985), ('it', 0.007119962)]\n",
      "Topic #3\n",
      "[('battery', 0.023713734), ('pod', 0.014484513), ('the', 0.009952275), ('old', 0.009927774), ('it', 0.00966524)]\n",
      "Topic #4\n",
      "[('pack', 0.033400457), ('mirror', 0.027951114), ('screens', 0.020829944), ('the', 0.013018089), ('wonderful', 0.008920175)]\n",
      "Topic #5\n",
      "[('phone', 0.026403463), ('', 0.0183843), ('the', 0.017029699), ('it', 0.009529888), ('get', 0.008001397)]\n",
      "Topic #6\n",
      "[('phone', 0.018074982), ('one', 0.017590076), ('velcro', 0.01044999), ('n', 0.009737546), ('duty', 0.0082156975)]\n",
      "Topic #7\n",
      "[('juice', 0.49867427), ('air', 0.052546278), ('extra', 0.025661541), ('for', 0.022732276), ('use', 0.022527141)]\n",
      "Topic #8\n",
      "[('flashlight', 0.053401634), ('affordable', 0.014687794), ('rate', 0.010503267), ('rapid', 0.008528651), ('lined', 0.008504638)]\n",
      "Topic #9\n",
      "[('phone', 0.021966329), ('case', 0.020538151), ('purse', 0.0138481995), ('pouch', 0.01170281), ('would', 0.010195203)]\n",
      "Topic #10\n",
      "[('seller', 0.0846574), ('shipped', 0.022499163), ('refund', 0.021171927), ('itouch', 0.0132743055), ('fantastic', 0.0118661765)]\n",
      "Topic #11\n",
      "[('', 0.02772597), ('blueant', 0.0157241), ('headset', 0.009983467), ('phone', 0.009720894), ('the', 0.008902677)]\n",
      "Topic #12\n",
      "[('bubble', 0.030781435), ('cam', 0.0036592647), ('rendered', 0.0032812227), ('restored', 0.0022876416), ('bam', 0.0018173596)]\n",
      "Topic #13\n",
      "[('jeans', 0.18138456), ('afford', 0.18015544), ('purse', 0.052629236), ('matte', 0.045941856), ('convenient', 0.036689088)]\n",
      "Topic #14\n",
      "[('phone', 0.012801644), ('', 0.01270811), ('sweat', 0.012332326), ('mount', 0.008863422), ('the', 0.008350288)]\n",
      "Topic #15\n",
      "[('loops', 0.03233592), ('ps', 0.02900893), ('spending', 0.011040307), ('gifts', 0.008854071), ('intended', 0.008686149)]\n",
      "Topic #16\n",
      "[('', 0.024221692), ('phone', 0.012333863), ('penny', 0.0061500347), ('good', 0.0058604595), ('screen', 0.0058020963)]\n",
      "Topic #17\n",
      "[('headphones', 0.025398223), ('sound', 0.023503825), ('use', 0.013769354), ('quality', 0.013741889), ('bluetooth', 0.013539093)]\n",
      "Topic #18\n",
      "[('it', 0.02601932), ('product', 0.012701698), ('iphone', 0.011101681), ('this', 0.010265709), ('works', 0.00831027)]\n",
      "Topic #19\n",
      "[('pack', 0.05052211), ('battery', 0.041913625), ('use', 0.02755823), ('doubles', 0.026550064), ('iphone', 0.016488058)]\n",
      "Topic #20\n",
      "[('otterbox', 0.021030359), ('iphone', 0.012082325), ('', 0.010314211), ('the', 0.01029776), ('it', 0.008022535)]\n",
      "Topic #21\n",
      "[('ok', 0.031032855), ('daughter', 0.01972418), ('gift', 0.017652556), ('it', 0.012442405), ('product', 0.011264591)]\n",
      "Topic #22\n",
      "[('headset', 0.034030516), ('ear', 0.03398249), ('the', 0.021178687), ('it', 0.013661281), ('bluetooth', 0.01256133)]\n",
      "Topic #23\n",
      "[('cable', 0.06760532), ('great', 0.043141626), ('works', 0.0346477), ('product', 0.028907737), ('one', 0.022312162)]\n",
      "Topic #24\n",
      "[('case', 0.12973256), ('iphone', 0.07302019), ('increased', 0.036834635), ('accessible', 0.033440925), ('pocket', 0.02759473)]\n",
      "Topic #25\n",
      "[('heft', 0.06916502), ('chore', 0.065072514), ('depth', 0.06482637), ('wearing', 0.016560556), ('life', 0.015156227)]\n",
      "Topic #26\n",
      "[('travelling', 0.4512853), ('thanks', 0.041919213), ('convenient', 0.034737106), ('great', 0.026524166), ('taking', 0.015485113)]\n",
      "Topic #27\n",
      "[('', 0.024081847), ('usb', 0.019472936), ('computer', 0.015122433), ('plug', 0.008938273), ('port', 0.007975126)]\n",
      "Topic #28\n",
      "[('protector', 0.056678344), ('screen', 0.050192293), ('it', 0.036768593), ('great', 0.026718738), ('works', 0.024452584)]\n",
      "Topic #29\n",
      "[('phone', 0.019074183), ('', 0.017149758), ('battery', 0.013709087), ('it', 0.009462544), ('this', 0.008579075)]\n",
      "Topic #30\n",
      "[('samsung', 0.05586437), ('s', 0.030907726), ('galaxy', 0.025308654), ('it', 0.019901648), ('one', 0.014990237)]\n",
      "Topic #31\n",
      "[('phone', 0.035851322), ('it', 0.011481166), ('the', 0.008856471), ('', 0.008557167), ('use', 0.007538767)]\n",
      "Topic #32\n",
      "[('didnt', 0.019977925), ('phone', 0.014637157), ('time', 0.008399577), ('icons', 0.006709329), ('hoping', 0.0058139837)]\n",
      "Topic #33\n",
      "[('screen', 0.024627907), ('phone', 0.01978811), ('case', 0.01734226), ('one', 0.017322892), ('like', 0.015295189)]\n",
      "Topic #34\n",
      "[('iphone', 0.479854), ('gs', 0.1291745), ('shed', 0.12559545), ('protective', 0.043148004), ('pack', 0.0256681)]\n",
      "Topic #35\n",
      "[('mophie', 0.27174), ('case', 0.08968944), ('bulk', 0.060948893), ('finish', 0.051669303), ('matte', 0.05054209)]\n",
      "Topic #36\n",
      "[('phone', 0.04337674), ('it', 0.01377613), ('', 0.013171715), ('use', 0.01289538), ('phones', 0.012127003)]\n",
      "Topic #37\n",
      "[('', 0.031733435), ('tip', 0.022382153), ('connectors', 0.016716909), ('phone', 0.011189049), ('the', 0.007864059)]\n",
      "Topic #38\n",
      "[('cheap', 0.011034539), ('mics', 0.010673437), ('scratched', 0.010496814), ('ip', 0.008909802), ('alternate', 0.008422939)]\n",
      "Topic #39\n",
      "[('phone', 0.033891294), ('microusb', 0.02478277), ('lg', 0.020448413), ('cable', 0.020321863), ('e', 0.019260745)]\n",
      "Topic #40\n",
      "[('work', 0.02390374), ('dont', 0.019188099), ('waste', 0.012386325), ('buy', 0.012143031), ('spend', 0.011434159)]\n",
      "Topic #41\n",
      "[('described', 0.017363744), ('the', 0.014161457), ('it', 0.012422122), ('evo', 0.011035296), ('nexus', 0.010511671)]\n",
      "Topic #42\n",
      "[('jacket', 0.36310437), ('air', 0.05991357), ('pocket', 0.039723184), ('bottom', 0.028704744), ('case', 0.019913428)]\n",
      "Topic #43\n",
      "[('battery', 0.15366985), ('juice', 0.10062175), ('portability', 0.062236436), ('wife', 0.022639873), ('iphones', 0.022588626)]\n",
      "Topic #44\n",
      "[('film', 0.016757764), ('the', 0.014528215), ('earphones', 0.0109294355), ('booster', 0.01090841), ('earbuds', 0.009144088)]\n",
      "Topic #45\n",
      "[('', 0.014568037), ('quality', 0.014457493), ('one', 0.01344864), ('working', 0.01212067), ('tooth', 0.011387442)]\n",
      "Topic #46\n",
      "[('phone', 0.03566572), ('it', 0.022548955), ('case', 0.021441573), ('one', 0.014330054), ('screen', 0.013493303)]\n",
      "Topic #47\n",
      "[('apple', 0.07717839), ('de', 0.019406296), ('brands', 0.00969916), ('product', 0.008546699), ('', 0.008039034)]\n",
      "Topic #48\n",
      "[('phone', 0.021200474), ('dock', 0.014655319), ('unit', 0.013212308), ('the', 0.010967679), ('well', 0.007238499)]\n",
      "Topic #49\n",
      "[('he', 0.023444582), ('husband', 0.020740457), ('lol', 0.0102017615), ('likes', 0.009979018), ('constructed', 0.009382218)]\n",
      "****************************************************************************************************\n"
     ]
    }
   ],
   "source": [
    "#model 1\n",
    "#########################\n",
    "# YOUR CODE HERE\n",
    "#   - Build model for alpha = 1/num_topic = eta\n",
    "#   - Print top words\n",
    "model1 = gensim.models.ldamodel.LdaModel(corpus=corpus, id2word=dictionary, num_topics=best_topic_num, alpha=1/best_topic_num, eta=1/best_topic_num)\n",
    "print_topic_words(model1,5)\n",
    "#########################"
   ]
  },
  {
   "cell_type": "code",
   "execution_count": 69,
   "metadata": {
    "id": "3WDzHIzGFm7v"
   },
   "outputs": [
    {
     "name": "stderr",
     "output_type": "stream",
     "text": [
      "/Users/ryanli/opt/miniconda3/lib/python3.9/site-packages/ipykernel/ipkernel.py:283: DeprecationWarning: `should_run_async` will not call `transform_cell` automatically in the future. Please pass the result to `transformed_cell` argument and any exception that happen during thetransform in `preprocessing_exc_tuple` in IPython 7.17 and above.\n",
      "  and should_run_async(code)\n"
     ]
    },
    {
     "name": "stdout",
     "output_type": "stream",
     "text": [
      "Topic #0\n",
      "[('phone', 0.0020630762), ('encumbered', 0.0017770107), ('beefs', 0.0017770107), ('attachedif', 0.0017770107), ('effectly', 0.0017770107)]\n",
      "Topic #1\n",
      "[('the', 0.0033137626), ('it', 0.0032906923), ('', 0.0030425761), ('phone', 0.0027707843), ('one', 0.002485853)]\n",
      "Topic #2\n",
      "[('works', 0.015176524), ('it', 0.013756396), ('phone', 0.011935157), ('one', 0.011423237), ('cable', 0.009912332)]\n",
      "Topic #3\n",
      "[('one', 0.0027666225), ('great', 0.0022899495), ('works', 0.0020769553), ('price', 0.0018719853), ('phone', 0.0017766245)]\n",
      "Topic #4\n",
      "[('it', 0.00316266), ('', 0.00276303), ('encumbered', 0.0017132206), ('attachedif', 0.0017132206), ('effectly', 0.0017132206)]\n",
      "Topic #5\n",
      "[('beefs', 0.0018398087), ('effectly', 0.0018398087), ('encumbered', 0.0018398087), ('attachedif', 0.0018398087), ('phone', 0.0016889035)]\n",
      "Topic #6\n",
      "[('it', 0.002437534), ('great', 0.0019352613), ('phone', 0.0019272502), ('effectly', 0.0018195558), ('attachedif', 0.0018195558)]\n",
      "Topic #7\n",
      "[('it', 0.003038537), ('phone', 0.002063638), ('great', 0.0019847583), ('one', 0.0019798211), ('good', 0.001849653)]\n",
      "Topic #8\n",
      "[('pre', 0.0037843247), ('it', 0.0019429433), ('beefs', 0.001796659), ('attachedif', 0.001796659), ('encumbered', 0.001796659)]\n",
      "Topic #9\n",
      "[('gs', 0.0037991167), ('one', 0.002411876), ('use', 0.0023385787), ('this', 0.0022846768), ('it', 0.0021240688)]\n",
      "Topic #10\n",
      "[('it', 0.0031591544), ('one', 0.002208035), ('great', 0.001935799), ('phone', 0.0018227089), ('beefs', 0.0016651202)]\n",
      "Topic #11\n",
      "[('phone', 0.002071717), ('effectly', 0.0017961921), ('beefs', 0.0017961921), ('attachedif', 0.0017961921), ('encumbered', 0.0017961921)]\n",
      "Topic #12\n",
      "[('it', 0.0023174724), ('great', 0.0020272308), ('beefs', 0.0018124571), ('attachedif', 0.0018124571), ('effectly', 0.0018124571)]\n",
      "Topic #13\n",
      "[('it', 0.0035628728), ('docking', 0.0030746905), ('phone', 0.0027159948), ('great', 0.002080564), ('', 0.0020278087)]\n",
      "Topic #14\n",
      "[('phone', 0.0030826097), ('it', 0.0027022955), ('beefs', 0.0017761315), ('encumbered', 0.0017761315), ('attachedif', 0.0017761315)]\n",
      "Topic #15\n",
      "[('great', 0.0025329073), ('it', 0.0022246875), ('one', 0.002024246), ('works', 0.0018577151), ('the', 0.0017139147)]\n",
      "Topic #16\n",
      "[('case', 0.097491294), ('matte', 0.06414093), ('finish', 0.04093917), ('bottom', 0.036798656), ('bulk', 0.034011416)]\n",
      "Topic #17\n",
      "[('phone', 0.023629239), ('nokia', 0.009087533), ('trade', 0.008147552), ('', 0.007988902), ('the', 0.007176746)]\n",
      "Topic #18\n",
      "[('it', 0.0023117096), ('use', 0.0021047902), ('phone', 0.0019691496), ('encumbered', 0.001687233), ('attachedif', 0.001687233)]\n",
      "Topic #19\n",
      "[('phone', 0.002539598), ('it', 0.002006972), ('beefs', 0.0018106925), ('attachedif', 0.0018106925), ('effectly', 0.0018106925)]\n",
      "Topic #20\n",
      "[('great', 0.003230138), ('it', 0.00293434), ('works', 0.002192954), ('effectly', 0.0017271835), ('encumbered', 0.0017271835)]\n",
      "Topic #21\n",
      "[('attachedif', 0.0017804027), ('encumbered', 0.0017804027), ('beefs', 0.0017804027), ('effectly', 0.0017804027), ('iphone', 0.0017643525)]\n",
      "Topic #22\n",
      "[('effectly', 0.0018141348), ('encumbered', 0.0018141348), ('beefs', 0.0018141348), ('attachedif', 0.0018141348), ('it', 0.0017193679)]\n",
      "Topic #23\n",
      "[('it', 0.0031893454), ('the', 0.0028190014), ('phone', 0.002493897), ('', 0.0021971595), ('product', 0.0021460203)]\n",
      "Topic #24\n",
      "[('case', 0.16700569), ('iphone', 0.11167659), ('protective', 0.036640797), ('tight', 0.03457078), ('mophie', 0.030043568)]\n",
      "Topic #25\n",
      "[('', 0.015172238), ('phone', 0.012388529), ('n', 0.011116254), ('signal', 0.00890976), ('cell', 0.0068544853)]\n",
      "Topic #26\n",
      "[('phone', 0.0024971743), ('great', 0.0024144321), ('', 0.0019752267), ('use', 0.0019598792), ('the', 0.0018906761)]\n",
      "Topic #27\n",
      "[('effectly', 0.0018275362), ('encumbered', 0.0018275362), ('attachedif', 0.0018275362), ('beefs', 0.0018275362), ('the', 0.001713511)]\n",
      "Topic #28\n",
      "[('it', 0.0034913733), ('phone', 0.0024893908), ('use', 0.0017142455), ('beefs', 0.0016884308), ('encumbered', 0.0016884308)]\n",
      "Topic #29\n",
      "[('vent', 0.002612636), ('it', 0.0025395148), ('the', 0.002288905), ('great', 0.0019763075), ('encumbered', 0.0015931278)]\n",
      "Topic #30\n",
      "[('great', 0.0023892939), ('it', 0.0023376571), ('phone', 0.0018390426), ('one', 0.0018043182), ('the', 0.0017931784)]\n",
      "Topic #31\n",
      "[('phone', 0.002264492), ('it', 0.0022069665), ('the', 0.0021205433), ('encumbered', 0.0017184872), ('attachedif', 0.0017184872)]\n",
      "Topic #32\n",
      "[('great', 0.0026642669), ('it', 0.0019375858), ('effectly', 0.0018548579), ('attachedif', 0.0018548579), ('encumbered', 0.0018548579)]\n",
      "Topic #33\n",
      "[('effectly', 0.001861425), ('encumbered', 0.001861425), ('beefs', 0.001861425), ('attachedif', 0.001861425), ('great', 0.0018430701)]\n",
      "Topic #34\n",
      "[('the', 0.021598749), ('heft', 0.018342437), ('use', 0.018209541), ('jacket', 0.015543001), ('doubles', 0.015327671)]\n",
      "Topic #35\n",
      "[('it', 0.00260338), ('phone', 0.0024178256), ('the', 0.002093597), ('attachedif', 0.0016619483), ('effectly', 0.0016619483)]\n",
      "Topic #36\n",
      "[('phone', 0.0022077782), ('it', 0.0019335755), ('beefs', 0.0017927049), ('encumbered', 0.0017927049), ('effectly', 0.0017927049)]\n",
      "Topic #37\n",
      "[('effectly', 0.0018390476), ('beefs', 0.0018390476), ('attachedif', 0.0018390476), ('encumbered', 0.0018390476), ('phone', 0.0017386469)]\n",
      "Topic #38\n",
      "[('de', 0.0038594746), ('bateria', 0.0017417548), ('effectly', 0.0017029488), ('attachedif', 0.0017029488), ('encumbered', 0.0017029488)]\n",
      "Topic #39\n",
      "[('beefs', 0.001841758), ('effectly', 0.001841758), ('encumbered', 0.001841758), ('attachedif', 0.001841758), ('it', 0.0017980055)]\n",
      "Topic #40\n",
      "[('it', 0.0033519578), ('great', 0.0027466628), ('price', 0.001888066), ('works', 0.0017780063), ('one', 0.0017719045)]\n",
      "Topic #41\n",
      "[('phone', 0.0023792514), ('it', 0.0019182453), ('attachedif', 0.0017400242), ('encumbered', 0.0017400242), ('beefs', 0.0017400242)]\n",
      "Topic #42\n",
      "[('iphone', 0.027835263), ('doubles', 0.020757252), ('chore', 0.019331604), ('dimensions', 0.01581044), ('depth', 0.015141637)]\n",
      "Topic #43\n",
      "[('it', 0.007260741), ('phone', 0.0062719393), ('use', 0.0061774747), ('', 0.003845984), ('the', 0.0032171062)]\n",
      "Topic #44\n",
      "[('the', 0.0018616312), ('beefs', 0.0018383483), ('effectly', 0.0018383483), ('encumbered', 0.0018383483), ('attachedif', 0.0018383483)]\n",
      "Topic #45\n",
      "[('headset', 0.024804452), ('the', 0.014625299), ('sound', 0.012284124), ('great', 0.011144993), ('ear', 0.0105548)]\n",
      "Topic #46\n",
      "[('one', 0.002594007), ('it', 0.0017569589), ('beefs', 0.0017410796), ('encumbered', 0.0017410796), ('effectly', 0.0017410796)]\n",
      "Topic #47\n",
      "[('phone', 0.0022102634), ('it', 0.001986995), ('beefs', 0.001685129), ('encumbered', 0.001685129), ('attachedif', 0.001685129)]\n",
      "Topic #48\n",
      "[('battery', 0.06990224), ('juice', 0.04597884), ('pack', 0.045224667), ('mophie', 0.040010232), ('iphone', 0.038663134)]\n",
      "Topic #49\n",
      "[('good', 0.0018333701), ('beefs', 0.0018285607), ('effectly', 0.0018285607), ('attachedif', 0.0018285607), ('encumbered', 0.0018285607)]\n",
      "****************************************************************************************************\n"
     ]
    }
   ],
   "source": [
    "#model 2\n",
    "model2 = gensim.models.ldamodel.LdaModel(corpus=corpus, id2word=dictionary, num_topics=best_topic_num, alpha=1/2, eta=1/5)\n",
    "print_topic_words(model2,5)\n",
    "#########################\n",
    "# YOUR CODE HERE\n",
    "#   - Build model for alpha = 1/2, eta = 1/5\n",
    "#   - Print top words\n",
    "#########################"
   ]
  },
  {
   "cell_type": "code",
   "execution_count": 70,
   "metadata": {
    "id": "hhM9efkXFqI0"
   },
   "outputs": [
    {
     "name": "stderr",
     "output_type": "stream",
     "text": [
      "/Users/ryanli/opt/miniconda3/lib/python3.9/site-packages/ipykernel/ipkernel.py:283: DeprecationWarning: `should_run_async` will not call `transform_cell` automatically in the future. Please pass the result to `transformed_cell` argument and any exception that happen during thetransform in `preprocessing_exc_tuple` in IPython 7.17 and above.\n",
      "  and should_run_async(code)\n"
     ]
    },
    {
     "name": "stdout",
     "output_type": "stream",
     "text": [
      "Topic #0\n",
      "[('sound', 0.013278967), ('volume', 0.012559377), ('the', 0.012189787), ('phone', 0.012028249), ('use', 0.011045517)]\n",
      "Topic #1\n",
      "[('money', 0.058521584), ('waste', 0.04960528), ('products', 0.023518553), ('dont', 0.010306245), ('substantial', 0.009119033)]\n",
      "Topic #2\n",
      "[('headset', 0.031820837), ('ear', 0.023353124), ('bluetooth', 0.014992564), ('it', 0.014128464), ('the', 0.011986177)]\n",
      "Topic #3\n",
      "[('film', 0.029222833), ('working', 0.020304462), ('stopped', 0.015819212), ('son', 0.014162653), ('de', 0.01260207)]\n",
      "Topic #4\n",
      "[('shed', 0.22354925), ('chore', 0.22019887), ('use', 0.02715837), ('wearing', 0.024033561), ('level', 0.016640743)]\n",
      "Topic #5\n",
      "[('phone', 0.04257497), ('cell', 0.018748699), ('would', 0.013342376), ('it', 0.012241454), ('get', 0.011436115)]\n",
      "Topic #6\n",
      "[('storm', 0.054942194), ('it', 0.009334485), ('showing', 0.008398844), ('juice', 0.007539291), ('use', 0.007262647)]\n",
      "Topic #7\n",
      "[('phone', 0.027792059), ('it', 0.015685914), ('juice', 0.012450253), ('work', 0.008462263), ('one', 0.008399888)]\n",
      "Topic #8\n",
      "[('phone', 0.046036765), ('the', 0.013772912), ('camera', 0.0114518525), ('n', 0.01102952), ('', 0.010888911)]\n",
      "Topic #9\n",
      "[('belt', 0.028384523), ('clip', 0.02836283), ('the', 0.014365981), ('cord', 0.010936562), ('good', 0.010723004)]\n",
      "Topic #10\n",
      "[('lol', 0.02474713), ('genuine', 0.015910745), ('recomend', 0.014509135), ('waited', 0.011355993), ('meter', 0.009810692)]\n",
      "Topic #11\n",
      "[('phone', 0.025366161), ('it', 0.011390211), ('use', 0.009699622), ('buy', 0.0092627425), ('card', 0.009210127)]\n",
      "Topic #12\n",
      "[('usb', 0.027510127), ('charger', 0.021463517), ('', 0.01515339), ('the', 0.012084402), ('one', 0.011128273)]\n",
      "Topic #13\n",
      "[('great', 0.04597189), ('it', 0.030973194), ('good', 0.029945137), ('works', 0.029216949), ('price', 0.02575967)]\n",
      "Topic #14\n",
      "[('signal', 0.03516533), ('bars', 0.018625665), ('antenna', 0.014240752), ('earphones', 0.012637621), ('tip', 0.0125449635)]\n",
      "Topic #15\n",
      "[('iphones', 0.5862664), ('cables', 0.01829015), ('use', 0.012026037), ('home', 0.010121985), ('broke', 0.0072549586)]\n",
      "Topic #16\n",
      "[('', 0.038138792), ('phone', 0.014174078), ('the', 0.013171066), ('one', 0.00842601), ('signal', 0.008189027)]\n",
      "Topic #17\n",
      "[('phone', 0.02446869), ('voice', 0.013674058), ('the', 0.012260094), ('use', 0.00979408), ('call', 0.008633997)]\n",
      "Topic #18\n",
      "[('cable', 0.03573601), ('phone', 0.026633916), ('it', 0.017331356), ('s', 0.016736388), ('works', 0.01256348)]\n",
      "Topic #19\n",
      "[('product', 0.017939027), ('it', 0.016470872), ('one', 0.016411649), ('charger', 0.014637033), ('buy', 0.014131535)]\n",
      "Topic #20\n",
      "[('one', 0.014197151), ('break', 0.014108867), ('it', 0.012270119), ('phone', 0.009986212), ('like', 0.008751538)]\n",
      "Topic #21\n",
      "[('nokia', 0.030793747), ('data', 0.022572763), ('phone', 0.020818785), ('cable', 0.01903229), ('', 0.01603498)]\n",
      "Topic #22\n",
      "[('ultimate', 0.011698772), ('apple', 0.010243023), ('good', 0.0073301857), ('thicker', 0.0073012733), ('battery', 0.006801464)]\n",
      "Topic #23\n",
      "[('juice', 0.3583936), ('pack', 0.3438956), ('round', 0.07686898), ('battery', 0.034595083), ('life', 0.015241517)]\n",
      "Topic #24\n",
      "[('it', 0.017351778), ('ear', 0.014490085), ('', 0.012208868), ('blackberry', 0.010834078), ('like', 0.009777589)]\n",
      "Topic #25\n",
      "[('phone', 0.028079236), ('use', 0.012895064), ('one', 0.01114888), ('device', 0.0106099015), ('great', 0.010230961)]\n",
      "Topic #26\n",
      "[('great', 0.029160792), ('product', 0.025315078), ('would', 0.01932183), ('droid', 0.016061643), ('one', 0.0155606745)]\n",
      "Topic #27\n",
      "[('regularly', 0.313216), ('iphone', 0.08882063), ('uses', 0.038078107), ('little', 0.023657275), ('cable', 0.018598493)]\n",
      "Topic #28\n",
      "[('doubles', 0.052774683), ('pocket', 0.030179802), ('trade', 0.029920762), ('jacket', 0.029908534), ('portability', 0.028051589)]\n",
      "Topic #29\n",
      "[('bb', 0.068248324), ('condition', 0.019671543), ('planet', 0.010609675), ('cleaner', 0.009421378), ('voltage', 0.00938864)]\n",
      "Topic #30\n",
      "[('heft', 0.6287725), ('jawbone', 0.025385208), ('port', 0.009132168), ('otherwise', 0.008133944), ('starting', 0.0049809506)]\n",
      "Topic #31\n",
      "[('otterbox', 0.0253335), ('one', 0.017273126), ('pouch', 0.012286149), ('it', 0.009920439), ('flashlight', 0.008985023)]\n",
      "Topic #32\n",
      "[('travelling', 0.17159913), ('normally', 0.064318806), ('uses', 0.05348415), ('everyday', 0.049038142), ('use', 0.029745445)]\n",
      "Topic #33\n",
      "[('screen', 0.14446905), ('protector', 0.05060084), ('protectors', 0.038577147), ('stylus', 0.019962719), ('apply', 0.013816104)]\n",
      "Topic #34\n",
      "[('', 0.023314359), ('phone', 0.01155663), ('browsing', 0.011328658), ('google', 0.010437282), ('scratched', 0.010219595)]\n",
      "Topic #35\n",
      "[('ex', 0.016669037), ('rock', 0.012345247), ('phone', 0.01171119), ('', 0.009823835), ('elsewhere', 0.008045965)]\n",
      "Topic #36\n",
      "[('increased', 0.38493663), ('use', 0.014162668), ('the', 0.013866705), ('little', 0.013824341), ('juice', 0.012674928)]\n",
      "Topic #37\n",
      "[('iphone', 0.3268576), ('gs', 0.06362314), ('g', 0.05966615), ('rechargeable', 0.03795736), ('use', 0.027230961)]\n",
      "Topic #38\n",
      "[('packs', 0.37697828), ('increased', 0.045236986), ('battery', 0.024882467), ('life', 0.017135572), ('use', 0.014412687)]\n",
      "Topic #39\n",
      "[('wifi', 0.013735434), ('work', 0.013513186), ('use', 0.011051287), ('gps', 0.010357365), ('boost', 0.009784556)]\n",
      "Topic #40\n",
      "[('indicators', 0.080097534), ('obviously', 0.0676703), ('thanks', 0.054032244), ('owners', 0.041647565), ('battery', 0.0350018)]\n",
      "Topic #41\n",
      "[('mounting', 0.013297623), ('contacted', 0.012145527), ('lined', 0.011871784), ('wondering', 0.010866231), ('adding', 0.009043039)]\n",
      "Topic #42\n",
      "[('bold', 0.015098361), ('', 0.014673899), ('prime', 0.012960954), ('the', 0.012659755), ('battery', 0.010088292)]\n",
      "Topic #43\n",
      "[('addon', 0.2423279), ('jeans', 0.24072747), ('increase', 0.109010935), ('iphones', 0.055063732), ('use', 0.020541158)]\n",
      "Topic #44\n",
      "[('love', 0.011047282), ('', 0.010851091), ('it', 0.01064881), ('the', 0.010443533), ('attractive', 0.009758497)]\n",
      "Topic #45\n",
      "[('depth', 0.14077197), ('indicators', 0.029785287), ('use', 0.026999364), ('alternative', 0.021555623), ('the', 0.016127907)]\n",
      "Topic #46\n",
      "[('power', 0.017449094), ('one', 0.015545161), ('cable', 0.014821774), ('plug', 0.0135484), ('cord', 0.010684343)]\n",
      "Topic #47\n",
      "[('case', 0.088920385), ('slimmer', 0.04477553), ('tight', 0.040458877), ('air', 0.039977394), ('accessible', 0.03904491)]\n",
      "Topic #48\n",
      "[('battery', 0.24768506), ('afford', 0.061992716), ('glad', 0.05548328), ('life', 0.035715297), ('mophie', 0.03396572)]\n",
      "Topic #49\n",
      "[('mophie', 0.11125704), ('case', 0.10159461), ('iphone', 0.045071322), ('bottom', 0.0353163), ('protective', 0.028947975)]\n",
      "****************************************************************************************************\n"
     ]
    }
   ],
   "source": [
    "#model 3\n",
    "model3 = gensim.models.ldamodel.LdaModel(corpus=corpus, id2word=dictionary, num_topics=best_topic_num, alpha='auto', eta='auto')\n",
    "print_topic_words(model3,5)\n",
    "#########################\n",
    "# YOUR CODE HERE\n",
    "#   - Build model for alpha = 'auto' = eta\n",
    "#   - Print top words\n",
    "#########################"
   ]
  },
  {
   "cell_type": "markdown",
   "metadata": {
    "id": "WRIg6fAIFwW0"
   },
   "source": [
    "**[3pts]1.6.2**  Explain how the different alpha and beta values theoretically influence the LDA model. Then describe what you find in the empirical result (e.g difference in topic words and topics)"
   ]
  },
  {
   "cell_type": "markdown",
   "metadata": {
    "id": "QU26drlOFxo1"
   },
   "source": [
    " The higher alpha and beta, the more topics and words in the topic. The lower alpha and beta, the less topics and words in the topic.\n",
    " In the first model when both are low, it has less topics but model 2 has more compare to model 1. Same come to model 3, it has more than model1."
   ]
  },
  {
   "cell_type": "markdown",
   "metadata": {
    "id": "lSsPpXqXG11h"
   },
   "source": [
    "## 1.7 LDA on a short text dataset"
   ]
  },
  {
   "cell_type": "markdown",
   "metadata": {
    "id": "pbrCxteDHM1b"
   },
   "source": [
    "**[10pts]1.7.1** In this part, we will read a dataset from twitter and build a LDA model. On Windows, download and unzip the dataset from [this link](http://cs.stanford.edu/people/alecmgo/trainingandtestdata.zip). Place the downloaded dataset in the same folder as this notebook. Use the first 10,000 lines in the \"training.1600000.processed.noemoticon.csv\" file. "
   ]
  },
  {
   "cell_type": "code",
   "execution_count": 34,
   "metadata": {
    "id": "Eg8B4xaRFxA3"
   },
   "outputs": [
    {
     "name": "stdout",
     "output_type": "stream",
     "text": [
      "zsh:1: command not found: wget\n",
      "unzip:  cannot find or open trainingandtestdata.zip, trainingandtestdata.zip.zip or trainingandtestdata.zip.ZIP.\n"
     ]
    },
    {
     "name": "stderr",
     "output_type": "stream",
     "text": [
      "/Users/ryanli/opt/miniconda3/lib/python3.9/site-packages/ipykernel/ipkernel.py:283: DeprecationWarning: `should_run_async` will not call `transform_cell` automatically in the future. Please pass the result to `transformed_cell` argument and any exception that happen during thetransform in `preprocessing_exc_tuple` in IPython 7.17 and above.\n",
      "  and should_run_async(code)\n"
     ]
    }
   ],
   "source": [
    "!wget http://cs.stanford.edu/people/alecmgo/trainingandtestdata.zip # Linux and OSX only\n",
    "!unzip trainingandtestdata.zip # Linux and OSX only"
   ]
  },
  {
   "cell_type": "code",
   "execution_count": 35,
   "metadata": {
    "id": "81FoZvt_HTq6"
   },
   "outputs": [
    {
     "name": "stderr",
     "output_type": "stream",
     "text": [
      "/Users/ryanli/opt/miniconda3/lib/python3.9/site-packages/ipykernel/ipkernel.py:283: DeprecationWarning: `should_run_async` will not call `transform_cell` automatically in the future. Please pass the result to `transformed_cell` argument and any exception that happen during thetransform in `preprocessing_exc_tuple` in IPython 7.17 and above.\n",
      "  and should_run_async(code)\n"
     ]
    }
   ],
   "source": [
    "!head -n 10000 training.1600000.processed.noemoticon.csv > twitter.csv # Linux and OSX only"
   ]
  },
  {
   "cell_type": "code",
   "execution_count": 36,
   "metadata": {
    "id": "uJSwYJflHWvp"
   },
   "outputs": [
    {
     "name": "stderr",
     "output_type": "stream",
     "text": [
      "/Users/ryanli/opt/miniconda3/lib/python3.9/site-packages/ipykernel/ipkernel.py:283: DeprecationWarning: `should_run_async` will not call `transform_cell` automatically in the future. Please pass the result to `transformed_cell` argument and any exception that happen during thetransform in `preprocessing_exc_tuple` in IPython 7.17 and above.\n",
      "  and should_run_async(code)\n"
     ]
    }
   ],
   "source": [
    "def read_twitter(fname):\n",
    "    \"\"\" Read the given dataset into list and clean stop words. \n",
    "    \n",
    "    Args: \n",
    "        fname (string): filename of Twitter Dataset\n",
    "        \n",
    "    Returns:\n",
    "        list of list of words: we view each document as a list, including a list of all words \n",
    "    \"\"\"\n",
    "  \n",
    "    twitter = []\n",
    "    with open(fname,encoding=\"utf-8\") as f:\n",
    "        for line in f:\n",
    "            tweet = f.readline().split(\",\")[5]\n",
    "            \n",
    "            stopWords = set(stopwords.words('english'))\n",
    "            tweet = tweet.split(\" \")\n",
    "            clean_tweet = []\n",
    "            punctuationRegex = r'\\W+|\\d+'\n",
    "            for w in tweet:\n",
    "                w = w.lower()\n",
    "                if w not in stopWords:\n",
    "                    w = re.sub(punctuationRegex, ' ', w)\n",
    "                    if len(w) >= 2:\n",
    "                        clean_tweet.append(w)\n",
    "           \n",
    "            twitter.append(clean_tweet)\n",
    "\n",
    "\n",
    "\n",
    "\n",
    "            ########################\n",
    "            # YOUR CLEANING CODE HERE\n",
    "            ########################\n",
    "    return twitter"
   ]
  },
  {
   "cell_type": "code",
   "execution_count": 37,
   "metadata": {
    "id": "1657cE1hHY8_"
   },
   "outputs": [
    {
     "name": "stderr",
     "output_type": "stream",
     "text": [
      "/Users/ryanli/opt/miniconda3/lib/python3.9/site-packages/ipykernel/ipkernel.py:283: DeprecationWarning: `should_run_async` will not call `transform_cell` automatically in the future. Please pass the result to `transformed_cell` argument and any exception that happen during thetransform in `preprocessing_exc_tuple` in IPython 7.17 and above.\n",
      "  and should_run_async(code)\n"
     ]
    },
    {
     "name": "stdout",
     "output_type": "stream",
     "text": [
      "CPU times: user 408 ms, sys: 53.1 ms, total: 461 ms\n",
      "Wall time: 460 ms\n"
     ]
    }
   ],
   "source": [
    "%%time\n",
    "twitter = read_twitter('twitter.csv')"
   ]
  },
  {
   "cell_type": "code",
   "execution_count": 38,
   "metadata": {
    "id": "YzcgFZx_HZgK"
   },
   "outputs": [
    {
     "name": "stderr",
     "output_type": "stream",
     "text": [
      "/Users/ryanli/opt/miniconda3/lib/python3.9/site-packages/ipykernel/ipkernel.py:283: DeprecationWarning: `should_run_async` will not call `transform_cell` automatically in the future. Please pass the result to `transformed_cell` argument and any exception that happen during thetransform in `preprocessing_exc_tuple` in IPython 7.17 and above.\n",
      "  and should_run_async(code)\n"
     ]
    }
   ],
   "source": [
    "twitter_dictionary = gensim.corpora.Dictionary(twitter) # TODO: build dictionary\n",
    "twitter_corpus = [twitter_dictionary.doc2bow(text) for text in twitter] # TODO: build corpus for model"
   ]
  },
  {
   "cell_type": "code",
   "execution_count": 39,
   "metadata": {
    "id": "3WoNVLuJHcyu"
   },
   "outputs": [
    {
     "name": "stderr",
     "output_type": "stream",
     "text": [
      "/Users/ryanli/opt/miniconda3/lib/python3.9/site-packages/ipykernel/ipkernel.py:283: DeprecationWarning: `should_run_async` will not call `transform_cell` automatically in the future. Please pass the result to `transformed_cell` argument and any exception that happen during thetransform in `preprocessing_exc_tuple` in IPython 7.17 and above.\n",
      "  and should_run_async(code)\n"
     ]
    },
    {
     "name": "stdout",
     "output_type": "stream",
     "text": [
      "Topic #0\n",
      "[(' is', 0.009836194), ('i m', 0.007289609), ('like', 0.006140389), ('work', 0.0052561504), ('still', 0.004966049)]\n",
      "Topic #1\n",
      "[(' i', 0.010554), ('i m', 0.010124678), ('think', 0.005957), ('like', 0.0052914284), ('want', 0.0049571455)]\n",
      "Topic #2\n",
      "[('get', 0.007398168), ('night', 0.0073218886), ('home', 0.0059108683), ('today ', 0.005856536), ('last', 0.0058111106)]\n",
      "Topic #3\n",
      "[(' i', 0.012295593), ('work', 0.011885202), ('go', 0.009249411), ('got', 0.0088013075), ('miss', 0.0075263306)]\n",
      "Topic #4\n",
      "[(' i', 0.009341358), ('get', 0.009163124), ('go', 0.008256394), ('need', 0.007435016), ('work', 0.00628568)]\n",
      "****************************************************************************************************\n",
      "CPU times: user 1.29 s, sys: 4.52 ms, total: 1.29 s\n",
      "Wall time: 1.29 s\n"
     ]
    }
   ],
   "source": [
    "%%time\n",
    "########################\n",
    "# YOUR CODE HERE\n",
    "#    - Build model\n",
    "#    - Print top words\n",
    "t_model = gensim.models.ldamodel.LdaModel(corpus=twitter_corpus, id2word=twitter_dictionary, num_topics=5)\n",
    "print_topic_words(t_model,5)\n",
    "########################"
   ]
  },
  {
   "cell_type": "markdown",
   "metadata": {
    "id": "lzced6IXOU1Z"
   },
   "source": [
    "## 1.8 LDA visualization\n",
    "\n",
    "**[10pts]1.8.1** We will now visualize the LDA output using pyLDAvis. PyLDAVis shows the following:\n",
    "\n",
    "   1. The distances between topics, as a map in 2-D space.\n",
    "   2. The variance in the topic-word distribution, as the size of a circle in this map.\n",
    "   3. The most \"salient\" terms in each topic."
   ]
  },
  {
   "cell_type": "code",
   "execution_count": 40,
   "metadata": {
    "id": "iaSJ2dyHOVlM"
   },
   "outputs": [
    {
     "name": "stderr",
     "output_type": "stream",
     "text": [
      "/Users/ryanli/opt/miniconda3/lib/python3.9/site-packages/ipykernel/ipkernel.py:283: DeprecationWarning: `should_run_async` will not call `transform_cell` automatically in the future. Please pass the result to `transformed_cell` argument and any exception that happen during thetransform in `preprocessing_exc_tuple` in IPython 7.17 and above.\n",
      "  and should_run_async(code)\n"
     ]
    }
   ],
   "source": [
    "sentences = read_dataset(\"reviews_Cell_Phones_and_Accessories_5.json.gz\")[:1000] # CHANGE TO YOUR DATASET"
   ]
  },
  {
   "cell_type": "code",
   "execution_count": 41,
   "metadata": {
    "id": "5Dn0msKKPJXF"
   },
   "outputs": [
    {
     "name": "stdout",
     "output_type": "stream",
     "text": [
      "CPU times: user 4.04 ms, sys: 2.88 ms, total: 6.92 ms\n",
      "Wall time: 8.23 ms\n"
     ]
    },
    {
     "name": "stderr",
     "output_type": "stream",
     "text": [
      "/Users/ryanli/opt/miniconda3/lib/python3.9/site-packages/ipykernel/ipkernel.py:283: DeprecationWarning: `should_run_async` will not call `transform_cell` automatically in the future. Please pass the result to `transformed_cell` argument and any exception that happen during thetransform in `preprocessing_exc_tuple` in IPython 7.17 and above.\n",
      "  and should_run_async(code)\n"
     ]
    }
   ],
   "source": [
    "%%time\n",
    "import pyLDAvis.gensim\n",
    "import pyLDAvis.gensim_models"
   ]
  },
  {
   "cell_type": "code",
   "execution_count": 42,
   "metadata": {
    "id": "uZsFH15wPLo2"
   },
   "outputs": [
    {
     "name": "stderr",
     "output_type": "stream",
     "text": [
      "/Users/ryanli/opt/miniconda3/lib/python3.9/site-packages/ipykernel/ipkernel.py:283: DeprecationWarning: `should_run_async` will not call `transform_cell` automatically in the future. Please pass the result to `transformed_cell` argument and any exception that happen during thetransform in `preprocessing_exc_tuple` in IPython 7.17 and above.\n",
      "  and should_run_async(code)\n"
     ]
    },
    {
     "name": "stdout",
     "output_type": "stream",
     "text": [
      "CPU times: user 1.05 s, sys: 11.6 ms, total: 1.06 s\n",
      "Wall time: 1.06 s\n"
     ]
    }
   ],
   "source": [
    "%%time\n",
    "data = None\n",
    "########################\n",
    "# YOUR CODE HERE\n",
    "#   - Initalize pyLDAvis with your model\n",
    "#   - Make sure to use a subset of the sentences in the dataset\n",
    "#     if your pyLDAvis call in the cell below is taking too long\n",
    "########################\n",
    "sentences_dictionary = gensim.corpora.Dictionary(sentences) # TODO: build dictionary\n",
    "sentences_corpus = [sentences_dictionary.doc2bow(text) for text in sentences] # TODO: build corpus for model\n",
    "sentences_model = gensim.models.ldamodel.LdaModel(corpus=sentences_corpus, id2word=sentences_dictionary, num_topics=5) # TODO: build model"
   ]
  },
  {
   "cell_type": "code",
   "execution_count": 43,
   "metadata": {},
   "outputs": [
    {
     "name": "stderr",
     "output_type": "stream",
     "text": [
      "/Users/ryanli/opt/miniconda3/lib/python3.9/site-packages/ipykernel/ipkernel.py:283: DeprecationWarning: `should_run_async` will not call `transform_cell` automatically in the future. Please pass the result to `transformed_cell` argument and any exception that happen during thetransform in `preprocessing_exc_tuple` in IPython 7.17 and above.\n",
      "  and should_run_async(code)\n",
      "/Users/ryanli/opt/miniconda3/lib/python3.9/site-packages/pyLDAvis/_prepare.py:243: FutureWarning: In a future version of pandas all arguments of DataFrame.drop except for the argument 'labels' will be keyword-only.\n",
      "  default_term_info = default_term_info.sort_values(\n"
     ]
    }
   ],
   "source": [
    "pyLDAvis.enable_notebook()\n",
    "data = pyLDAvis.gensim_models.prepare(sentences_model, sentences_corpus, sentences_dictionary)"
   ]
  },
  {
   "cell_type": "code",
   "execution_count": 44,
   "metadata": {
    "id": "D_BnRDcsPNyX"
   },
   "outputs": [
    {
     "name": "stderr",
     "output_type": "stream",
     "text": [
      "/Users/ryanli/opt/miniconda3/lib/python3.9/site-packages/ipykernel/ipkernel.py:283: DeprecationWarning: `should_run_async` will not call `transform_cell` automatically in the future. Please pass the result to `transformed_cell` argument and any exception that happen during thetransform in `preprocessing_exc_tuple` in IPython 7.17 and above.\n",
      "  and should_run_async(code)\n"
     ]
    },
    {
     "data": {
      "text/html": [
       "\n",
       "<link rel=\"stylesheet\" type=\"text/css\" href=\"https://cdn.jsdelivr.net/gh/bmabey/pyLDAvis@3.4.0/pyLDAvis/js/ldavis.v1.0.0.css\">\n",
       "\n",
       "\n",
       "<div id=\"ldavis_el39151406158209808489914482501\" style=\"background-color:white;\"></div>\n",
       "<script type=\"text/javascript\">\n",
       "\n",
       "var ldavis_el39151406158209808489914482501_data = {\"mdsDat\": {\"x\": [-0.009896691485060392, 0.011135937716931806, -0.012783139569959167, 0.024629578952013037, -0.013085685613925303], \"y\": [-0.011426324548438126, -0.008960289488535025, -0.010653536253874642, 0.006806114898790706, 0.02423403539205709], \"topics\": [1, 2, 3, 4, 5], \"cluster\": [1, 1, 1, 1, 1], \"Freq\": [34.024792323625526, 21.738512393073815, 18.779094035059032, 13.33124119207825, 12.12636005616338]}, \"tinfo\": {\"Term\": [\"one\", \"ear\", \"phone\", \"the\", \"great\", \"usb\", \"like\", \"price\", \"it\", \"well\", \"this\", \"works\", \"much\", \"cable\", \"also\", \"car\", \"sound\", \"\", \"charger\", \"battery\", \"use\", \"phones\", \"set\", \"fit\", \"even\", \"case\", \"motorola\", \"lg\", \"item\", \"order\", \"itit\", \"sgsii\", \"supper\", \"slippery\", \"este\", \"genuine\", \"powers\", \"smelled\", \"tube\", \"obsessed\", \"books\", \"whine\", \"landline\", \"blc\", \"cd\", \"slvr\", \"mechanical\", \"powerbear\", \"motorolla\", \"died\", \"jealous\", \"route\", \"sorts\", \"mannor\", \"reccommend\", \"recommencement\", \"late\", \"perfection\", \"chatged\", \"glare\", \"becasue\", \"began\", \"fyi\", \"months\", \"coffee\", \"rd\", \"mount\", \"known\", \"break\", \"drop\", \"direct\", \"logitech\", \"ask\", \"feeling\", \"family\", \"\", \"using\", \"nice\", \"strong\", \"another\", \"could\", \"it\", \"protector\", \"better\", \"even\", \"plastic\", \"the\", \"need\", \"would\", \"get\", \"for\", \"good\", \"case\", \"still\", \"headset\", \"so\", \"quality\", \"hard\", \"phone\", \"see\", \"worked\", \"great\", \"take\", \"one\", \"use\", \"first\", \"device\", \"ear\", \"bluetooth\", \"this\", \"bought\", \"time\", \"im\", \"battery\", \"like\", \"ive\", \"little\", \"also\", \"well\", \"works\", \"work\", \"neckband\", \"lifters\", \"opera\", \"partner\", \"interrupting\", \"brighter\", \"gs\", \"bb\", \"heap\", \"elaborate\", \"workthis\", \"recycled\", \"extinguished\", \"reconditioned\", \"algun\", \"ex\", \"sin\", \"themthe\", \"embedded\", \"un\", \"craze\", \"our\", \"calidad\", \"es\", \"ningun\", \"para\", \"situationi\", \"burner\", \"carro\", \"manufacturing\", \"popping\", \"approaching\", \"markings\", \"ios\", \"clutch\", \"whenever\", \"phone\", \"usb\", \"plugged\", \"hubs\", \"office\", \"used\", \"like\", \"signal\", \"light\", \"got\", \"cord\", \"in\", \"check\", \"however\", \"monitor\", \"styling\", \"work\", \"problems\", \"power\", \"headset\", \"it\", \"cable\", \"since\", \"voice\", \"day\", \"you\", \"really\", \"use\", \"life\", \"battery\", \"but\", \"get\", \"\", \"good\", \"ive\", \"one\", \"the\", \"works\", \"if\", \"this\", \"great\", \"well\", \"would\", \"sound\", \"time\", \"bought\", \"case\", \"bluetooth\", \"also\", \"skill\", \"usa\", \"recomend\", \"underpowered\", \"carried\", \"buggy\", \"pager\", \"asia\", \"transmit\", \"aftermarket\", \"tackle\", \"intermediate\", \"tip\", \"paint\", \"parties\", \"lowit\", \"guitar\", \"percentagei\", \"whistels\", \"reaches\", \"timewoo\", \"debating\", \"coil\", \"transactions\", \"minus\", \"offit\", \"withthis\", \"havenow\", \"betternot\", \"hoo\", \"doubts\", \"overseas\", \"glow\", \"tab\", \"fortunately\", \"tablet\", \"car\", \"driver\", \"love\", \"tweezers\", \"glossy\", \"pocket\", \"performs\", \"case\", \"moving\", \"charger\", \"sound\", \"well\", \"charge\", \"works\", \"fit\", \"blackberry\", \"headsets\", \"purchased\", \"phone\", \"this\", \"home\", \"like\", \"back\", \"the\", \"bluetooth\", \"use\", \"even\", \"driving\", \"noise\", \"great\", \"im\", \"\", \"it\", \"work\", \"headset\", \"keyboard\", \"time\", \"one\", \"bought\", \"much\", \"quality\", \"battery\", \"good\", \"get\", \"would\", \"thelg\", \"foot\", \"tone\", \"gorgeous\", \"armoralld\", \"absoultely\", \"greasy\", \"marking\", \"delightful\", \"greenorange\", \"reimbursed\", \"embarrassed\", \"bough\", \"giftee\", \"contour\", \"lessdesireable\", \"munch\", \"bravo\", \"deploying\", \"bf\", \"comfortablethese\", \"wep\", \"anyonedont\", \"snazzy\", \"pluged\", \"waaaaaaay\", \"tricked\", \"ether\", \"father\", \"thickest\", \"ads\", \"he\", \"electronics\", \"hbs\", \"order\", \"timely\", \"lg\", \"micro\", \"cam\", \"usb\", \"item\", \"base\", \"also\", \"one\", \"much\", \"tools\", \"opening\", \"exactly\", \"price\", \"hub\", \"well\", \"cover\", \"description\", \"\", \"phones\", \"battery\", \"like\", \"power\", \"fit\", \"off\", \"its\", \"phone\", \"keyboard\", \"actually\", \"this\", \"good\", \"little\", \"cord\", \"would\", \"great\", \"use\", \"nice\", \"the\", \"headset\", \"it\", \"get\", \"product\", \"quality\", \"case\", \"works\", \"charger\", \"eyeglasses\", \"entertainment\", \"width\", \"antennaes\", \"specially\", \"anybody\", \"functionsprosvery\", \"buildingsclear\", \"thereconsthe\", \"batterry\", \"tolittle\", \"expedition\", \"iphonesi\", \"ford\", \"lengths\", \"misplace\", \"lifecons\", \"iphonethanks\", \"yours\", \"describe\", \"theirs\", \"aroundyour\", \"incase\", \"spongy\", \"fittting\", \"fussy\", \"backupa\", \"aggravate\", \"reel\", \"wheni\", \"retracted\", \"inches\", \"removed\", \"safe\", \"ear\", \"tape\", \"screwdriver\", \"screwdrivers\", \"more\", \"cable\", \"win\", \"set\", \"hurt\", \"down\", \"the\", \"price\", \"retract\", \"great\", \"wire\", \"modify\", \"one\", \"it\", \"hook\", \"traveling\", \"motorola\", \"anything\", \"player\", \"this\", \"since\", \"things\", \"works\", \"thing\", \"i\", \"sound\", \"use\", \"hear\", \"buttons\", \"\", \"good\", \"volume\", \"phone\", \"quality\", \"easy\", \"even\", \"car\", \"product\", \"phones\", \"time\", \"headset\", \"charger\", \"battery\", \"well\", \"get\", \"would\", \"im\", \"work\", \"bluetooth\"], \"Freq\": [423.0, 168.0, 915.0, 534.0, 321.0, 115.0, 320.0, 140.0, 575.0, 221.0, 297.0, 215.0, 142.0, 80.0, 157.0, 94.0, 177.0, 627.0, 138.0, 230.0, 319.0, 130.0, 70.0, 108.0, 173.0, 224.0, 99.0, 43.0, 58.0, 33.0, 2.3351134614679303, 2.33467761266669, 2.332557912312103, 2.216014625006868, 2.190637093866825, 2.8763070520755574, 2.1519990305831946, 2.1578293464705576, 2.1283184935141968, 2.0468863809929543, 3.409143878929185, 1.9800977153348038, 4.01643816462562, 1.9939650831170412, 3.2246022779082026, 1.9596156379302938, 3.326180528988692, 7.048592410151015, 3.2173661149490234, 6.423286974484795, 1.8998053809556357, 1.9241231960257088, 1.2752069590986896, 1.2750800935706976, 1.2749989586400052, 1.274857341306433, 1.2747530058087821, 1.274771646726743, 1.2746956078743419, 1.274608169899447, 1.9063559872772948, 2.515088976339794, 2.5175230242605675, 39.073934614901084, 2.526837314304062, 3.0877060585509484, 3.669930321200031, 2.4916609633608684, 9.18055178338979, 11.382146652549094, 6.995888232031781, 9.548558371839029, 6.502103457769301, 6.434120700503075, 5.221891881573783, 283.71185747864024, 63.70145928348663, 55.26758918279109, 9.514200075568933, 41.342571344345224, 52.324682288168816, 244.0906920296441, 12.305546383228403, 66.70844587583319, 79.9199912963075, 28.544261011800508, 215.62004628269506, 63.21137318920513, 98.7370125570685, 107.00190313877184, 30.217300296300277, 122.83515875845777, 94.03027893854073, 50.72190880400983, 128.55479104390676, 35.81742471795167, 77.98645980100456, 31.303299255950918, 296.7128951699109, 26.84121387260364, 35.98309983249384, 118.83527587469847, 28.7451280337354, 142.89469617250722, 108.65361614026592, 43.598707125525856, 47.84149806783644, 63.720345886063946, 66.35635085309767, 97.2454043883294, 59.69054741344609, 63.0278671649359, 56.49360477100122, 73.28465274911137, 87.63453117114281, 53.71502548053501, 50.64775710986451, 53.56548615915138, 59.06298092830636, 56.60760672452692, 54.25784042868325, 1.9859288771398118, 2.6170550475514345, 1.853640309211614, 1.8581661750286267, 1.785844001113294, 3.0775729901809, 4.024055924854648, 3.9769088474159027, 1.1264827924219911, 1.1263256526334864, 1.1263347348677184, 1.1260783759543016, 1.1257959698785591, 1.1259292045411136, 1.1256899819187005, 1.1255898202977834, 1.1256115833873581, 1.1255193901417577, 1.1254331089165537, 1.1255554620343209, 1.12552898646472, 1.125348798364815, 1.125308356718046, 1.1252936195077827, 1.1251947431086908, 1.1252751123134987, 1.1251204572871893, 1.1249670018012503, 1.125172808656206, 1.1253965229352605, 2.2749255704024374, 1.7018538980163866, 2.3089944019099953, 2.773259365930351, 2.163640268905953, 3.660502999418525, 295.4338025169705, 45.49660859429569, 14.635756566006073, 3.7963848762073087, 10.415381465072992, 50.07437543859739, 95.5972642487765, 21.17709285494583, 23.97855701360224, 41.59496028061354, 28.24618440880083, 20.758588985147835, 6.576397825785166, 21.729819123111806, 1.5897506813502909, 2.0413956238609003, 54.87012412988706, 25.06054242758195, 32.868598831135465, 83.2373812327912, 127.63741251859163, 25.828558088693377, 25.045766832026835, 20.39358872857353, 21.120140049068894, 32.03828384135391, 38.96510990729539, 71.63976430955972, 24.05486697379707, 55.21144066139084, 28.9399108211526, 57.6943603629326, 108.63156039170066, 64.195463382402, 37.500453293458264, 76.77205878893771, 86.7534794497273, 47.192857382887645, 28.251487062689044, 52.33673325317764, 52.48910641097684, 42.02371576514165, 41.371634652638946, 36.47370157264199, 34.79837276810747, 31.846916710649754, 35.05297144171236, 32.0671413554043, 30.519136563931273, 3.256678216913963, 3.7629751235482756, 1.6362345049337732, 1.5995478165067112, 1.567599550238187, 1.5672586278028997, 2.085487375570096, 1.5129588471698066, 2.0077008073825864, 2.5395056105634897, 1.4919314974529343, 1.4630977197280537, 2.925183774704586, 2.4091305354519283, 1.9212330779390818, 0.9309849316897401, 0.9310623535020089, 0.9309083240647895, 0.9309287527647763, 0.9307380848982326, 0.9308979616807381, 0.9308121759441993, 0.9307320155018597, 0.9307032228776029, 0.930623432520408, 0.9307383809663483, 0.9306040400588264, 0.9304216620995236, 0.9306482282251022, 0.930583019222608, 1.8964958466977908, 1.4112248094397721, 1.3785539889347576, 1.7059838600170463, 2.158725745363437, 2.5022854073918444, 36.19703676596337, 9.09836386489685, 25.681043102044644, 2.6246932895085444, 1.3517972770759283, 12.372026917475221, 2.466089155798524, 63.39739248497589, 3.749486852330888, 41.0238518368675, 50.587932032113244, 60.36210689938579, 34.70707515771858, 57.85456628293937, 32.44336676722503, 11.861461004679894, 18.598849813151727, 19.15336289277668, 173.84835531511567, 70.39363838413874, 13.946710193450867, 71.81181413276605, 32.07046068552932, 103.7070996041127, 43.68761220245375, 68.219214663176, 42.52620567216516, 9.798280733257004, 17.266263803970652, 63.087435221778705, 34.95192112089979, 98.20279067966294, 91.83492922354986, 39.90446329356631, 60.2615953269057, 30.118829405941728, 37.21366598764968, 66.89073571089662, 33.59546728449933, 31.02761404005702, 36.369057078304586, 40.58994861769229, 45.39713318824967, 41.59455273678926, 38.15296695459166, 1.5298858923138872, 1.441840579004183, 8.61871449974588, 0.9252055283288863, 0.925123243578629, 0.9251130499377925, 0.9249306152935441, 0.9249740170839097, 0.9250022860466417, 0.9247828600459558, 0.9248511679484682, 0.924781283709744, 0.9248366656553194, 0.9246550717237173, 0.9244330184960117, 0.9243109049841357, 0.9245424162291123, 0.9245509284446561, 0.9245072113870482, 0.9243176306853061, 0.9242627741851347, 0.9240118214602123, 0.9242003512711464, 0.9241664074980518, 0.9240971537938124, 0.9240779224920281, 0.9241955171734302, 0.9241487525324794, 0.9240886415782685, 0.9241273143599986, 1.354858977370218, 3.7470575256554746, 10.200440520345378, 9.845282303625993, 13.050814534910549, 2.486062118552803, 15.232674030236582, 2.835734264898719, 2.9142631314085605, 28.406997660015968, 16.399716015907632, 5.812493452295739, 34.943931938564745, 75.12221479574445, 30.731141045028146, 10.506723907371757, 3.288688800555991, 6.8636448810987805, 28.03509328809481, 15.820340577131043, 37.53027678370689, 9.909674166631874, 3.547268890961989, 81.32628403481594, 24.95942677999781, 37.86553617280085, 48.0788194195312, 19.983566415892017, 20.305989804302182, 8.39349514821428, 20.928672032915294, 85.78914994927219, 20.593101580142196, 11.64053588498491, 36.39985119663305, 36.75763832179744, 21.058698332218295, 15.197095071044906, 28.30916224794003, 34.42578055754276, 34.07480320481345, 17.962700029483027, 44.03632664248096, 32.45540905409621, 35.61180751619269, 25.41360329148649, 20.264641874931552, 22.334027469584164, 23.641870327833274, 22.872791443268287, 18.91611188745181, 2.7957718763312975, 1.3807255191926204, 1.3374635675558555, 1.227225519381731, 0.8221480935793425, 0.8220803194882887, 0.8219939051324177, 0.8219372196091527, 0.8219286164100063, 0.8218186866431348, 0.8217167865288002, 0.8218029141113664, 0.8217050288233001, 0.8216774985860313, 0.8219035715413799, 0.8217279706876905, 0.821745846223695, 0.8215151848954683, 0.8216988154016943, 0.8213860413171699, 0.8216566597258766, 0.8215755028805951, 0.8215891724081278, 0.8216367767767382, 0.8214605067853374, 0.821358033124393, 0.8215395606263832, 0.8215179570374155, 0.8210085520568436, 0.8213689305099785, 1.5802091404858067, 3.2568243923313713, 1.8575239926349438, 1.5410097150770998, 45.3050646061159, 10.04628294724813, 4.107570284602345, 4.8165201603634715, 6.075240844727157, 20.0251902271541, 1.5033500711334051, 17.701629024933624, 2.2563946882086725, 4.560250740739699, 84.12227396570336, 28.26792832976299, 2.2758922140253866, 52.87853805235085, 4.3107220232382755, 1.1448671895438136, 62.305344012596585, 76.38858983314108, 2.7436234891139555, 2.691630915392266, 19.343952976483536, 8.223969363350987, 6.030030842030329, 40.84909687469225, 15.079433573941385, 10.385064693974542, 30.910023553927594, 19.266515007419677, 11.668889131083178, 25.188779882755068, 37.16786672699166, 12.38499725089856, 9.661701591910054, 55.57654412949284, 32.71348963149909, 15.20670586083439, 63.3497494471119, 23.265434916454826, 15.200380024093102, 21.79714947762924, 14.898945338408064, 18.638112870440548, 17.696457928699996, 20.370661056807982, 28.447755839601864, 18.032023990767666, 23.121763784895457, 22.661140090577284, 23.440810175144307, 21.28597262039768, 17.53275090223955, 18.26413448009497, 17.578036613088862], \"Total\": [423.0, 168.0, 915.0, 534.0, 321.0, 115.0, 320.0, 140.0, 575.0, 221.0, 297.0, 215.0, 142.0, 80.0, 157.0, 94.0, 177.0, 627.0, 138.0, 230.0, 319.0, 130.0, 70.0, 108.0, 173.0, 224.0, 99.0, 43.0, 58.0, 33.0, 2.971814424465438, 2.971553589170206, 2.9713694985876735, 2.9395584171830826, 2.932825962543312, 3.867643492044142, 2.9066291521278456, 2.916344357543122, 2.904538581342016, 2.893178052071036, 4.855316236665824, 2.8560309194942137, 5.798318277574894, 2.8786291457736164, 4.705137363977241, 2.8687911429877944, 4.8746775304554975, 10.357397547218953, 4.743368663739204, 9.519984281263973, 2.817318687771525, 2.8755866014517477, 1.9105989983164124, 1.9105342901700868, 1.9105006256488046, 1.9103350598026643, 1.91024794001411, 1.9102803068471603, 1.9102097100301023, 1.9101090323045076, 2.8590321942456014, 3.790871061086992, 3.79505794484789, 62.34277250578606, 3.8334183860511284, 4.742110002721059, 5.7086607106051614, 3.8213044627026798, 14.905348560721048, 18.754914467144882, 11.370261432690839, 15.886791872967915, 10.510194018653232, 10.396635956665786, 8.322538099630368, 627.4490367143126, 124.79036198138974, 107.09140666845029, 15.884696104568498, 79.06559248747948, 103.277725409349, 575.5634311211194, 21.298813618776567, 140.66101182049394, 173.43973876714367, 54.93792746824665, 534.2392259447194, 134.45316356202002, 227.8567490326368, 255.1452297051245, 60.10735333701955, 301.89888328240596, 224.83818330023487, 111.72901936540137, 332.95693249730175, 74.70399149630498, 187.0085216891897, 63.91987655258731, 915.1339523983812, 53.43265298465648, 76.10964918470452, 321.7161361173476, 58.596921107784205, 423.9850494806827, 319.7552650448067, 102.02327254502447, 115.1689720403651, 168.02863022364306, 178.50074560385937, 297.22472409697104, 158.15863351685678, 173.01884105097963, 147.90260456266873, 230.07334198589083, 320.05535412376184, 143.84008329582858, 132.17738027812487, 157.9196473532394, 221.64022046711796, 215.43784538754983, 182.9657394127062, 2.7337036449021532, 3.636607382621631, 2.721494425901455, 2.73514068548383, 2.649110989944757, 4.604506151194458, 6.188761920445277, 6.151583271944722, 1.7866730625047156, 1.7865182539574187, 1.7866108537660288, 1.7863910315456788, 1.7860499574930588, 1.7865008231516806, 1.7864252104395586, 1.7862836146957495, 1.7863453348598732, 1.7862247296179485, 1.7861241186485315, 1.7863530083531711, 1.7863917244545584, 1.78613740646795, 1.7860859683474555, 1.7861108163694994, 1.7860116952102716, 1.7861592547632814, 1.7859526616337889, 1.7857180262219732, 1.786100659309941, 1.7864631798281576, 3.614385439829457, 2.712488317471363, 3.6919521727687066, 4.466253918138301, 3.6132853612335083, 6.407281074164881, 915.1339523983812, 115.96624636546677, 33.16250492542682, 7.1342542343561295, 23.318581605778757, 145.5954654187545, 320.05535412376184, 55.73917261183417, 65.1323116513131, 125.68334538922784, 80.04566815262224, 55.95697108265945, 14.255935072352635, 59.341473868436154, 2.681398518728963, 3.6164606561182295, 182.9657394127062, 71.88249391920804, 100.30537911056987, 332.95693249730175, 575.5634311211194, 80.27469780889649, 77.87137757637106, 60.14651683623196, 63.4049106841057, 110.03746388627152, 142.21104270664694, 319.7552650448067, 76.07013403145696, 230.07334198589083, 97.68014993041263, 255.1452297051245, 627.4490367143126, 301.89888328240596, 143.84008329582858, 423.9850494806827, 534.2392259447194, 215.43784538754983, 98.21933896286043, 297.22472409697104, 321.7161361173476, 221.64022046711796, 227.8567490326368, 177.75839660579328, 173.01884105097963, 158.15863351685678, 224.83818330023487, 178.50074560385937, 157.9196473532394, 3.9510626447737818, 4.726412144698637, 2.424910935895665, 2.398960155863544, 2.3983524408423795, 2.43379663008744, 3.264118567387694, 2.397898036114581, 3.230147500210879, 4.108666102927521, 2.475310420784835, 2.4539246364648135, 4.940842589963304, 4.141550172373319, 3.3189428297767143, 1.623832630796754, 1.6239716788272092, 1.6237539491327042, 1.6238458002043454, 1.6236146327689323, 1.6239655357705856, 1.6238556015646572, 1.6237228061913855, 1.6237773722090534, 1.6236675511977894, 1.6238805831788294, 1.623704359797472, 1.6233863696407624, 1.6237853620829004, 1.6236858739195599, 3.314754672298832, 2.484946721669007, 2.4556154362696407, 3.0846564411924042, 4.009789666754787, 4.861517057431668, 94.8472023841729, 20.57461332831728, 69.83320351094166, 5.231936095560573, 2.470876448659631, 32.52921735465966, 5.030869418050798, 224.83818330023487, 8.263658197723943, 138.35826368462844, 177.75839660579328, 221.64022046711796, 116.35710283468512, 215.43784538754983, 108.6771004049542, 32.36176108974462, 56.31575498746499, 58.96321136128247, 915.1339523983812, 297.22472409697104, 39.90313566899723, 320.05535412376184, 116.74415337512721, 534.2392259447194, 178.50074560385937, 319.7552650448067, 173.43973876714367, 25.811130632028522, 54.987758831225776, 321.7161361173476, 147.90260456266873, 627.4490367143126, 575.5634311211194, 182.9657394127062, 332.95693249730175, 122.6026710394832, 173.01884105097963, 423.9850494806827, 158.15863351685678, 142.84636887193182, 187.0085216891897, 230.07334198589083, 301.89888328240596, 255.1452297051245, 227.8567490326368, 2.4529224309809523, 2.438692959844173, 14.761266921477082, 1.619083853020751, 1.6190777302550265, 1.6191784216805254, 1.6189429567093747, 1.619122323055464, 1.6191732907850576, 1.6188523526813214, 1.6190644525462463, 1.6190345720955834, 1.6191829921749614, 1.6190006674303765, 1.6186714232355381, 1.618588712461062, 1.61899929046391, 1.6190167299830756, 1.619040550188233, 1.618931138809387, 1.6189191304368566, 1.618591253166543, 1.6189230727645358, 1.6188719564430494, 1.6187809347521385, 1.6187940047547726, 1.6191242782217181, 1.6190515197194753, 1.6189903144591242, 1.61906044367196, 2.3831307110573383, 7.161727487959809, 21.562755644607233, 22.185490669537174, 33.37296539517641, 5.0403118119603825, 43.11668758582551, 6.4297728899167925, 6.65654014602578, 115.96624636546677, 58.49318387068391, 16.124205556558948, 157.9196473532394, 423.9850494806827, 142.84636887193182, 36.086204439089, 8.34130269018896, 21.90029698776772, 140.71801252378012, 67.48322756139127, 221.64022046711796, 37.58372771986171, 9.55547464139084, 627.4490367143126, 130.5665339470216, 230.07334198589083, 320.05535412376184, 100.30537911056987, 108.6771004049542, 31.256495897378564, 115.46362506740753, 915.1339523983812, 122.6026710394832, 52.60837777958422, 297.22472409697104, 301.89888328240596, 132.17738027812487, 80.04566815262224, 227.8567490326368, 321.7161361173476, 319.7552650448067, 107.09140666845029, 534.2392259447194, 332.95693249730175, 575.5634311211194, 255.1452297051245, 142.66433472559024, 187.0085216891897, 224.83818330023487, 215.43784538754983, 138.35826368462844, 4.463584638820101, 2.235371935782493, 2.2801394458367916, 2.2639654891478425, 1.5332929204864842, 1.5332139509636789, 1.5330796316739965, 1.5330793127297961, 1.533121503779073, 1.5330133936996289, 1.532955136602385, 1.5331382316983362, 1.533007956443285, 1.532985289091912, 1.5334251151650824, 1.5331946399620549, 1.5332855793446822, 1.5329065799885406, 1.5333637395662936, 1.532789363457057, 1.5333060677696557, 1.5331753800574135, 1.533213254116165, 1.533341704485494, 1.5330721239389784, 1.53290483488576, 1.5332805832838174, 1.5333260217627145, 1.5326285741146757, 1.5333617001411428, 3.1426748009316228, 7.11360678443037, 3.847874371320434, 3.1281091727657504, 168.02863022364306, 29.76920722160424, 10.395558456884922, 13.000997282057874, 17.834697590857942, 80.27469780889649, 3.2343913954439336, 70.99672399340992, 5.416917619194881, 13.064729016437608, 534.2392259447194, 140.71801252378012, 5.617790963744792, 321.7161361173476, 13.113436991781874, 2.3532923368303322, 423.9850494806827, 575.5634311211194, 7.345993648134547, 7.219696660004305, 99.58957574170732, 33.32360282552912, 22.196126375736267, 297.22472409697104, 77.87137757637106, 46.40971041318909, 215.43784538754983, 113.64235493953962, 56.22990522267363, 177.75839660579328, 319.7552650448067, 63.61220211641043, 44.58975028977535, 627.4490367143126, 301.89888328240596, 92.9292025582679, 915.1339523983812, 187.0085216891897, 93.13316087694164, 173.43973876714367, 94.8472023841729, 142.66433472559024, 130.5665339470216, 173.01884105097963, 332.95693249730175, 138.35826368462844, 230.07334198589083, 221.64022046711796, 255.1452297051245, 227.8567490326368, 147.90260456266873, 182.9657394127062, 178.50074560385937], \"Category\": [\"Default\", \"Default\", \"Default\", \"Default\", \"Default\", \"Default\", \"Default\", \"Default\", \"Default\", \"Default\", \"Default\", \"Default\", \"Default\", \"Default\", \"Default\", \"Default\", \"Default\", \"Default\", \"Default\", \"Default\", \"Default\", \"Default\", \"Default\", \"Default\", \"Default\", \"Default\", \"Default\", \"Default\", \"Default\", \"Default\", \"Topic1\", \"Topic1\", \"Topic1\", \"Topic1\", \"Topic1\", \"Topic1\", \"Topic1\", \"Topic1\", \"Topic1\", \"Topic1\", \"Topic1\", \"Topic1\", \"Topic1\", \"Topic1\", \"Topic1\", \"Topic1\", \"Topic1\", \"Topic1\", \"Topic1\", \"Topic1\", \"Topic1\", \"Topic1\", \"Topic1\", \"Topic1\", \"Topic1\", \"Topic1\", \"Topic1\", \"Topic1\", \"Topic1\", \"Topic1\", \"Topic1\", \"Topic1\", \"Topic1\", \"Topic1\", \"Topic1\", \"Topic1\", \"Topic1\", \"Topic1\", \"Topic1\", \"Topic1\", \"Topic1\", \"Topic1\", \"Topic1\", \"Topic1\", \"Topic1\", \"Topic1\", \"Topic1\", \"Topic1\", \"Topic1\", \"Topic1\", \"Topic1\", \"Topic1\", \"Topic1\", \"Topic1\", \"Topic1\", \"Topic1\", \"Topic1\", \"Topic1\", \"Topic1\", \"Topic1\", \"Topic1\", \"Topic1\", \"Topic1\", \"Topic1\", \"Topic1\", \"Topic1\", \"Topic1\", \"Topic1\", \"Topic1\", \"Topic1\", \"Topic1\", \"Topic1\", \"Topic1\", \"Topic1\", \"Topic1\", \"Topic1\", \"Topic1\", \"Topic1\", \"Topic1\", \"Topic1\", \"Topic1\", \"Topic1\", \"Topic1\", \"Topic1\", \"Topic1\", \"Topic1\", \"Topic1\", \"Topic1\", \"Topic1\", \"Topic1\", \"Topic1\", \"Topic2\", \"Topic2\", \"Topic2\", \"Topic2\", \"Topic2\", \"Topic2\", \"Topic2\", \"Topic2\", \"Topic2\", \"Topic2\", \"Topic2\", \"Topic2\", \"Topic2\", \"Topic2\", \"Topic2\", \"Topic2\", \"Topic2\", \"Topic2\", \"Topic2\", \"Topic2\", \"Topic2\", \"Topic2\", \"Topic2\", \"Topic2\", \"Topic2\", \"Topic2\", \"Topic2\", \"Topic2\", \"Topic2\", \"Topic2\", \"Topic2\", \"Topic2\", \"Topic2\", \"Topic2\", \"Topic2\", \"Topic2\", \"Topic2\", \"Topic2\", \"Topic2\", \"Topic2\", \"Topic2\", \"Topic2\", \"Topic2\", \"Topic2\", \"Topic2\", \"Topic2\", \"Topic2\", \"Topic2\", \"Topic2\", \"Topic2\", \"Topic2\", \"Topic2\", \"Topic2\", \"Topic2\", \"Topic2\", \"Topic2\", \"Topic2\", \"Topic2\", \"Topic2\", \"Topic2\", \"Topic2\", \"Topic2\", \"Topic2\", \"Topic2\", \"Topic2\", \"Topic2\", \"Topic2\", \"Topic2\", \"Topic2\", \"Topic2\", \"Topic2\", \"Topic2\", \"Topic2\", \"Topic2\", \"Topic2\", \"Topic2\", \"Topic2\", \"Topic2\", \"Topic2\", \"Topic2\", \"Topic2\", \"Topic2\", \"Topic2\", \"Topic2\", \"Topic2\", \"Topic3\", \"Topic3\", \"Topic3\", \"Topic3\", \"Topic3\", \"Topic3\", \"Topic3\", \"Topic3\", \"Topic3\", \"Topic3\", \"Topic3\", \"Topic3\", \"Topic3\", \"Topic3\", \"Topic3\", \"Topic3\", \"Topic3\", \"Topic3\", \"Topic3\", \"Topic3\", \"Topic3\", \"Topic3\", \"Topic3\", \"Topic3\", \"Topic3\", \"Topic3\", \"Topic3\", \"Topic3\", \"Topic3\", \"Topic3\", \"Topic3\", \"Topic3\", \"Topic3\", \"Topic3\", \"Topic3\", \"Topic3\", \"Topic3\", \"Topic3\", \"Topic3\", \"Topic3\", \"Topic3\", \"Topic3\", \"Topic3\", \"Topic3\", \"Topic3\", \"Topic3\", \"Topic3\", \"Topic3\", \"Topic3\", \"Topic3\", \"Topic3\", \"Topic3\", \"Topic3\", \"Topic3\", \"Topic3\", \"Topic3\", \"Topic3\", \"Topic3\", \"Topic3\", \"Topic3\", \"Topic3\", \"Topic3\", \"Topic3\", \"Topic3\", \"Topic3\", \"Topic3\", \"Topic3\", \"Topic3\", \"Topic3\", \"Topic3\", \"Topic3\", \"Topic3\", \"Topic3\", \"Topic3\", \"Topic3\", \"Topic3\", \"Topic3\", \"Topic3\", \"Topic3\", \"Topic3\", \"Topic3\", \"Topic4\", \"Topic4\", \"Topic4\", \"Topic4\", \"Topic4\", \"Topic4\", \"Topic4\", \"Topic4\", \"Topic4\", \"Topic4\", \"Topic4\", \"Topic4\", \"Topic4\", \"Topic4\", \"Topic4\", \"Topic4\", \"Topic4\", \"Topic4\", \"Topic4\", \"Topic4\", \"Topic4\", \"Topic4\", \"Topic4\", \"Topic4\", \"Topic4\", \"Topic4\", \"Topic4\", \"Topic4\", \"Topic4\", \"Topic4\", \"Topic4\", \"Topic4\", \"Topic4\", \"Topic4\", \"Topic4\", \"Topic4\", \"Topic4\", \"Topic4\", \"Topic4\", \"Topic4\", \"Topic4\", \"Topic4\", \"Topic4\", \"Topic4\", \"Topic4\", \"Topic4\", \"Topic4\", \"Topic4\", \"Topic4\", \"Topic4\", \"Topic4\", \"Topic4\", \"Topic4\", \"Topic4\", \"Topic4\", \"Topic4\", \"Topic4\", \"Topic4\", \"Topic4\", \"Topic4\", \"Topic4\", \"Topic4\", \"Topic4\", \"Topic4\", \"Topic4\", \"Topic4\", \"Topic4\", \"Topic4\", \"Topic4\", \"Topic4\", \"Topic4\", \"Topic4\", \"Topic4\", \"Topic4\", \"Topic4\", \"Topic4\", \"Topic4\", \"Topic4\", \"Topic4\", \"Topic4\", \"Topic4\", \"Topic5\", \"Topic5\", \"Topic5\", \"Topic5\", \"Topic5\", \"Topic5\", \"Topic5\", \"Topic5\", \"Topic5\", \"Topic5\", \"Topic5\", \"Topic5\", \"Topic5\", \"Topic5\", \"Topic5\", \"Topic5\", \"Topic5\", \"Topic5\", \"Topic5\", \"Topic5\", \"Topic5\", \"Topic5\", \"Topic5\", \"Topic5\", \"Topic5\", \"Topic5\", \"Topic5\", \"Topic5\", \"Topic5\", \"Topic5\", \"Topic5\", \"Topic5\", \"Topic5\", \"Topic5\", \"Topic5\", \"Topic5\", \"Topic5\", \"Topic5\", \"Topic5\", \"Topic5\", \"Topic5\", \"Topic5\", \"Topic5\", \"Topic5\", \"Topic5\", \"Topic5\", \"Topic5\", \"Topic5\", \"Topic5\", \"Topic5\", \"Topic5\", \"Topic5\", \"Topic5\", \"Topic5\", \"Topic5\", \"Topic5\", \"Topic5\", \"Topic5\", \"Topic5\", \"Topic5\", \"Topic5\", \"Topic5\", \"Topic5\", \"Topic5\", \"Topic5\", \"Topic5\", \"Topic5\", \"Topic5\", \"Topic5\", \"Topic5\", \"Topic5\", \"Topic5\", \"Topic5\", \"Topic5\", \"Topic5\", \"Topic5\", \"Topic5\", \"Topic5\", \"Topic5\", \"Topic5\", \"Topic5\", \"Topic5\", \"Topic5\", \"Topic5\", \"Topic5\", \"Topic5\", \"Topic5\"], \"logprob\": [30.0, 29.0, 28.0, 27.0, 26.0, 25.0, 24.0, 23.0, 22.0, 21.0, 20.0, 19.0, 18.0, 17.0, 16.0, 15.0, 14.0, 13.0, 12.0, 11.0, 10.0, 9.0, 8.0, 7.0, 6.0, 5.0, 4.0, 3.0, 2.0, 1.0, -8.9738, -8.9739, -8.9749, -9.0261, -9.0376, -8.7653, -9.0554, -9.0527, -9.0665, -9.1055, -8.5954, -9.1387, -8.4314, -9.1317, -8.651, -9.1491, -8.62, -7.869, -8.6533, -7.9619, -9.1801, -9.1673, -9.5787, -9.5788, -9.5789, -9.579, -9.5791, -9.5791, -9.5791, -9.5792, -9.1766, -8.8995, -8.8985, -6.1564, -8.8949, -8.6944, -8.5216, -8.9089, -7.6047, -7.3898, -7.8765, -7.5654, -7.9497, -7.9602, -8.169, -4.1739, -5.6676, -5.8096, -7.569, -6.0999, -5.8644, -4.3243, -7.3118, -5.6215, -5.4408, -6.4704, -4.4483, -5.6753, -5.2294, -5.149, -6.4134, -5.011, -5.2782, -5.8955, -4.9655, -6.2434, -5.4653, -6.3781, -4.1291, -6.5319, -6.2388, -5.0441, -6.4634, -4.8597, -5.1337, -6.0468, -5.9539, -5.6673, -5.6268, -5.2446, -5.7326, -5.6782, -5.7877, -5.5275, -5.3486, -5.8381, -5.8969, -5.8409, -5.7432, -5.7857, -5.8281, -8.6877, -8.4118, -8.7567, -8.7542, -8.7939, -8.2497, -7.9815, -7.9933, -9.2547, -9.2549, -9.2548, -9.2551, -9.2553, -9.2552, -9.2554, -9.2555, -9.2555, -9.2556, -9.2556, -9.2555, -9.2556, -9.2557, -9.2558, -9.2558, -9.2559, -9.2558, -9.2559, -9.2561, -9.2559, -9.2557, -8.5519, -8.8421, -8.537, -8.3538, -8.602, -8.0762, -3.6854, -5.5562, -6.6903, -8.0398, -7.0305, -5.4603, -4.8137, -6.3209, -6.1967, -5.6458, -6.0329, -6.3409, -7.4903, -6.2951, -8.9102, -8.6602, -5.3688, -6.1525, -5.8813, -4.9521, -4.5246, -6.1223, -6.1531, -6.3586, -6.3236, -5.9069, -5.7111, -5.1022, -6.1935, -5.3626, -6.0086, -5.3187, -4.6859, -5.2119, -5.7495, -5.033, -4.9107, -5.5196, -6.0327, -5.4161, -5.4132, -5.6356, -5.6512, -5.7772, -5.8242, -5.9129, -5.817, -5.906, -5.9555, -8.0468, -7.9023, -8.7351, -8.7578, -8.7779, -8.7781, -8.4925, -8.8134, -8.5305, -8.2955, -8.8274, -8.8469, -8.1541, -8.3482, -8.5745, -9.299, -9.2989, -9.2991, -9.299, -9.2993, -9.2991, -9.2992, -9.2993, -9.2993, -9.2994, -9.2993, -9.2994, -9.2996, -9.2993, -9.2994, -8.5875, -8.883, -8.9064, -8.6933, -8.458, -8.3103, -5.6385, -7.0194, -5.9817, -8.2625, -8.926, -6.712, -8.3248, -5.0781, -7.9059, -5.5133, -5.3038, -5.1271, -5.6805, -5.1695, -5.748, -6.7542, -6.3044, -6.275, -4.0693, -4.9734, -6.5922, -4.9534, -5.7595, -4.5859, -5.4504, -5.0047, -5.4774, -6.9453, -6.3787, -5.083, -5.6735, -4.6404, -4.7075, -5.541, -5.1288, -5.8223, -5.6108, -5.0244, -5.7131, -5.7926, -5.6338, -5.524, -5.412, -5.4995, -5.5859, -8.4596, -8.5189, -6.7309, -8.9626, -8.9627, -8.9627, -8.9629, -8.9628, -8.9628, -8.963, -8.963, -8.963, -8.963, -8.9632, -8.9634, -8.9635, -8.9633, -8.9633, -8.9633, -8.9635, -8.9636, -8.9639, -8.9637, -8.9637, -8.9638, -8.9638, -8.9637, -8.9637, -8.9638, -8.9637, -8.5811, -7.5639, -6.5624, -6.5978, -6.316, -7.9741, -6.1614, -7.8425, -7.8152, -5.5382, -6.0876, -7.1248, -5.3311, -4.5657, -5.4596, -6.5328, -7.6944, -6.9586, -5.5514, -6.1235, -5.2597, -6.5913, -7.6187, -4.4864, -5.6676, -5.2508, -5.012, -5.8899, -5.8739, -6.7574, -5.8437, -4.4329, -5.8599, -6.4303, -5.2903, -5.2805, -5.8375, -6.1637, -5.5417, -5.346, -5.3563, -5.9965, -5.0998, -5.405, -5.3122, -5.6496, -5.876, -5.7787, -5.7218, -5.7549, -5.9448, -7.762, -8.4675, -8.4993, -8.5854, -8.9859, -8.986, -8.9861, -8.9862, -8.9862, -8.9863, -8.9865, -8.9864, -8.9865, -8.9865, -8.9862, -8.9865, -8.9864, -8.9867, -8.9865, -8.9869, -8.9865, -8.9866, -8.9866, -8.9866, -8.9868, -8.9869, -8.9867, -8.9867, -8.9873, -8.9869, -8.3326, -7.6094, -8.1709, -8.3577, -4.9767, -6.4829, -7.3773, -7.2181, -6.9859, -5.7931, -8.3824, -5.9165, -7.9763, -7.2727, -4.3578, -5.4484, -7.9677, -4.8221, -7.329, -8.6548, -4.6581, -4.4543, -7.7808, -7.8, -5.8277, -6.6831, -6.9934, -5.0802, -6.0768, -6.4497, -5.359, -5.8317, -6.3332, -5.5637, -5.1747, -6.2736, -6.5219, -4.7724, -5.3023, -6.0684, -4.6414, -5.6431, -6.0688, -5.7083, -6.0888, -5.8649, -5.9167, -5.776, -5.442, -5.898, -5.6493, -5.6695, -5.6356, -5.7321, -5.926, -5.8852, -5.9235], \"loglift\": [30.0, 29.0, 28.0, 27.0, 26.0, 25.0, 24.0, 23.0, 22.0, 21.0, 20.0, 19.0, 18.0, 17.0, 16.0, 15.0, 14.0, 13.0, 12.0, 11.0, 10.0, 9.0, 8.0, 7.0, 6.0, 5.0, 4.0, 3.0, 2.0, 1.0, 0.837, 0.8369, 0.836, 0.7955, 0.7863, 0.7819, 0.7775, 0.7769, 0.7671, 0.732, 0.7245, 0.7118, 0.7109, 0.7109, 0.7002, 0.6969, 0.6959, 0.6932, 0.6899, 0.6846, 0.684, 0.6763, 0.6738, 0.6737, 0.6737, 0.6736, 0.6736, 0.6736, 0.6736, 0.6736, 0.6728, 0.6678, 0.6677, 0.6109, 0.6613, 0.649, 0.6363, 0.6504, 0.5934, 0.5787, 0.5924, 0.569, 0.5979, 0.5982, 0.612, 0.2844, 0.4057, 0.4166, 0.5655, 0.4297, 0.3981, 0.2203, 0.5295, 0.3321, 0.3033, 0.4233, 0.1708, 0.3233, 0.2418, 0.2091, 0.3904, 0.1788, 0.2063, 0.2884, 0.1264, 0.343, 0.2035, 0.3642, -0.0482, 0.3896, 0.329, 0.0821, 0.3659, -0.0095, -0.0013, 0.2279, 0.1996, 0.1085, 0.0885, -0.0392, 0.1037, 0.0683, 0.1157, -0.066, -0.2172, 0.0931, 0.1188, -0.0031, -0.2444, -0.2584, -0.1375, 1.2065, 1.1971, 1.1421, 1.1395, 1.1318, 1.1232, 1.0956, 1.0899, 1.0648, 1.0648, 1.0647, 1.0646, 1.0646, 1.0644, 1.0643, 1.0643, 1.0642, 1.0642, 1.0642, 1.0642, 1.0641, 1.0641, 1.0641, 1.0641, 1.0641, 1.064, 1.064, 1.064, 1.064, 1.064, 1.0631, 1.0599, 1.0567, 1.0496, 1.0133, 0.9663, 0.3955, 0.5904, 0.7081, 0.8952, 0.7201, 0.4588, 0.3177, 0.5583, 0.5268, 0.4203, 0.4844, 0.5345, 0.7524, 0.5215, 1.0033, 0.9542, 0.3218, 0.4723, 0.4104, 0.1398, 0.0199, 0.3921, 0.3917, 0.4445, 0.4268, 0.2922, 0.2314, 0.0302, 0.3748, 0.0989, 0.3096, 0.0394, -0.2276, -0.0221, 0.1817, -0.1828, -0.2917, 0.0077, 0.28, -0.2107, -0.287, -0.1367, -0.18, -0.0577, -0.0777, -0.0766, -0.3324, -0.1907, -0.1176, 1.4791, 1.4445, 1.279, 1.2671, 1.2472, 1.2323, 1.2244, 1.2119, 1.1969, 1.1913, 1.1661, 1.1553, 1.1482, 1.1306, 1.1257, 1.1161, 1.1161, 1.1161, 1.1161, 1.116, 1.1159, 1.1159, 1.1159, 1.1159, 1.1158, 1.1158, 1.1158, 1.1158, 1.1158, 1.1158, 1.1141, 1.1066, 1.0951, 1.0801, 1.0532, 1.0083, 0.7091, 0.8565, 0.6721, 0.9826, 1.0693, 0.7057, 0.9595, 0.4065, 0.8822, 0.4567, 0.4157, 0.3717, 0.4627, 0.3577, 0.4635, 0.6687, 0.5646, 0.548, 0.0115, 0.232, 0.6212, 0.178, 0.3804, 0.0332, 0.2649, 0.1276, 0.2667, 0.7038, 0.5141, 0.0433, 0.2298, -0.1822, -0.1629, 0.1496, -0.0369, 0.2686, 0.1357, -0.1742, 0.1232, 0.1455, 0.035, -0.0625, -0.2222, -0.1414, -0.1147, 1.543, 1.4895, 1.477, 1.4555, 1.4554, 1.4553, 1.4552, 1.4552, 1.4552, 1.4551, 1.4551, 1.455, 1.455, 1.4549, 1.4549, 1.4548, 1.4548, 1.4548, 1.4547, 1.4546, 1.4545, 1.4545, 1.4545, 1.4545, 1.4544, 1.4544, 1.4543, 1.4543, 1.4543, 1.4543, 1.4503, 1.3673, 1.2665, 1.2026, 1.0762, 1.3083, 0.9746, 1.1964, 1.1891, 0.6084, 0.7434, 0.9947, 0.5067, 0.2845, 0.4786, 0.7812, 1.0843, 0.8548, 0.4018, 0.5645, 0.2392, 0.682, 1.0241, -0.0281, 0.3604, 0.2107, 0.1194, 0.4018, 0.3376, 0.7003, 0.3072, -0.3521, 0.2311, 0.5067, -0.0849, -0.0907, 0.1782, 0.3536, -0.0705, -0.2198, -0.2239, 0.2297, -0.4808, -0.3131, -0.7676, -0.2915, 0.0634, -0.11, -0.2373, -0.2277, 0.0252, 1.6419, 1.628, 1.5763, 1.4974, 1.4865, 1.4865, 1.4865, 1.4864, 1.4864, 1.4863, 1.4862, 1.4862, 1.4862, 1.4862, 1.4862, 1.4861, 1.4861, 1.486, 1.4859, 1.4859, 1.4859, 1.4859, 1.4859, 1.4859, 1.4858, 1.4858, 1.4858, 1.4857, 1.4856, 1.4855, 1.4223, 1.3285, 1.3815, 1.4018, 0.7991, 1.0235, 1.1812, 1.1168, 1.0329, 0.7213, 1.3436, 0.7208, 1.234, 1.0572, 0.2612, 0.5048, 1.2062, 0.3041, 0.9973, 1.3893, 0.1921, 0.0903, 1.1249, 1.1231, 0.4711, 0.7106, 0.8066, 0.1252, 0.4681, 0.6126, 0.1682, 0.3351, 0.5373, 0.1558, -0.0423, 0.4735, 0.5805, -0.3141, -0.1125, 0.2997, -0.5606, 0.0256, 0.2971, 0.0357, 0.2588, 0.0745, 0.1113, -0.0295, -0.3502, 0.0721, -0.1878, -0.1706, -0.2776, -0.2609, -0.0227, -0.1946, -0.2082]}, \"token.table\": {\"Topic\": [1, 2, 3, 4, 5, 4, 1, 2, 3, 4, 5, 4, 1, 2, 3, 5, 2, 1, 2, 3, 4, 5, 1, 2, 3, 4, 5, 5, 5, 4, 1, 2, 3, 4, 5, 2, 4, 5, 3, 1, 2, 3, 4, 1, 2, 3, 4, 5, 5, 1, 2, 3, 4, 5, 5, 1, 2, 3, 4, 5, 2, 3, 1, 1, 1, 2, 3, 4, 5, 3, 4, 1, 2, 3, 4, 5, 1, 1, 2, 3, 4, 5, 1, 2, 4, 1, 2, 3, 4, 5, 4, 1, 2, 3, 4, 5, 1, 2, 3, 5, 2, 1, 2, 3, 4, 5, 1, 2, 3, 4, 5, 1, 2, 3, 4, 5, 2, 1, 2, 3, 4, 1, 2, 3, 4, 5, 3, 2, 1, 2, 3, 4, 5, 1, 3, 5, 1, 2, 3, 4, 5, 1, 2, 3, 4, 5, 1, 1, 2, 3, 4, 5, 1, 2, 4, 1, 3, 4, 4, 1, 2, 3, 4, 5, 1, 2, 3, 4, 5, 1, 2, 3, 4, 5, 2, 1, 2, 3, 4, 5, 3, 4, 4, 5, 1, 3, 4, 5, 1, 2, 3, 4, 5, 1, 2, 3, 4, 5, 1, 2, 3, 5, 1, 3, 1, 2, 3, 4, 5, 1, 2, 3, 4, 5, 1, 2, 3, 4, 5, 1, 2, 3, 4, 5, 1, 2, 3, 4, 5, 1, 2, 3, 4, 5, 2, 1, 3, 4, 5, 4, 2, 5, 2, 1, 4, 1, 2, 3, 4, 5, 2, 1, 2, 3, 4, 5, 5, 2, 4, 5, 1, 2, 3, 4, 5, 4, 1, 2, 3, 1, 2, 3, 4, 5, 1, 2, 3, 4, 5, 5, 4, 1, 2, 3, 4, 5, 5, 2, 3, 4, 5, 5, 1, 1, 1, 2, 3, 4, 5, 4, 1, 1, 3, 3, 1, 2, 3, 4, 5, 4, 1, 2, 3, 4, 5, 4, 1, 2, 3, 4, 5, 4, 2, 3, 3, 1, 2, 3, 4, 5, 3, 1, 2, 3, 4, 5, 1, 2, 3, 4, 5, 1, 2, 3, 4, 5, 1, 2, 3, 4, 5, 2, 1, 2, 3, 4, 5, 1, 2, 3, 4, 5, 3, 1, 2, 3, 5, 1, 2, 3, 4, 5, 1, 2, 3, 4, 5, 1, 2, 3, 4, 1, 3, 4, 5, 1, 2, 3, 4, 5, 1, 2, 3, 4, 5, 1, 2, 3, 4, 5, 1, 2, 3, 4, 5, 5, 1, 2, 3, 5, 3, 2, 1, 2, 3, 5, 5, 1, 2, 3, 4, 5, 1, 2, 3, 4, 5, 1, 1, 2, 3, 4, 5, 1, 2, 3, 4, 5, 1, 1, 2, 3, 4, 5, 1, 1, 2, 4, 1, 5, 4, 1, 2, 3, 4, 5, 1, 2, 3, 4, 5, 5, 2, 1, 2, 3, 4, 5, 1, 2, 3, 4, 5, 1, 2, 3, 4, 5, 1, 2, 3, 4, 5, 1, 2, 3, 4, 5, 3, 1, 2, 4, 1, 2, 1, 2, 3, 1, 2, 3, 4, 5, 3, 5, 5, 2, 1, 2, 3, 4, 5, 1, 2, 3, 4, 5, 1, 2, 3, 4, 5, 1, 3, 1, 2, 3, 4, 1, 2, 3, 5, 1, 2, 3, 4, 5, 4, 2, 1, 2, 3, 4, 5, 1, 2, 3, 4, 5, 2, 1, 2, 3, 4, 5, 1, 1, 2, 3, 4, 5, 1, 2, 3, 4, 5, 3, 1, 2, 3, 4, 5, 1, 2, 3, 4, 5, 2, 1, 2, 3, 4, 5, 2, 3, 2, 3, 2, 3, 2, 1, 3, 2, 3, 1, 1, 3, 4, 1, 2, 3, 4, 5, 1, 2, 3, 4, 5, 1, 2, 3, 4, 5, 1, 2, 3, 4, 5, 4, 1, 2, 3, 4, 5, 1, 2, 3, 4, 5, 1, 2, 1, 2, 3, 4, 5, 1, 2, 3, 5, 1, 1, 2, 3, 4, 5, 1, 2, 3, 4, 5, 1, 2, 3, 4, 5, 1, 2, 3, 4, 5, 1, 2, 3, 4, 5, 1, 2, 3, 4, 5, 1, 4, 3, 1, 2, 3, 4, 5, 1, 3, 1, 2, 2, 5, 4, 1, 3, 5, 1, 2, 3, 5, 2, 5, 1, 2, 5, 1, 2, 3, 4, 5, 1, 2, 3, 4, 5, 1, 2, 3, 4, 5, 1, 2, 3, 4, 5, 1, 1, 2, 3, 4, 5, 2, 1, 2, 3, 4, 5, 2, 3, 1, 1, 1, 4, 1, 2, 3, 4, 5, 1, 1, 2, 3, 4, 5, 5, 5, 1, 2, 3, 4, 5, 1, 2, 3, 4, 5, 1, 2, 1, 3, 5, 2, 3, 5, 3, 1, 2, 3, 4, 5, 1, 2, 3, 4, 5, 1, 2, 3, 4, 5, 5, 4, 2, 5, 4, 1, 2, 3, 4, 5, 1, 2, 3, 4, 5, 1, 2, 3, 4, 5, 1, 2, 3, 4, 5, 1, 2, 4, 3, 2, 3, 5, 1, 2, 3, 4, 5, 1, 2, 3, 4, 5, 3, 2, 3, 1, 2, 3, 4, 5, 4, 1, 1, 3, 2, 3, 3, 1, 2, 3, 4, 5, 1, 2, 3, 4, 5, 1, 2, 3, 4, 5, 1, 2, 3, 4, 5, 1, 2, 3, 4, 5, 1, 2, 3, 4, 5, 4, 1, 2, 3, 4, 5, 4, 1, 2, 3, 5, 1, 3, 5, 1, 5, 1, 2, 3, 4, 5, 3, 1, 2, 3, 4, 5, 1, 2, 3, 4, 5, 1, 2, 3, 4, 5, 2, 1, 2, 3, 4, 5, 1, 2, 3, 4, 5, 5], \"Freq\": [0.45262640211735583, 0.1737192881365908, 0.1561879838292284, 0.1290941498996684, 0.08925027647384481, 0.6175971632342483, 0.2661173104150152, 0.19008379315358226, 0.22810055178429872, 0.22810055178429872, 0.11405027589214936, 0.419616093804743, 0.24338799380350634, 0.24338799380350634, 0.730163981410519, 0.6521770228945819, 0.5597771427296109, 0.3419460523440201, 0.1963023633826782, 0.15197602326400894, 0.22163170059334636, 0.09498501454000559, 0.518556792026729, 0.12647726634798268, 0.13912499298278094, 0.0758863598087896, 0.12647726634798268, 0.4417028460872875, 0.6522246939975108, 0.6176945753774212, 0.36010512017046464, 0.18005256008523232, 0.15004380007102694, 0.09002628004261616, 0.24007008011364311, 0.7373303645651977, 0.6176355719762056, 0.6522411023600917, 0.8340638216797105, 0.6660200551556492, 0.1902914443301855, 0.09514572216509275, 0.09514572216509275, 0.34262957795813825, 0.18844626787697605, 0.2741036623665106, 0.07709165504058112, 0.11135461283639493, 0.652196350036799, 0.18605567818376456, 0.31009279697294095, 0.12403711878917638, 0.3721113563675291, 0.06201855939458819, 0.6523100216278575, 0.3172901274432598, 0.23905420560793547, 0.17820404418046099, 0.1651647238745736, 0.09996812234513665, 0.6502391048240603, 0.16255977620601508, 0.6995374183002966, 0.7913748454266292, 0.4763224658550215, 0.1421858107029915, 0.1706229728435898, 0.12085793909754276, 0.09242077695694446, 0.6158449406867768, 0.6176914978208594, 0.247205335266355, 0.15450333454147186, 0.3708080028995325, 0.06180133381658875, 0.18540400144976624, 0.6947751511987524, 0.36974635470975314, 0.17927095985927427, 0.24649756980650211, 0.1064421324164441, 0.10083991492084177, 0.6178794240723069, 0.2059598080241023, 0.6175954199325883, 0.37936594838880616, 0.20232850580736328, 0.2149740374203235, 0.10116425290368164, 0.10748701871016175, 0.6176588428523858, 0.6038100996656346, 0.1341800221479188, 0.1341800221479188, 0.0670900110739594, 0.1341800221479188, 0.21717855664946598, 0.6515356699483978, 0.8217613482060517, 0.652281973735203, 0.5599988269792463, 0.2968873411912206, 0.2968873411912206, 0.14332492333369273, 0.13308742880985752, 0.14332492333369273, 0.2691201435759477, 0.2018401076819608, 0.2018401076819608, 0.11213339315664489, 0.22426678631328978, 0.22423005618596223, 0.32388785893527877, 0.08720057740565199, 0.11211502809298111, 0.24914450687329137, 0.5598834645821849, 0.15022819333509765, 0.15022819333509765, 0.15022819333509765, 0.450684580005293, 0.2108654709602419, 0.17923565031620564, 0.3795578477284355, 0.06325964128807257, 0.15814910322018144, 0.8339057954708002, 0.5598788594514876, 0.41807845366940305, 0.1556675093449905, 0.28020151682098293, 0.10674343497942206, 0.04002878811728327, 0.6376009387033299, 0.2125336462344433, 0.2125336462344433, 0.36955199942621847, 0.18907311598550713, 0.30079813906785224, 0.11172502308234512, 0.03437693017918311, 0.2963321373666175, 0.13732464902355446, 0.2963321373666175, 0.13732464902355446, 0.13009703591705157, 0.52350273100865, 0.28058489181515933, 0.49102356067652886, 0.07014622295378983, 0.07014622295378983, 0.14029244590757967, 0.27675644186005244, 0.5535128837201049, 0.27675644186005244, 0.7825913317774721, 0.6158686668604516, 0.6176960795627607, 0.6177906063239906, 0.23736450002232348, 0.3498003158223714, 0.11243581580004797, 0.1873930263334133, 0.11243581580004797, 0.5034967588015141, 0.12587418970037853, 0.1549220796312351, 0.11619155972342633, 0.09682629976952195, 0.2660725959526187, 0.1596435575715712, 0.2394653363573568, 0.2660725959526187, 0.05321451919052374, 0.5597876357747523, 0.23657473590228068, 0.3312046302631929, 0.17348813966167248, 0.1419448415413684, 0.11040154342106431, 0.6158183024626422, 0.6175991202986983, 0.6176497555195501, 0.6524053623027481, 0.10465204895928078, 0.4186081958371231, 0.4186081958371231, 0.10465204895928078, 0.41677892187121957, 0.20838946093560978, 0.15629209570170735, 0.14760920149605694, 0.06946315364520327, 0.6302531414687774, 0.10504219024479623, 0.10504219024479623, 0.10504219024479623, 0.10504219024479623, 0.6156410775106874, 0.17589745071733925, 0.17589745071733925, 0.08794872535866963, 0.3016814512268219, 0.6033629024536438, 0.22962588785618895, 0.1530839252374593, 0.07654196261872966, 0.1530839252374593, 0.38270981309364827, 0.24301793283854298, 0.04860358656770859, 0.4374322791093774, 0.1458107597031258, 0.1458107597031258, 0.42617272977380993, 0.11622892630194817, 0.38742975433982724, 0.038742975433982724, 0.038742975433982724, 0.5865129387430666, 0.10663871613510302, 0.10663871613510302, 0.05331935806755151, 0.10663871613510302, 0.3808874708721791, 0.16663826850657837, 0.14283280157706715, 0.04165956712664459, 0.26781150295700096, 0.3221194225292051, 0.2040089676018299, 0.18253433943321623, 0.12884776901168205, 0.16105971126460256, 0.5597479890198954, 0.2782575705485295, 0.13912878527426475, 0.4637626175808825, 0.09275252351617651, 0.617652036117832, 0.5598715058820485, 0.4473528471895884, 0.5598756755936505, 0.6819361344802143, 0.6176455707680413, 0.461255307282296, 0.09801675279748791, 0.2479247276642341, 0.0749539874333731, 0.1268452095026314, 0.5598215153366483, 0.13698444371213925, 0.13698444371213925, 0.2739688874242785, 0.3196303686616582, 0.13698444371213925, 0.6522569063405643, 0.559894753114086, 0.22403518268768371, 0.6721055480630511, 0.6007782650129372, 0.12015565300258745, 0.12015565300258745, 0.12015565300258745, 0.12015565300258745, 0.6176689206038161, 0.5771097521360368, 0.09618495868933948, 0.19236991737867895, 0.43127414855842927, 0.18623201869568537, 0.13722359272313658, 0.1568269631121561, 0.09801685194509756, 0.26684554420333056, 0.16562826881586035, 0.2944502556726406, 0.1840314097954004, 0.0920157048977002, 0.6522850323771222, 0.4100557210219271, 0.49910698665754233, 0.1497320959972627, 0.11645829688675988, 0.1330951964420113, 0.09982139733150847, 0.6523219805927595, 0.24938963963397176, 0.4987792792679435, 0.24938963963397176, 0.6522818380334767, 0.6523562175824993, 0.7905017640304417, 0.7756661145659081, 0.41936900064195454, 0.22732151436666695, 0.16461213109310366, 0.09798341136494265, 0.09014473845574723, 0.6176649708163285, 0.5235303237080243, 0.4047146916400725, 0.4047146916400725, 0.4072298883733659, 0.40742118242597747, 0.21199150955498014, 0.1490565301558454, 0.1225575914614729, 0.10930812211428664, 0.6176332363109445, 0.3421296582043835, 0.3341731545252118, 0.10343454782923223, 0.11934755518757564, 0.10343454782923223, 0.6176869888192827, 0.369891300561294, 0.16163317335451502, 0.1958248061795086, 0.10568322873179829, 0.16474150361133263, 0.6177215595626679, 0.6463328289921036, 0.3231664144960518, 0.6157742853755765, 0.4849821631694813, 0.20337961681300828, 0.12515668726954354, 0.06257834363477177, 0.10951210136085061, 0.615996301743798, 0.3155215318096019, 0.13522351363268653, 0.045074504544228844, 0.45074504544228844, 0.045074504544228844, 0.13963111577216325, 0.13963111577216325, 0.13963111577216325, 0.558524463088653, 0.13963111577216325, 0.38743749539152605, 0.24928148928291988, 0.18020348622861676, 0.09610852598859561, 0.08409496024002117, 0.3196263639545722, 0.17757020219698455, 0.33738338417427066, 0.07102808087879382, 0.08878510109849228, 0.5596994889474138, 0.37728610551918895, 0.1100417807764301, 0.2200835615528602, 0.09432152637979724, 0.18864305275959448, 0.25060687167423557, 0.17542481017196487, 0.35084962034392975, 0.10024274866969422, 0.10024274866969422, 0.615882675376125, 0.27225724603068274, 0.13612862301534137, 0.13612862301534137, 0.4083858690460241, 0.23592268758000343, 0.3707356519114339, 0.15166458487285933, 0.13481296433143053, 0.11796134379000171, 0.23709595077449988, 0.3111884353915311, 0.11854797538724994, 0.23709595077449988, 0.1037294784638437, 0.14016882033504524, 0.560675281340181, 0.14016882033504524, 0.14016882033504524, 0.18460683183670615, 0.18460683183670615, 0.18460683183670615, 0.3692136636734123, 0.3734667507768118, 0.1778413098937199, 0.1956254408830919, 0.05335239296811597, 0.21340957187246387, 0.3258014189252498, 0.28507624155959355, 0.21380718116969516, 0.07126906038989839, 0.10181294341414056, 0.37862754456275916, 0.15550774151684751, 0.23664221535172447, 0.10817929844650262, 0.12170171075231545, 0.17870874363853673, 0.3752883616409271, 0.14296699491082937, 0.1250961205469757, 0.17870874363853673, 0.6522249904345233, 0.14057566439976849, 0.28115132879953697, 0.14057566439976849, 0.42172699319930546, 0.40751047735541934, 0.7549702551502785, 0.2239012869238829, 0.6717038607716487, 0.2239012869238829, 0.6523123352341165, 0.6523554749223371, 0.42393242309491613, 0.2223907793284806, 0.15984337264234544, 0.06254740668613516, 0.13204452522628535, 0.23934412650456927, 0.11967206325228463, 0.23934412650456927, 0.2735361445766506, 0.10257605421624397, 0.6729895324334576, 0.389733130011543, 0.17321472444957467, 0.1991969331170109, 0.18187546067205343, 0.051964417334872406, 0.37541691274567013, 0.2641822719321382, 0.15294763111860635, 0.11818680586437763, 0.10428247576268615, 0.7098948403249272, 0.2773185911182194, 0.19575429961286075, 0.24469287451607594, 0.17128501216125316, 0.10603357895696625, 0.5233814838678066, 0.68985519740613, 0.1724637993515325, 0.1724637993515325, 0.5234922540958812, 0.6521348777389393, 0.6178221757641577, 0.2551216388806319, 0.185543010095005, 0.0927715050475025, 0.3478931439281344, 0.11596438130937814, 0.3154983267161772, 0.3154983267161772, 0.14460339974491457, 0.09202034529221836, 0.13145763613174052, 0.6521942249188794, 0.8249447037742357, 0.29171389005378484, 0.3684807032258335, 0.13818026370968756, 0.09212017580645837, 0.1074735384408681, 0.27495243827719684, 0.2999481144842147, 0.22496108586316105, 0.14997405724210736, 0.05311581193991302, 0.38584514152638577, 0.15887741121674706, 0.17400859323738965, 0.15887741121674706, 0.12104945616514062, 0.6294537046850501, 0.12589074093701003, 0.12589074093701003, 0.06294537046850501, 0.12589074093701003, 0.3293562208755939, 0.1145586855219457, 0.37231572794632356, 0.04295950707072964, 0.14319835690243213, 0.6158270138402979, 0.5234137932750603, 0.5597652452574989, 0.6176185614641447, 0.2708594134495707, 0.5417188268991414, 0.6154253242921025, 0.20514177476403417, 0.20514177476403417, 0.15552648859001006, 0.15552648859001006, 0.15552648859001006, 0.4665794657700302, 0.15552648859001006, 0.6158896254730803, 0.6522329089441306, 0.4249365811248541, 0.7458794304652784, 0.6255737182105655, 0.11228246224292202, 0.14436316574089975, 0.03208070349797772, 0.0802017587449443, 0.22428190775998344, 0.11214095387999172, 0.2803523846999793, 0.05607047693999586, 0.33642286163997515, 0.25103028920254955, 0.23094786606634557, 0.2209066544982436, 0.1104533272491218, 0.19078301979393764, 0.6324619089664213, 0.21082063632214043, 0.7006897419160105, 0.17517243547900263, 0.17517243547900263, 0.17517243547900263, 0.24202356294829078, 0.12101178147414539, 0.48404712589658155, 0.12101178147414539, 0.3500263982546679, 0.11200844744149373, 0.21701636691789408, 0.21701636691789408, 0.10500791947640037, 0.6176654961432744, 0.7316081989097928, 0.4685646535266506, 0.17850082039110501, 0.13387561529332875, 0.13387561529332875, 0.0818128760125898, 0.5135799567025698, 0.12139162612969832, 0.0933781739459218, 0.16808071310265923, 0.10271599134051397, 0.5599067479131303, 0.36371731500070964, 0.14548692600028387, 0.3091597177506032, 0.07274346300014194, 0.09092932875017741, 0.691281339760037, 0.22395344708448522, 0.12797339833399157, 0.19196009750098733, 0.25594679666798315, 0.19196009750098733, 0.2144212750384831, 0.4288425500769662, 0.1715370200307865, 0.08576851001539325, 0.042884255007696624, 0.6158088287763431, 0.33727604351887713, 0.18161017727939538, 0.15802443997038298, 0.1768930298175929, 0.1462315713158768, 0.23977070180565438, 0.11988535090282719, 0.11988535090282719, 0.35965605270848156, 0.11988535090282719, 0.7348903532431559, 0.26967936152598604, 0.11985749401154935, 0.08989312050866201, 0.38953685553753536, 0.14982186751443669, 0.5598673407649412, 0.40242311486193677, 0.3063614201981363, 0.6127228403962726, 0.2414554836666265, 0.482910967333253, 0.5598604924690936, 0.3013007609014091, 0.6026015218028182, 0.7312238125865222, 0.6158568547495328, 0.523483384305238, 0.19877279986874483, 0.39754559973748965, 0.19877279986874483, 0.3245426521676122, 0.3223571797624431, 0.1901360992497122, 0.09397531342227154, 0.06884238076282682, 0.29869828677404087, 0.2067911216127975, 0.16849646946227945, 0.19147326075259027, 0.137860747741865, 0.5278684751397219, 0.1820236121171455, 0.1820236121171455, 0.09101180605857274, 0.0364047224234291, 0.13515871865279408, 0.13515871865279408, 0.3604232497407842, 0.09010581243519605, 0.27031743730558816, 0.6177488124130374, 0.211081762844545, 0.4523180632383107, 0.09046361264766214, 0.060309075098441425, 0.1809272252953243, 0.276674347921586, 0.1537079710675478, 0.3688991305621147, 0.09222478264052868, 0.09222478264052868, 0.27667220794448105, 0.5533444158889621, 0.2492388765356411, 0.32899531702704626, 0.12960421579853337, 0.1993911012285129, 0.0897259955528308, 0.6758454494082403, 0.0965493499154629, 0.0965493499154629, 0.0965493499154629, 0.6880822751453749, 0.28425643087618474, 0.14923462620999697, 0.17055385852571084, 0.1989795016133293, 0.1989795016133293, 0.38952460430032454, 0.34778982526814695, 0.13911593010725878, 0.06955796505362939, 0.05564637204290351, 0.3504730183347731, 0.18224596953408204, 0.1892554299007775, 0.14018920733390924, 0.1331797469672138, 0.5634116629585915, 0.09390194382643191, 0.14085291573964787, 0.09390194382643191, 0.09390194382643191, 0.3561542784928674, 0.1526375479255146, 0.3222348233983086, 0.08479863773639701, 0.1017583652836764, 0.41709329230267317, 0.14437844733554073, 0.19250459644738763, 0.1176416978289591, 0.12298904773027543, 0.6326297783641832, 0.21087659278806106, 0.6159096991473819, 0.33049472885837455, 0.2742403069250342, 0.21798588499169383, 0.08438163290001052, 0.09844523838334561, 0.5234230162371188, 0.8247725598471434, 0.5234683805171324, 0.5597534504550834, 0.5597878529062854, 0.6524738066936087, 0.6176406371144365, 0.25988374450407037, 0.25988374450407037, 0.5197674890081407, 0.17800591130101517, 0.17800591130101517, 0.17800591130101517, 0.35601182260203035, 0.3182002794891655, 0.636400558978331, 0.6955102652760639, 0.3196819371607288, 0.6393638743214576, 0.2885847847849979, 0.09619492826166597, 0.09619492826166597, 0.19238985652333193, 0.38477971304666386, 0.2307515288954158, 0.1538343525969439, 0.1538343525969439, 0.07691717629847195, 0.38458588149235967, 0.5053089916338839, 0.11229088702975197, 0.18715147838291996, 0.09357573919145998, 0.09357573919145998, 0.3521289236151313, 0.12676641250144727, 0.15493672639065778, 0.11268125555684201, 0.25353282500289454, 0.6730486057155347, 0.21528844863858349, 0.3767547851175211, 0.21528844863858349, 0.07176281621286117, 0.10764422431929174, 0.5598021728975732, 0.23115039903264584, 0.3210422208786748, 0.15410026602176388, 0.08989182184602894, 0.19262533252720487, 0.5599252552893538, 0.7592894038185428, 0.6803742998639088, 0.697157757506542, 0.6857900696215802, 0.6177140792513193, 0.4819019610455572, 0.1338616558459881, 0.17402015259978454, 0.1070893246767905, 0.1070893246767905, 0.5233960663023393, 0.2812806649628075, 0.2025220787732214, 0.28690627826206366, 0.08438419948884225, 0.14064033248140376, 0.6521911023255226, 0.6521703525539635, 0.45646153783206783, 0.19690497710402927, 0.2058552033360306, 0.06265158362400931, 0.08055203608801198, 0.62953675249248, 0.125907350498496, 0.125907350498496, 0.062953675249248, 0.062953675249248, 0.27651344645716724, 0.5530268929143345, 0.6730903043026535, 0.648370422485974, 0.324185211242987, 0.2056971081632486, 0.6170913244897458, 0.2056971081632486, 0.40398973462202564, 0.4949065488723698, 0.2047889167747737, 0.10239445838738685, 0.0682629722582579, 0.11946020145195133, 0.20155054702449898, 0.16795878918708249, 0.20155054702449898, 0.10077527351224949, 0.33591757837416497, 0.40431325426926007, 0.1628483940806742, 0.19466934464816227, 0.08236010735114557, 0.15723293221582335, 0.6521855101340583, 0.8153539527950652, 0.5598399705360073, 0.6522640231286604, 0.617642166423412, 0.36078097837565015, 0.21998840144856716, 0.1319930408691403, 0.11439396875325493, 0.16719118510091105, 0.28011379265804587, 0.19392493337864714, 0.17237771855879744, 0.1292832889190981, 0.2154721481984968, 0.3263523931082976, 0.17495179836733482, 0.23551203626371994, 0.12112047579277026, 0.13794276409732167, 0.3641221939605825, 0.20229010775587916, 0.21384954248478655, 0.10403491256016643, 0.1155943472890738, 0.19840042388390636, 0.19840042388390636, 0.3968008477678127, 0.6157766146961311, 0.20239462840434816, 0.6071838852130444, 0.6523348114520706, 0.2032345879224712, 0.13548972528164746, 0.06774486264082373, 0.6097037637674136, 0.06774486264082373, 0.19397994632035942, 0.11084568361163395, 0.30482562993199336, 0.30482562993199336, 0.11084568361163395, 0.6158479709811198, 0.3095833858778014, 0.6191667717556028, 0.13850997446191923, 0.13850997446191923, 0.13850997446191923, 0.13850997446191923, 0.4155299233857577, 0.6176178156616233, 0.6885775292665998, 0.3822676660169931, 0.5734014990254896, 0.5597997682002923, 0.8336945468275475, 0.8463079133897761, 0.12934798245282175, 0.38804394735846526, 0.13797118128300986, 0.24144956724526725, 0.08623198830188117, 0.340885708276691, 0.2251722109717592, 0.21266264369555035, 0.10633132184777518, 0.11571349730493181, 0.3090755599466867, 0.3434172888296519, 0.1648402986382329, 0.1098935324254886, 0.07555180354252342, 0.5128601198347711, 0.15225534807594765, 0.16828222682078425, 0.06410751497934639, 0.11218815121385617, 0.29926920039294597, 0.3325213337699399, 0.14963460019647298, 0.11638246681947897, 0.11638246681947897, 0.40891344113464734, 0.15065232041802795, 0.18293496050760538, 0.09684792026873226, 0.1614132004478871, 0.6177438247626125, 0.2661971724971872, 0.18949629228613327, 0.27070898898019036, 0.17144902635412057, 0.10377177910907298, 0.6178212059676231, 0.1560724414029767, 0.6242897656119069, 0.1560724414029767, 0.6521618479892591, 0.7002725307869525, 0.6158220194763318, 0.4385696681077365, 0.3091771767042887, 0.6183543534085774, 0.30503063403642994, 0.15251531701821497, 0.15251531701821497, 0.07625765850910748, 0.30503063403642994, 0.6158756635504335, 0.29513722171884343, 0.30060272582474795, 0.21862016423618033, 0.08744806569447212, 0.09837907390628114, 0.47300178604994525, 0.15766726201664844, 0.13138938501387368, 0.14452832351526104, 0.07883363100832422, 0.2645774696523865, 0.21816036971337133, 0.269219179646288, 0.10675932985973491, 0.14389300981094705, 0.5597189773542919, 0.4344835095747805, 0.17993761507642422, 0.1667714481196127, 0.12288422493024094, 0.09216316869768071, 0.3362491163758654, 0.29081004659534304, 0.12722939538546257, 0.14540502329767152, 0.10905376747325364, 0.6521609805921499], \"Term\": [\"\", \"\", \"\", \"\", \"\", \"absoultely\", \"actually\", \"actually\", \"actually\", \"actually\", \"actually\", \"ads\", \"aftermarket\", \"aftermarket\", \"aftermarket\", \"aggravate\", \"algun\", \"also\", \"also\", \"also\", \"also\", \"also\", \"another\", \"another\", \"another\", \"another\", \"another\", \"antennaes\", \"anybody\", \"anyonedont\", \"anything\", \"anything\", \"anything\", \"anything\", \"anything\", \"approaching\", \"armoralld\", \"aroundyour\", \"asia\", \"ask\", \"ask\", \"ask\", \"ask\", \"back\", \"back\", \"back\", \"back\", \"back\", \"backupa\", \"base\", \"base\", \"base\", \"base\", \"base\", \"batterry\", \"battery\", \"battery\", \"battery\", \"battery\", \"battery\", \"bb\", \"bb\", \"becasue\", \"began\", \"better\", \"better\", \"better\", \"better\", \"better\", \"betternot\", \"bf\", \"blackberry\", \"blackberry\", \"blackberry\", \"blackberry\", \"blackberry\", \"blc\", \"bluetooth\", \"bluetooth\", \"bluetooth\", \"bluetooth\", \"bluetooth\", \"books\", \"books\", \"bough\", \"bought\", \"bought\", \"bought\", \"bought\", \"bought\", \"bravo\", \"break\", \"break\", \"break\", \"break\", \"break\", \"brighter\", \"brighter\", \"buggy\", \"buildingsclear\", \"burner\", \"but\", \"but\", \"but\", \"but\", \"but\", \"buttons\", \"buttons\", \"buttons\", \"buttons\", \"buttons\", \"cable\", \"cable\", \"cable\", \"cable\", \"cable\", \"calidad\", \"cam\", \"cam\", \"cam\", \"cam\", \"car\", \"car\", \"car\", \"car\", \"car\", \"carried\", \"carro\", \"case\", \"case\", \"case\", \"case\", \"case\", \"cd\", \"cd\", \"cd\", \"charge\", \"charge\", \"charge\", \"charge\", \"charge\", \"charger\", \"charger\", \"charger\", \"charger\", \"charger\", \"chatged\", \"check\", \"check\", \"check\", \"check\", \"check\", \"clutch\", \"clutch\", \"clutch\", \"coffee\", \"coil\", \"comfortablethese\", \"contour\", \"cord\", \"cord\", \"cord\", \"cord\", \"cord\", \"could\", \"could\", \"could\", \"could\", \"could\", \"cover\", \"cover\", \"cover\", \"cover\", \"cover\", \"craze\", \"day\", \"day\", \"day\", \"day\", \"day\", \"debating\", \"delightful\", \"deploying\", \"describe\", \"description\", \"description\", \"description\", \"description\", \"device\", \"device\", \"device\", \"device\", \"device\", \"died\", \"died\", \"died\", \"died\", \"died\", \"direct\", \"direct\", \"direct\", \"direct\", \"doubts\", \"doubts\", \"down\", \"down\", \"down\", \"down\", \"down\", \"driver\", \"driver\", \"driver\", \"driver\", \"driver\", \"driving\", \"driving\", \"driving\", \"driving\", \"driving\", \"drop\", \"drop\", \"drop\", \"drop\", \"drop\", \"ear\", \"ear\", \"ear\", \"ear\", \"ear\", \"easy\", \"easy\", \"easy\", \"easy\", \"easy\", \"elaborate\", \"electronics\", \"electronics\", \"electronics\", \"electronics\", \"embarrassed\", \"embedded\", \"entertainment\", \"es\", \"este\", \"ether\", \"even\", \"even\", \"even\", \"even\", \"even\", \"ex\", \"exactly\", \"exactly\", \"exactly\", \"exactly\", \"exactly\", \"expedition\", \"extinguished\", \"eyeglasses\", \"eyeglasses\", \"family\", \"family\", \"family\", \"family\", \"family\", \"father\", \"feeling\", \"feeling\", \"feeling\", \"first\", \"first\", \"first\", \"first\", \"first\", \"fit\", \"fit\", \"fit\", \"fit\", \"fit\", \"fittting\", \"foot\", \"for\", \"for\", \"for\", \"for\", \"for\", \"ford\", \"fortunately\", \"fortunately\", \"fortunately\", \"functionsprosvery\", \"fussy\", \"fyi\", \"genuine\", \"get\", \"get\", \"get\", \"get\", \"get\", \"giftee\", \"glare\", \"glossy\", \"glossy\", \"glow\", \"good\", \"good\", \"good\", \"good\", \"good\", \"gorgeous\", \"got\", \"got\", \"got\", \"got\", \"got\", \"greasy\", \"great\", \"great\", \"great\", \"great\", \"great\", \"greenorange\", \"gs\", \"gs\", \"guitar\", \"hard\", \"hard\", \"hard\", \"hard\", \"hard\", \"havenow\", \"hbs\", \"hbs\", \"hbs\", \"hbs\", \"hbs\", \"he\", \"he\", \"he\", \"he\", \"he\", \"headset\", \"headset\", \"headset\", \"headset\", \"headset\", \"headsets\", \"headsets\", \"headsets\", \"headsets\", \"headsets\", \"heap\", \"hear\", \"hear\", \"hear\", \"hear\", \"hear\", \"home\", \"home\", \"home\", \"home\", \"home\", \"hoo\", \"hook\", \"hook\", \"hook\", \"hook\", \"however\", \"however\", \"however\", \"however\", \"however\", \"hub\", \"hub\", \"hub\", \"hub\", \"hub\", \"hubs\", \"hubs\", \"hubs\", \"hubs\", \"hurt\", \"hurt\", \"hurt\", \"hurt\", \"i\", \"i\", \"i\", \"i\", \"i\", \"if\", \"if\", \"if\", \"if\", \"if\", \"im\", \"im\", \"im\", \"im\", \"im\", \"in\", \"in\", \"in\", \"in\", \"in\", \"incase\", \"inches\", \"inches\", \"inches\", \"inches\", \"intermediate\", \"interrupting\", \"ios\", \"ios\", \"ios\", \"iphonesi\", \"iphonethanks\", \"it\", \"it\", \"it\", \"it\", \"it\", \"item\", \"item\", \"item\", \"item\", \"item\", \"itit\", \"its\", \"its\", \"its\", \"its\", \"its\", \"ive\", \"ive\", \"ive\", \"ive\", \"ive\", \"jealous\", \"keyboard\", \"keyboard\", \"keyboard\", \"keyboard\", \"keyboard\", \"known\", \"landline\", \"landline\", \"landline\", \"late\", \"lengths\", \"lessdesireable\", \"lg\", \"lg\", \"lg\", \"lg\", \"lg\", \"life\", \"life\", \"life\", \"life\", \"life\", \"lifecons\", \"lifters\", \"light\", \"light\", \"light\", \"light\", \"light\", \"like\", \"like\", \"like\", \"like\", \"like\", \"little\", \"little\", \"little\", \"little\", \"little\", \"logitech\", \"logitech\", \"logitech\", \"logitech\", \"logitech\", \"love\", \"love\", \"love\", \"love\", \"love\", \"lowit\", \"mannor\", \"manufacturing\", \"marking\", \"markings\", \"markings\", \"mechanical\", \"mechanical\", \"mechanical\", \"micro\", \"micro\", \"micro\", \"micro\", \"micro\", \"minus\", \"misplace\", \"modify\", \"monitor\", \"months\", \"months\", \"months\", \"months\", \"months\", \"more\", \"more\", \"more\", \"more\", \"more\", \"motorola\", \"motorola\", \"motorola\", \"motorola\", \"motorola\", \"motorolla\", \"motorolla\", \"mount\", \"mount\", \"mount\", \"mount\", \"moving\", \"moving\", \"moving\", \"moving\", \"much\", \"much\", \"much\", \"much\", \"much\", \"munch\", \"neckband\", \"need\", \"need\", \"need\", \"need\", \"need\", \"nice\", \"nice\", \"nice\", \"nice\", \"nice\", \"ningun\", \"noise\", \"noise\", \"noise\", \"noise\", \"noise\", \"obsessed\", \"off\", \"off\", \"off\", \"off\", \"off\", \"office\", \"office\", \"office\", \"office\", \"office\", \"offit\", \"one\", \"one\", \"one\", \"one\", \"one\", \"opening\", \"opening\", \"opening\", \"opening\", \"opening\", \"opera\", \"order\", \"order\", \"order\", \"order\", \"order\", \"our\", \"overseas\", \"pager\", \"pager\", \"paint\", \"paint\", \"para\", \"parties\", \"parties\", \"partner\", \"percentagei\", \"perfection\", \"performs\", \"performs\", \"performs\", \"phone\", \"phone\", \"phone\", \"phone\", \"phone\", \"phones\", \"phones\", \"phones\", \"phones\", \"phones\", \"plastic\", \"plastic\", \"plastic\", \"plastic\", \"plastic\", \"player\", \"player\", \"player\", \"player\", \"player\", \"pluged\", \"plugged\", \"plugged\", \"plugged\", \"plugged\", \"plugged\", \"pocket\", \"pocket\", \"pocket\", \"pocket\", \"pocket\", \"popping\", \"popping\", \"power\", \"power\", \"power\", \"power\", \"power\", \"powerbear\", \"powerbear\", \"powerbear\", \"powerbear\", \"powers\", \"price\", \"price\", \"price\", \"price\", \"price\", \"problems\", \"problems\", \"problems\", \"problems\", \"problems\", \"product\", \"product\", \"product\", \"product\", \"product\", \"protector\", \"protector\", \"protector\", \"protector\", \"protector\", \"purchased\", \"purchased\", \"purchased\", \"purchased\", \"purchased\", \"quality\", \"quality\", \"quality\", \"quality\", \"quality\", \"rd\", \"rd\", \"reaches\", \"really\", \"really\", \"really\", \"really\", \"really\", \"reccommend\", \"recomend\", \"recommencement\", \"reconditioned\", \"recycled\", \"reel\", \"reimbursed\", \"removed\", \"removed\", \"removed\", \"retract\", \"retract\", \"retract\", \"retract\", \"retracted\", \"retracted\", \"route\", \"safe\", \"safe\", \"screwdriver\", \"screwdriver\", \"screwdriver\", \"screwdriver\", \"screwdriver\", \"screwdrivers\", \"screwdrivers\", \"screwdrivers\", \"screwdrivers\", \"screwdrivers\", \"see\", \"see\", \"see\", \"see\", \"see\", \"set\", \"set\", \"set\", \"set\", \"set\", \"sgsii\", \"signal\", \"signal\", \"signal\", \"signal\", \"signal\", \"sin\", \"since\", \"since\", \"since\", \"since\", \"since\", \"situationi\", \"skill\", \"slippery\", \"slvr\", \"smelled\", \"snazzy\", \"so\", \"so\", \"so\", \"so\", \"so\", \"sorts\", \"sound\", \"sound\", \"sound\", \"sound\", \"sound\", \"specially\", \"spongy\", \"still\", \"still\", \"still\", \"still\", \"still\", \"strong\", \"strong\", \"strong\", \"strong\", \"strong\", \"styling\", \"styling\", \"supper\", \"tab\", \"tab\", \"tablet\", \"tablet\", \"tablet\", \"tackle\", \"take\", \"take\", \"take\", \"take\", \"take\", \"tape\", \"tape\", \"tape\", \"tape\", \"tape\", \"the\", \"the\", \"the\", \"the\", \"the\", \"theirs\", \"thelg\", \"themthe\", \"thereconsthe\", \"thickest\", \"thing\", \"thing\", \"thing\", \"thing\", \"thing\", \"things\", \"things\", \"things\", \"things\", \"things\", \"this\", \"this\", \"this\", \"this\", \"this\", \"time\", \"time\", \"time\", \"time\", \"time\", \"timely\", \"timely\", \"timely\", \"timewoo\", \"tip\", \"tip\", \"tolittle\", \"tone\", \"tone\", \"tone\", \"tone\", \"tone\", \"tools\", \"tools\", \"tools\", \"tools\", \"tools\", \"transactions\", \"transmit\", \"transmit\", \"traveling\", \"traveling\", \"traveling\", \"traveling\", \"traveling\", \"tricked\", \"tube\", \"tweezers\", \"tweezers\", \"un\", \"underpowered\", \"usa\", \"usb\", \"usb\", \"usb\", \"usb\", \"usb\", \"use\", \"use\", \"use\", \"use\", \"use\", \"used\", \"used\", \"used\", \"used\", \"used\", \"using\", \"using\", \"using\", \"using\", \"using\", \"voice\", \"voice\", \"voice\", \"voice\", \"voice\", \"volume\", \"volume\", \"volume\", \"volume\", \"volume\", \"waaaaaaay\", \"well\", \"well\", \"well\", \"well\", \"well\", \"wep\", \"whenever\", \"whenever\", \"whenever\", \"wheni\", \"whine\", \"whistels\", \"width\", \"win\", \"win\", \"wire\", \"wire\", \"wire\", \"wire\", \"wire\", \"withthis\", \"work\", \"work\", \"work\", \"work\", \"work\", \"worked\", \"worked\", \"worked\", \"worked\", \"worked\", \"works\", \"works\", \"works\", \"works\", \"works\", \"workthis\", \"would\", \"would\", \"would\", \"would\", \"would\", \"you\", \"you\", \"you\", \"you\", \"you\", \"yours\"]}, \"R\": 30, \"lambda.step\": 0.01, \"plot.opts\": {\"xlab\": \"PC1\", \"ylab\": \"PC2\"}, \"topic.order\": [1, 5, 3, 4, 2]};\n",
       "\n",
       "function LDAvis_load_lib(url, callback){\n",
       "  var s = document.createElement('script');\n",
       "  s.src = url;\n",
       "  s.async = true;\n",
       "  s.onreadystatechange = s.onload = callback;\n",
       "  s.onerror = function(){console.warn(\"failed to load library \" + url);};\n",
       "  document.getElementsByTagName(\"head\")[0].appendChild(s);\n",
       "}\n",
       "\n",
       "if(typeof(LDAvis) !== \"undefined\"){\n",
       "   // already loaded: just create the visualization\n",
       "   !function(LDAvis){\n",
       "       new LDAvis(\"#\" + \"ldavis_el39151406158209808489914482501\", ldavis_el39151406158209808489914482501_data);\n",
       "   }(LDAvis);\n",
       "}else if(typeof define === \"function\" && define.amd){\n",
       "   // require.js is available: use it to load d3/LDAvis\n",
       "   require.config({paths: {d3: \"https://d3js.org/d3.v5\"}});\n",
       "   require([\"d3\"], function(d3){\n",
       "      window.d3 = d3;\n",
       "      LDAvis_load_lib(\"https://cdn.jsdelivr.net/gh/bmabey/pyLDAvis@3.4.0/pyLDAvis/js/ldavis.v3.0.0.js\", function(){\n",
       "        new LDAvis(\"#\" + \"ldavis_el39151406158209808489914482501\", ldavis_el39151406158209808489914482501_data);\n",
       "      });\n",
       "    });\n",
       "}else{\n",
       "    // require.js not available: dynamically load d3 & LDAvis\n",
       "    LDAvis_load_lib(\"https://d3js.org/d3.v5.js\", function(){\n",
       "         LDAvis_load_lib(\"https://cdn.jsdelivr.net/gh/bmabey/pyLDAvis@3.4.0/pyLDAvis/js/ldavis.v3.0.0.js\", function(){\n",
       "                 new LDAvis(\"#\" + \"ldavis_el39151406158209808489914482501\", ldavis_el39151406158209808489914482501_data);\n",
       "            })\n",
       "         });\n",
       "}\n",
       "</script>"
      ],
      "text/plain": [
       "<IPython.core.display.HTML object>"
      ]
     },
     "execution_count": 44,
     "metadata": {},
     "output_type": "execute_result"
    }
   ],
   "source": [
    "pyLDAvis.enable_notebook()\n",
    "pyLDAvis.display(data)"
   ]
  },
  {
   "cell_type": "markdown",
   "metadata": {
    "id": "Ukn2e3iWRoIz"
   },
   "source": [
    "# 2.word2Vec [40pts]\n",
    "\n",
    "\n",
    "In this problem, we use Amazon Review Dataset to perform Word2Vec and Doc2Vec to extract insights relevant for e-commerce business. For this question, download and use the dataset [here](http://snap.stanford.edu/data/amazon/productGraph/categoryFiles/reviews_Electronics_5.json.gz||reviews_Electronics_5.json.gz)."
   ]
  },
  {
   "cell_type": "markdown",
   "metadata": {
    "id": "-UKcbiFCRuJr"
   },
   "source": [
    "## 2.1 Data Cleaning\n",
    "\n"
   ]
  },
  {
   "cell_type": "markdown",
   "metadata": {
    "id": "mcw3Abp6R549"
   },
   "source": [
    "The following code reads the data from a GZIP file."
   ]
  },
  {
   "cell_type": "code",
   "execution_count": 22,
   "metadata": {
    "id": "T-HJ5AnnRpFB"
   },
   "outputs": [
    {
     "name": "stderr",
     "output_type": "stream",
     "text": [
      "/Users/ryanli/opt/miniconda3/lib/python3.9/site-packages/ipykernel/ipkernel.py:283: DeprecationWarning: `should_run_async` will not call `transform_cell` automatically in the future. Please pass the result to `transformed_cell` argument and any exception that happen during thetransform in `preprocessing_exc_tuple` in IPython 7.17 and above.\n",
      "  and should_run_async(code)\n"
     ]
    }
   ],
   "source": [
    "# A function to read the zipped data at a specfic path\n",
    "#\n",
    "# How to use:\n",
    "# PATH = \"/path/to/file\"\n",
    "# for line in parse(PATH):\n",
    "#   do something with line\n",
    "#\n",
    "def parse(path):\n",
    "    g = gzip.open(path, 'r')\n",
    "    for l in g:\n",
    "        yield eval(l)\n"
   ]
  },
  {
   "cell_type": "markdown",
   "metadata": {
    "id": "O543cF24R81Z"
   },
   "source": [
    "We will now read the data and preprocess it using the following steps:\n",
    "\n",
    "   1. Remove stopwords\n",
    "   2. Lower-case all words\n",
    "   3. Remove words with less than 2 characters\n",
    "   4. Remove punctuation\n",
    "   5. Split each sentence into a list of words\n",
    "\n",
    "   And finally extract 10000 reviews."
   ]
  },
  {
   "cell_type": "code",
   "execution_count": 23,
   "metadata": {
    "id": "4_GNZ3ikR_rE"
   },
   "outputs": [
    {
     "name": "stderr",
     "output_type": "stream",
     "text": [
      "/Users/ryanli/opt/miniconda3/lib/python3.9/site-packages/ipykernel/ipkernel.py:283: DeprecationWarning: `should_run_async` will not call `transform_cell` automatically in the future. Please pass the result to `transformed_cell` argument and any exception that happen during thetransform in `preprocessing_exc_tuple` in IPython 7.17 and above.\n",
      "  and should_run_async(code)\n"
     ]
    }
   ],
   "source": [
    "# A function to clean a single line of text\n",
    "def clean_line(line):\n",
    "    \"\"\" Clean stopwords and punction for each line\n",
    "    \n",
    "    Args: \n",
    "        line (string): one line in file\n",
    "        \n",
    "    Returns:\n",
    "        list(str): a list of all words in the sentence\n",
    "    \"\"\"\n",
    "    punctuationRegex = r'\\W+|\\d+'\n",
    "    stopWords = set(stopwords.words('english'))\n",
    "    line = line.split(\" \")\n",
    "    filtered_content = []\n",
    "    \n",
    "    for word in line:\n",
    "        if word not in stopWords:\n",
    "            if len(word) > 2:\n",
    "                filtered_content.append(word.lower()) \n",
    "    filtered_content = [re.sub(punctuationRegex, '',word) for word in filtered_content] \n",
    "    return filtered_content\n",
    "\n",
    "def read_dataset(fname):\n",
    "    \"\"\" Read the 100000 lines in given dataset into list and clean stop words. \n",
    "        \n",
    "    Args: \n",
    "        fname (string): filename of Amazon Review Dataset\n",
    "        \n",
    "    Returns:\n",
    "        list of list of words: we view each document as a list, including a list of all words \n",
    "    \"\"\"\n",
    "    count = 0\n",
    "    exp_dataset = []\n",
    "    for review in parse(fname):\n",
    "        line = review[\"reviewText\"]\n",
    "        new_line = clean_line(line)\n",
    "        exp_dataset.append(new_line)\n",
    "        count += 1\n",
    "        if count > 100000:\n",
    "            break\n",
    "    return exp_dataset    "
   ]
  },
  {
   "cell_type": "code",
   "execution_count": 24,
   "metadata": {
    "id": "zaf3YFgHTNr3"
   },
   "outputs": [
    {
     "name": "stderr",
     "output_type": "stream",
     "text": [
      "/Users/ryanli/opt/miniconda3/lib/python3.9/site-packages/ipykernel/ipkernel.py:283: DeprecationWarning: `should_run_async` will not call `transform_cell` automatically in the future. Please pass the result to `transformed_cell` argument and any exception that happen during thetransform in `preprocessing_exc_tuple` in IPython 7.17 and above.\n",
      "  and should_run_async(code)\n"
     ]
    },
    {
     "name": "stdout",
     "output_type": "stream",
     "text": [
      "CPU times: user 23.5 s, sys: 1.58 s, total: 25.1 s\n",
      "Wall time: 25.2 s\n"
     ]
    }
   ],
   "source": [
    "%%time\n",
    "r = read_dataset(\"reviews_Electronics_5.json.gz\")"
   ]
  },
  {
   "cell_type": "markdown",
   "metadata": {
    "id": "JamafEPNS3Ii"
   },
   "source": [
    "## 2.2 Build a doc2vec model"
   ]
  },
  {
   "cell_type": "markdown",
   "metadata": {
    "id": "BFMVOQgrTi9s"
   },
   "source": [
    "**[3pts]2.2.1** In this question, first we will build a Word2Vec model using ginsim using size=300, min_count=40, win- dow=10, negative=10, max_vocab_size=10000. Train the model for 30 epochs."
   ]
  },
  {
   "cell_type": "code",
   "execution_count": 25,
   "metadata": {
    "id": "5gGK2QnKTfdO"
   },
   "outputs": [
    {
     "name": "stderr",
     "output_type": "stream",
     "text": [
      "/Users/ryanli/opt/miniconda3/lib/python3.9/site-packages/ipykernel/ipkernel.py:283: DeprecationWarning: `should_run_async` will not call `transform_cell` automatically in the future. Please pass the result to `transformed_cell` argument and any exception that happen during thetransform in `preprocessing_exc_tuple` in IPython 7.17 and above.\n",
      "  and should_run_async(code)\n"
     ]
    }
   ],
   "source": [
    "from gensim.models import Word2Vec\n",
    "# YOUR CODE HERE\n",
    "w2v = Word2Vec(r, vector_size=300, min_count=40, window=10, negative=10, max_vocab_size=10000, workers=4, epochs=30)"
   ]
  },
  {
   "cell_type": "markdown",
   "metadata": {
    "id": "IPnJE0pQT6jr"
   },
   "source": [
    "**[2pts]2.2.2** Use model.wv.doesnt_match to find a word in [\"Canon\",\"Nikon\",\"junk\"] that does not\n",
    "\n",
    "belong."
   ]
  },
  {
   "cell_type": "code",
   "execution_count": 49,
   "metadata": {
    "id": "pGQT-f_OTqnX"
   },
   "outputs": [
    {
     "name": "stdout",
     "output_type": "stream",
     "text": [
      "The word that does not belong is: junk\n"
     ]
    },
    {
     "name": "stderr",
     "output_type": "stream",
     "text": [
      "/Users/ryanli/opt/miniconda3/lib/python3.9/site-packages/ipykernel/ipkernel.py:283: DeprecationWarning: `should_run_async` will not call `transform_cell` automatically in the future. Please pass the result to `transformed_cell` argument and any exception that happen during thetransform in `preprocessing_exc_tuple` in IPython 7.17 and above.\n",
      "  and should_run_async(code)\n"
     ]
    }
   ],
   "source": [
    "# YOUR CODE HERE \n",
    "words = [\"Canon\", \"Nikon\", \"junk\"]\n",
    "dmwords = w2v.wv.doesnt_match(words)\n",
    "print(f\"The word that does not belong is: {dmwords}\")"
   ]
  },
  {
   "cell_type": "markdown",
   "metadata": {
    "id": "a44R5v_-UFXp"
   },
   "source": [
    "**[3pts]2.2.3** Come up with 3 other word lists and apply the above function. Explain your observation."
   ]
  },
  {
   "cell_type": "code",
   "execution_count": 50,
   "metadata": {
    "id": "GP9dTi1yUNGR"
   },
   "outputs": [
    {
     "name": "stdout",
     "output_type": "stream",
     "text": [
      "The word that does not belong is: camera\n"
     ]
    },
    {
     "name": "stderr",
     "output_type": "stream",
     "text": [
      "/Users/ryanli/opt/miniconda3/lib/python3.9/site-packages/ipykernel/ipkernel.py:283: DeprecationWarning: `should_run_async` will not call `transform_cell` automatically in the future. Please pass the result to `transformed_cell` argument and any exception that happen during thetransform in `preprocessing_exc_tuple` in IPython 7.17 and above.\n",
      "  and should_run_async(code)\n"
     ]
    }
   ],
   "source": [
    "words = [\"camera\", \"IPhone\", \"bottle\"]\n",
    "dmwords = w2v.wv.doesnt_match(words)\n",
    "print(f\"The word that does not belong is: {dmwords}\")"
   ]
  },
  {
   "cell_type": "markdown",
   "metadata": {
    "id": "mlZKiD_DUN00"
   },
   "source": [
    "Bottle is the only non electronic item in the list."
   ]
  },
  {
   "cell_type": "markdown",
   "metadata": {
    "id": "SLz_WXiHUG4L"
   },
   "source": [
    "**[2pts]2.2.4** What are some tasks in e-commerce that can be solved with this simple function?"
   ]
  },
  {
   "cell_type": "markdown",
   "metadata": {
    "id": "IjaKCXMEUYyM"
   },
   "source": [
    "In e-commerce, the above w2v model and doesnt_match function can be used for item categorization and similiar product recommendations to increase sales."
   ]
  },
  {
   "cell_type": "markdown",
   "metadata": {
    "id": "2ZmhD59iUtR3"
   },
   "source": [
    "## 2.3 Build a doc2vec model"
   ]
  },
  {
   "cell_type": "markdown",
   "metadata": {
    "id": "cRC20sS1VYJN"
   },
   "source": [
    "**[15 pts] 2.3.1**  Each review is marked by other customers as “helpful” or not. The \"helpful: [a, b]\" item in each review is (a) the number of people who marked the review as helpful, and (b) the total number of people who have marked the review as helpful or unhelpful. The \"helpfulness\" score of a review can be calculated as a/b. Define a \"helpful\" review as one with helpfulness score >= 0.8. Given a review that is only slightly helpful, could we find textually similar reviews but have higher helpfulness? Build Doc2Vec model with gensim on review data. Use product ID “B00006I5WJ” and ReviewerID with “A14453U0KFWF31” as an example, find top 5 helpful reviews of the same product with similarity score above 0.8. "
   ]
  },
  {
   "cell_type": "code",
   "execution_count": 5,
   "metadata": {
    "id": "xGDDL9a4UBGi"
   },
   "outputs": [
    {
     "name": "stderr",
     "output_type": "stream",
     "text": [
      "/Users/ryanli/opt/miniconda3/lib/python3.9/site-packages/ipykernel/ipkernel.py:283: DeprecationWarning: `should_run_async` will not call `transform_cell` automatically in the future. Please pass the result to `transformed_cell` argument and any exception that happen during thetransform in `preprocessing_exc_tuple` in IPython 7.17 and above.\n",
      "  and should_run_async(code)\n"
     ]
    }
   ],
   "source": [
    "import os\n",
    "def read_reviewers_data(fname, min_count=0):\n",
    "    '''\n",
    "    Save all reviews into their own product asin files.\n",
    "    Make sure you have 'product' folder when you run this answer.\n",
    "    In each file, you can choose your own log structure. In this answer, log strucutre is like \n",
    "        \"reviewText\"\\t\"reviewerID\"\\t\"helpful\"\n",
    "    Args: \n",
    "        fname: dataset file path\n",
    "        min_count: minimum number of reviews of a product\n",
    "    Returns:\n",
    "        none\n",
    "    '''\n",
    "    if not os.path.isdir('product'):\n",
    "        os.makedirs('product')\n",
    "    asin_list = []\n",
    "    tmp_list = []\n",
    "    last_asin = \"\"\n",
    "    j = 0\n",
    "    for i in parse(fname):\n",
    "        if last_asin != i['asin']:\n",
    "            if len(tmp_list) > min_count:\n",
    "                f = open(\"product/\" + last_asin+\".txt\", 'w')\n",
    "                for one in tmp_list:\n",
    "                    f.write(one)\n",
    "                f.close()\n",
    "            tmp_list = []\n",
    "            last_asin = i['asin']\n",
    "        tmp_list.append(i[\"reviewText\"] + '\\t' + i[\"reviewerID\"] +\n",
    "                    '\\t' + handle_helpful(i[\"helpful\"]) + \"\\n\")\n",
    "        j += 1\n",
    "        if j > 100000:\n",
    "            break\n",
    "            \n",
    "def handle_helpful(helpful):\n",
    "    '''\n",
    "    Helper function for helpful_score calculate\n",
    "    Args: \n",
    "        helpful: list. The first element is the number of people think this is helpful. The second element\n",
    "            is the total number of people evaluate this comment\n",
    "    Returns:\n",
    "        String: number represent helpfulness\n",
    "    '''\n",
    "    if helpful[1] != 0:\n",
    "        helpfulness = 1.0 * helpful[0] / helpful[1]\n",
    "        return str(helpfulness)\n",
    "    else:\n",
    "        return str(0)"
   ]
  },
  {
   "cell_type": "code",
   "execution_count": 52,
   "metadata": {
    "id": "ZcaWNGSyban3"
   },
   "outputs": [
    {
     "name": "stderr",
     "output_type": "stream",
     "text": [
      "/Users/ryanli/opt/miniconda3/lib/python3.9/site-packages/ipykernel/ipkernel.py:283: DeprecationWarning: `should_run_async` will not call `transform_cell` automatically in the future. Please pass the result to `transformed_cell` argument and any exception that happen during thetransform in `preprocessing_exc_tuple` in IPython 7.17 and above.\n",
      "  and should_run_async(code)\n"
     ]
    }
   ],
   "source": [
    "read_reviewers_data(\"reviews_Electronics_5.json.gz\")"
   ]
  },
  {
   "cell_type": "code",
   "execution_count": 6,
   "metadata": {
    "id": "phyr9d9Zbvbe"
   },
   "outputs": [
    {
     "name": "stderr",
     "output_type": "stream",
     "text": [
      "/Users/ryanli/opt/miniconda3/lib/python3.9/site-packages/ipykernel/ipkernel.py:283: DeprecationWarning: `should_run_async` will not call `transform_cell` automatically in the future. Please pass the result to `transformed_cell` argument and any exception that happen during thetransform in `preprocessing_exc_tuple` in IPython 7.17 and above.\n",
      "  and should_run_async(code)\n"
     ]
    }
   ],
   "source": [
    "class TaggedReviewDocument(object):\n",
    "    '''\n",
    "    This class could save all products and review information in its dictionary and generate iter for TaggedDocument\n",
    "        which could used for Doc2Vec model\n",
    "    '''\n",
    "    def __init__(self, dirname):\n",
    "        self.dirname = dirname\n",
    "        self.helpfulness = {}  # key:reviewerID value:helpfulness\n",
    "        self.product = {}      # key:asin value:reviewerID\n",
    "        self.asin = []\n",
    "\n",
    "    def __iter__(self):\n",
    "        for filename in os.listdir(self.dirname):\n",
    "            asin_code = filename[:-4] #delete \".txt\"\n",
    "            self.product[asin_code] = []\n",
    "            self.asin.append(asin_code)\n",
    "            for line in enumerate(open(self.dirname + \"/\" + filename)):\n",
    "                line_content = line[1].split(\"\\t\")\n",
    "                self.product[asin_code].append(line_content[1])\n",
    "                self.helpfulness[line_content[1]] = float(line_content[2])\n",
    "                yield TaggedDocument(clean_line(line_content[0]), [line_content[1], line_content[2]])\n"
   ]
  },
  {
   "cell_type": "code",
   "execution_count": 54,
   "metadata": {
    "id": "59Ccalf7bwE2"
   },
   "outputs": [
    {
     "name": "stderr",
     "output_type": "stream",
     "text": [
      "/Users/ryanli/opt/miniconda3/lib/python3.9/site-packages/ipykernel/ipkernel.py:283: DeprecationWarning: `should_run_async` will not call `transform_cell` automatically in the future. Please pass the result to `transformed_cell` argument and any exception that happen during thetransform in `preprocessing_exc_tuple` in IPython 7.17 and above.\n",
      "  and should_run_async(code)\n"
     ]
    }
   ],
   "source": [
    "documents = TaggedReviewDocument(\"product\")"
   ]
  },
  {
   "cell_type": "code",
   "execution_count": 58,
   "metadata": {
    "id": "crSL0O9HbyPI"
   },
   "outputs": [
    {
     "name": "stderr",
     "output_type": "stream",
     "text": [
      "/Users/ryanli/opt/miniconda3/lib/python3.9/site-packages/ipykernel/ipkernel.py:283: DeprecationWarning: `should_run_async` will not call `transform_cell` automatically in the future. Please pass the result to `transformed_cell` argument and any exception that happen during thetransform in `preprocessing_exc_tuple` in IPython 7.17 and above.\n",
      "  and should_run_async(code)\n"
     ]
    },
    {
     "name": "stdout",
     "output_type": "stream",
     "text": [
      "CPU times: user 5min 28s, sys: 28.9 s, total: 5min 57s\n",
      "Wall time: 5min 2s\n"
     ]
    }
   ],
   "source": [
    "%%time\n",
    "from gensim.models.doc2vec import TaggedDocument, Doc2Vec\n",
    "# YOUR CODE HERE\n",
    "d2v = Doc2Vec(documents, window = 3, workers = 2,vector_size =3, min_count=5 )"
   ]
  },
  {
   "cell_type": "markdown",
   "metadata": {
    "id": "HbabO2WUcZxJ"
   },
   "source": [
    "## Find similar reviews"
   ]
  },
  {
   "cell_type": "code",
   "execution_count": 59,
   "metadata": {
    "id": "yCI8l3_9b0ru"
   },
   "outputs": [
    {
     "name": "stderr",
     "output_type": "stream",
     "text": [
      "/Users/ryanli/opt/miniconda3/lib/python3.9/site-packages/ipykernel/ipkernel.py:283: DeprecationWarning: `should_run_async` will not call `transform_cell` automatically in the future. Please pass the result to `transformed_cell` argument and any exception that happen during thetransform in `preprocessing_exc_tuple` in IPython 7.17 and above.\n",
      "  and should_run_async(code)\n"
     ]
    }
   ],
   "source": [
    "def find_similar_reviews(asin,reviewer_id):\n",
    "    '''\n",
    "    If one review is similar to the specefic review and it is much helpful, save it to a list\n",
    "    Args: \n",
    "        asin: product asin\n",
    "        reviewer_id: the specific review\n",
    "    Returns:\n",
    "        list of reviewer id\n",
    "    '''\n",
    "    result = []\n",
    "    ########################\n",
    "    # YOUR CODE HERE\n",
    "    ########################\n",
    "    \n",
    "    vector = d2v.infer_vector([asin, reviewer_id])    \n",
    "    product_vecs = d2v.docvecs\n",
    "    similarity = d2v.docvecs.most_similar([vector], topn=len(product_vecs))\n",
    "\n",
    "    r_id_list = []\n",
    "    \n",
    "    for i in documents.product[asin]:\n",
    "        if d2v.docvecs.similarity(reviewer_id,i) > 0.8 and i != reviewer_id:\n",
    "            r_id_list.append(i)\n",
    "    \n",
    "    h_list = []\n",
    "    for i in r_id_list:\n",
    "        h_list.append((i,documents.helpfulness[i]))\n",
    "    \n",
    "    result = sorted(h_list, key=lambda x: x[1], reverse=True)[:5]\n",
    "            \n",
    "    return result\n"
   ]
  },
  {
   "cell_type": "code",
   "execution_count": 60,
   "metadata": {
    "id": "TU-cVz3cc6gO",
    "scrolled": false
   },
   "outputs": [
    {
     "name": "stdout",
     "output_type": "stream",
     "text": [
      "[('A2IXUSSQ4KJEAX', 1.0), ('A1ZJSYEQQDIDAA', 1.0), ('AGITH5SMFTBOB', 1.0), ('A5C7KD02LS69I', 1.0), ('A1MSY5U64K1Y3D', 1.0)]\n"
     ]
    },
    {
     "name": "stderr",
     "output_type": "stream",
     "text": [
      "/Users/ryanli/opt/miniconda3/lib/python3.9/site-packages/ipykernel/ipkernel.py:283: DeprecationWarning: `should_run_async` will not call `transform_cell` automatically in the future. Please pass the result to `transformed_cell` argument and any exception that happen during thetransform in `preprocessing_exc_tuple` in IPython 7.17 and above.\n",
      "  and should_run_async(code)\n",
      "<ipython-input-59-3a4a219117bf>:16: DeprecationWarning: Call to deprecated `docvecs` (The `docvecs` property has been renamed `dv`.).\n",
      "  product_vecs = d2v.docvecs\n",
      "<ipython-input-59-3a4a219117bf>:17: DeprecationWarning: Call to deprecated `docvecs` (The `docvecs` property has been renamed `dv`.).\n",
      "  similarity = d2v.docvecs.most_similar([vector], topn=len(product_vecs))\n",
      "<ipython-input-59-3a4a219117bf>:22: DeprecationWarning: Call to deprecated `docvecs` (The `docvecs` property has been renamed `dv`.).\n",
      "  if d2v.docvecs.similarity(reviewer_id,i) > 0.8 and i != reviewer_id:\n",
      "<ipython-input-59-3a4a219117bf>:22: DeprecationWarning: Call to deprecated `docvecs` (The `docvecs` property has been renamed `dv`.).\n",
      "  if d2v.docvecs.similarity(reviewer_id,i) > 0.8 and i != reviewer_id:\n",
      "<ipython-input-59-3a4a219117bf>:22: DeprecationWarning: Call to deprecated `docvecs` (The `docvecs` property has been renamed `dv`.).\n",
      "  if d2v.docvecs.similarity(reviewer_id,i) > 0.8 and i != reviewer_id:\n",
      "<ipython-input-59-3a4a219117bf>:22: DeprecationWarning: Call to deprecated `docvecs` (The `docvecs` property has been renamed `dv`.).\n",
      "  if d2v.docvecs.similarity(reviewer_id,i) > 0.8 and i != reviewer_id:\n",
      "<ipython-input-59-3a4a219117bf>:22: DeprecationWarning: Call to deprecated `docvecs` (The `docvecs` property has been renamed `dv`.).\n",
      "  if d2v.docvecs.similarity(reviewer_id,i) > 0.8 and i != reviewer_id:\n",
      "<ipython-input-59-3a4a219117bf>:22: DeprecationWarning: Call to deprecated `docvecs` (The `docvecs` property has been renamed `dv`.).\n",
      "  if d2v.docvecs.similarity(reviewer_id,i) > 0.8 and i != reviewer_id:\n",
      "<ipython-input-59-3a4a219117bf>:22: DeprecationWarning: Call to deprecated `docvecs` (The `docvecs` property has been renamed `dv`.).\n",
      "  if d2v.docvecs.similarity(reviewer_id,i) > 0.8 and i != reviewer_id:\n",
      "<ipython-input-59-3a4a219117bf>:22: DeprecationWarning: Call to deprecated `docvecs` (The `docvecs` property has been renamed `dv`.).\n",
      "  if d2v.docvecs.similarity(reviewer_id,i) > 0.8 and i != reviewer_id:\n",
      "<ipython-input-59-3a4a219117bf>:22: DeprecationWarning: Call to deprecated `docvecs` (The `docvecs` property has been renamed `dv`.).\n",
      "  if d2v.docvecs.similarity(reviewer_id,i) > 0.8 and i != reviewer_id:\n",
      "<ipython-input-59-3a4a219117bf>:22: DeprecationWarning: Call to deprecated `docvecs` (The `docvecs` property has been renamed `dv`.).\n",
      "  if d2v.docvecs.similarity(reviewer_id,i) > 0.8 and i != reviewer_id:\n",
      "<ipython-input-59-3a4a219117bf>:22: DeprecationWarning: Call to deprecated `docvecs` (The `docvecs` property has been renamed `dv`.).\n",
      "  if d2v.docvecs.similarity(reviewer_id,i) > 0.8 and i != reviewer_id:\n",
      "<ipython-input-59-3a4a219117bf>:22: DeprecationWarning: Call to deprecated `docvecs` (The `docvecs` property has been renamed `dv`.).\n",
      "  if d2v.docvecs.similarity(reviewer_id,i) > 0.8 and i != reviewer_id:\n",
      "<ipython-input-59-3a4a219117bf>:22: DeprecationWarning: Call to deprecated `docvecs` (The `docvecs` property has been renamed `dv`.).\n",
      "  if d2v.docvecs.similarity(reviewer_id,i) > 0.8 and i != reviewer_id:\n",
      "<ipython-input-59-3a4a219117bf>:22: DeprecationWarning: Call to deprecated `docvecs` (The `docvecs` property has been renamed `dv`.).\n",
      "  if d2v.docvecs.similarity(reviewer_id,i) > 0.8 and i != reviewer_id:\n",
      "<ipython-input-59-3a4a219117bf>:22: DeprecationWarning: Call to deprecated `docvecs` (The `docvecs` property has been renamed `dv`.).\n",
      "  if d2v.docvecs.similarity(reviewer_id,i) > 0.8 and i != reviewer_id:\n",
      "<ipython-input-59-3a4a219117bf>:22: DeprecationWarning: Call to deprecated `docvecs` (The `docvecs` property has been renamed `dv`.).\n",
      "  if d2v.docvecs.similarity(reviewer_id,i) > 0.8 and i != reviewer_id:\n",
      "<ipython-input-59-3a4a219117bf>:22: DeprecationWarning: Call to deprecated `docvecs` (The `docvecs` property has been renamed `dv`.).\n",
      "  if d2v.docvecs.similarity(reviewer_id,i) > 0.8 and i != reviewer_id:\n",
      "<ipython-input-59-3a4a219117bf>:22: DeprecationWarning: Call to deprecated `docvecs` (The `docvecs` property has been renamed `dv`.).\n",
      "  if d2v.docvecs.similarity(reviewer_id,i) > 0.8 and i != reviewer_id:\n",
      "<ipython-input-59-3a4a219117bf>:22: DeprecationWarning: Call to deprecated `docvecs` (The `docvecs` property has been renamed `dv`.).\n",
      "  if d2v.docvecs.similarity(reviewer_id,i) > 0.8 and i != reviewer_id:\n",
      "<ipython-input-59-3a4a219117bf>:22: DeprecationWarning: Call to deprecated `docvecs` (The `docvecs` property has been renamed `dv`.).\n",
      "  if d2v.docvecs.similarity(reviewer_id,i) > 0.8 and i != reviewer_id:\n",
      "<ipython-input-59-3a4a219117bf>:22: DeprecationWarning: Call to deprecated `docvecs` (The `docvecs` property has been renamed `dv`.).\n",
      "  if d2v.docvecs.similarity(reviewer_id,i) > 0.8 and i != reviewer_id:\n",
      "<ipython-input-59-3a4a219117bf>:22: DeprecationWarning: Call to deprecated `docvecs` (The `docvecs` property has been renamed `dv`.).\n",
      "  if d2v.docvecs.similarity(reviewer_id,i) > 0.8 and i != reviewer_id:\n",
      "<ipython-input-59-3a4a219117bf>:22: DeprecationWarning: Call to deprecated `docvecs` (The `docvecs` property has been renamed `dv`.).\n",
      "  if d2v.docvecs.similarity(reviewer_id,i) > 0.8 and i != reviewer_id:\n",
      "<ipython-input-59-3a4a219117bf>:22: DeprecationWarning: Call to deprecated `docvecs` (The `docvecs` property has been renamed `dv`.).\n",
      "  if d2v.docvecs.similarity(reviewer_id,i) > 0.8 and i != reviewer_id:\n",
      "<ipython-input-59-3a4a219117bf>:22: DeprecationWarning: Call to deprecated `docvecs` (The `docvecs` property has been renamed `dv`.).\n",
      "  if d2v.docvecs.similarity(reviewer_id,i) > 0.8 and i != reviewer_id:\n",
      "<ipython-input-59-3a4a219117bf>:22: DeprecationWarning: Call to deprecated `docvecs` (The `docvecs` property has been renamed `dv`.).\n",
      "  if d2v.docvecs.similarity(reviewer_id,i) > 0.8 and i != reviewer_id:\n",
      "<ipython-input-59-3a4a219117bf>:22: DeprecationWarning: Call to deprecated `docvecs` (The `docvecs` property has been renamed `dv`.).\n",
      "  if d2v.docvecs.similarity(reviewer_id,i) > 0.8 and i != reviewer_id:\n",
      "<ipython-input-59-3a4a219117bf>:22: DeprecationWarning: Call to deprecated `docvecs` (The `docvecs` property has been renamed `dv`.).\n",
      "  if d2v.docvecs.similarity(reviewer_id,i) > 0.8 and i != reviewer_id:\n",
      "<ipython-input-59-3a4a219117bf>:22: DeprecationWarning: Call to deprecated `docvecs` (The `docvecs` property has been renamed `dv`.).\n",
      "  if d2v.docvecs.similarity(reviewer_id,i) > 0.8 and i != reviewer_id:\n",
      "<ipython-input-59-3a4a219117bf>:22: DeprecationWarning: Call to deprecated `docvecs` (The `docvecs` property has been renamed `dv`.).\n",
      "  if d2v.docvecs.similarity(reviewer_id,i) > 0.8 and i != reviewer_id:\n",
      "<ipython-input-59-3a4a219117bf>:22: DeprecationWarning: Call to deprecated `docvecs` (The `docvecs` property has been renamed `dv`.).\n",
      "  if d2v.docvecs.similarity(reviewer_id,i) > 0.8 and i != reviewer_id:\n",
      "<ipython-input-59-3a4a219117bf>:22: DeprecationWarning: Call to deprecated `docvecs` (The `docvecs` property has been renamed `dv`.).\n",
      "  if d2v.docvecs.similarity(reviewer_id,i) > 0.8 and i != reviewer_id:\n",
      "<ipython-input-59-3a4a219117bf>:22: DeprecationWarning: Call to deprecated `docvecs` (The `docvecs` property has been renamed `dv`.).\n",
      "  if d2v.docvecs.similarity(reviewer_id,i) > 0.8 and i != reviewer_id:\n",
      "<ipython-input-59-3a4a219117bf>:22: DeprecationWarning: Call to deprecated `docvecs` (The `docvecs` property has been renamed `dv`.).\n",
      "  if d2v.docvecs.similarity(reviewer_id,i) > 0.8 and i != reviewer_id:\n",
      "<ipython-input-59-3a4a219117bf>:22: DeprecationWarning: Call to deprecated `docvecs` (The `docvecs` property has been renamed `dv`.).\n",
      "  if d2v.docvecs.similarity(reviewer_id,i) > 0.8 and i != reviewer_id:\n",
      "<ipython-input-59-3a4a219117bf>:22: DeprecationWarning: Call to deprecated `docvecs` (The `docvecs` property has been renamed `dv`.).\n",
      "  if d2v.docvecs.similarity(reviewer_id,i) > 0.8 and i != reviewer_id:\n",
      "<ipython-input-59-3a4a219117bf>:22: DeprecationWarning: Call to deprecated `docvecs` (The `docvecs` property has been renamed `dv`.).\n",
      "  if d2v.docvecs.similarity(reviewer_id,i) > 0.8 and i != reviewer_id:\n",
      "<ipython-input-59-3a4a219117bf>:22: DeprecationWarning: Call to deprecated `docvecs` (The `docvecs` property has been renamed `dv`.).\n",
      "  if d2v.docvecs.similarity(reviewer_id,i) > 0.8 and i != reviewer_id:\n",
      "<ipython-input-59-3a4a219117bf>:22: DeprecationWarning: Call to deprecated `docvecs` (The `docvecs` property has been renamed `dv`.).\n",
      "  if d2v.docvecs.similarity(reviewer_id,i) > 0.8 and i != reviewer_id:\n",
      "<ipython-input-59-3a4a219117bf>:22: DeprecationWarning: Call to deprecated `docvecs` (The `docvecs` property has been renamed `dv`.).\n",
      "  if d2v.docvecs.similarity(reviewer_id,i) > 0.8 and i != reviewer_id:\n",
      "<ipython-input-59-3a4a219117bf>:22: DeprecationWarning: Call to deprecated `docvecs` (The `docvecs` property has been renamed `dv`.).\n",
      "  if d2v.docvecs.similarity(reviewer_id,i) > 0.8 and i != reviewer_id:\n",
      "<ipython-input-59-3a4a219117bf>:22: DeprecationWarning: Call to deprecated `docvecs` (The `docvecs` property has been renamed `dv`.).\n",
      "  if d2v.docvecs.similarity(reviewer_id,i) > 0.8 and i != reviewer_id:\n",
      "<ipython-input-59-3a4a219117bf>:22: DeprecationWarning: Call to deprecated `docvecs` (The `docvecs` property has been renamed `dv`.).\n",
      "  if d2v.docvecs.similarity(reviewer_id,i) > 0.8 and i != reviewer_id:\n",
      "<ipython-input-59-3a4a219117bf>:22: DeprecationWarning: Call to deprecated `docvecs` (The `docvecs` property has been renamed `dv`.).\n",
      "  if d2v.docvecs.similarity(reviewer_id,i) > 0.8 and i != reviewer_id:\n",
      "<ipython-input-59-3a4a219117bf>:22: DeprecationWarning: Call to deprecated `docvecs` (The `docvecs` property has been renamed `dv`.).\n",
      "  if d2v.docvecs.similarity(reviewer_id,i) > 0.8 and i != reviewer_id:\n",
      "<ipython-input-59-3a4a219117bf>:22: DeprecationWarning: Call to deprecated `docvecs` (The `docvecs` property has been renamed `dv`.).\n",
      "  if d2v.docvecs.similarity(reviewer_id,i) > 0.8 and i != reviewer_id:\n",
      "<ipython-input-59-3a4a219117bf>:22: DeprecationWarning: Call to deprecated `docvecs` (The `docvecs` property has been renamed `dv`.).\n",
      "  if d2v.docvecs.similarity(reviewer_id,i) > 0.8 and i != reviewer_id:\n",
      "<ipython-input-59-3a4a219117bf>:22: DeprecationWarning: Call to deprecated `docvecs` (The `docvecs` property has been renamed `dv`.).\n",
      "  if d2v.docvecs.similarity(reviewer_id,i) > 0.8 and i != reviewer_id:\n",
      "<ipython-input-59-3a4a219117bf>:22: DeprecationWarning: Call to deprecated `docvecs` (The `docvecs` property has been renamed `dv`.).\n",
      "  if d2v.docvecs.similarity(reviewer_id,i) > 0.8 and i != reviewer_id:\n",
      "<ipython-input-59-3a4a219117bf>:22: DeprecationWarning: Call to deprecated `docvecs` (The `docvecs` property has been renamed `dv`.).\n",
      "  if d2v.docvecs.similarity(reviewer_id,i) > 0.8 and i != reviewer_id:\n",
      "<ipython-input-59-3a4a219117bf>:22: DeprecationWarning: Call to deprecated `docvecs` (The `docvecs` property has been renamed `dv`.).\n",
      "  if d2v.docvecs.similarity(reviewer_id,i) > 0.8 and i != reviewer_id:\n",
      "<ipython-input-59-3a4a219117bf>:22: DeprecationWarning: Call to deprecated `docvecs` (The `docvecs` property has been renamed `dv`.).\n",
      "  if d2v.docvecs.similarity(reviewer_id,i) > 0.8 and i != reviewer_id:\n",
      "<ipython-input-59-3a4a219117bf>:22: DeprecationWarning: Call to deprecated `docvecs` (The `docvecs` property has been renamed `dv`.).\n",
      "  if d2v.docvecs.similarity(reviewer_id,i) > 0.8 and i != reviewer_id:\n",
      "<ipython-input-59-3a4a219117bf>:22: DeprecationWarning: Call to deprecated `docvecs` (The `docvecs` property has been renamed `dv`.).\n",
      "  if d2v.docvecs.similarity(reviewer_id,i) > 0.8 and i != reviewer_id:\n",
      "<ipython-input-59-3a4a219117bf>:22: DeprecationWarning: Call to deprecated `docvecs` (The `docvecs` property has been renamed `dv`.).\n",
      "  if d2v.docvecs.similarity(reviewer_id,i) > 0.8 and i != reviewer_id:\n",
      "<ipython-input-59-3a4a219117bf>:22: DeprecationWarning: Call to deprecated `docvecs` (The `docvecs` property has been renamed `dv`.).\n",
      "  if d2v.docvecs.similarity(reviewer_id,i) > 0.8 and i != reviewer_id:\n",
      "<ipython-input-59-3a4a219117bf>:22: DeprecationWarning: Call to deprecated `docvecs` (The `docvecs` property has been renamed `dv`.).\n",
      "  if d2v.docvecs.similarity(reviewer_id,i) > 0.8 and i != reviewer_id:\n",
      "<ipython-input-59-3a4a219117bf>:22: DeprecationWarning: Call to deprecated `docvecs` (The `docvecs` property has been renamed `dv`.).\n",
      "  if d2v.docvecs.similarity(reviewer_id,i) > 0.8 and i != reviewer_id:\n",
      "<ipython-input-59-3a4a219117bf>:22: DeprecationWarning: Call to deprecated `docvecs` (The `docvecs` property has been renamed `dv`.).\n",
      "  if d2v.docvecs.similarity(reviewer_id,i) > 0.8 and i != reviewer_id:\n",
      "<ipython-input-59-3a4a219117bf>:22: DeprecationWarning: Call to deprecated `docvecs` (The `docvecs` property has been renamed `dv`.).\n",
      "  if d2v.docvecs.similarity(reviewer_id,i) > 0.8 and i != reviewer_id:\n",
      "<ipython-input-59-3a4a219117bf>:22: DeprecationWarning: Call to deprecated `docvecs` (The `docvecs` property has been renamed `dv`.).\n",
      "  if d2v.docvecs.similarity(reviewer_id,i) > 0.8 and i != reviewer_id:\n",
      "<ipython-input-59-3a4a219117bf>:22: DeprecationWarning: Call to deprecated `docvecs` (The `docvecs` property has been renamed `dv`.).\n",
      "  if d2v.docvecs.similarity(reviewer_id,i) > 0.8 and i != reviewer_id:\n",
      "<ipython-input-59-3a4a219117bf>:22: DeprecationWarning: Call to deprecated `docvecs` (The `docvecs` property has been renamed `dv`.).\n",
      "  if d2v.docvecs.similarity(reviewer_id,i) > 0.8 and i != reviewer_id:\n",
      "<ipython-input-59-3a4a219117bf>:22: DeprecationWarning: Call to deprecated `docvecs` (The `docvecs` property has been renamed `dv`.).\n",
      "  if d2v.docvecs.similarity(reviewer_id,i) > 0.8 and i != reviewer_id:\n",
      "<ipython-input-59-3a4a219117bf>:22: DeprecationWarning: Call to deprecated `docvecs` (The `docvecs` property has been renamed `dv`.).\n",
      "  if d2v.docvecs.similarity(reviewer_id,i) > 0.8 and i != reviewer_id:\n",
      "<ipython-input-59-3a4a219117bf>:22: DeprecationWarning: Call to deprecated `docvecs` (The `docvecs` property has been renamed `dv`.).\n",
      "  if d2v.docvecs.similarity(reviewer_id,i) > 0.8 and i != reviewer_id:\n",
      "<ipython-input-59-3a4a219117bf>:22: DeprecationWarning: Call to deprecated `docvecs` (The `docvecs` property has been renamed `dv`.).\n",
      "  if d2v.docvecs.similarity(reviewer_id,i) > 0.8 and i != reviewer_id:\n",
      "<ipython-input-59-3a4a219117bf>:22: DeprecationWarning: Call to deprecated `docvecs` (The `docvecs` property has been renamed `dv`.).\n",
      "  if d2v.docvecs.similarity(reviewer_id,i) > 0.8 and i != reviewer_id:\n",
      "<ipython-input-59-3a4a219117bf>:22: DeprecationWarning: Call to deprecated `docvecs` (The `docvecs` property has been renamed `dv`.).\n",
      "  if d2v.docvecs.similarity(reviewer_id,i) > 0.8 and i != reviewer_id:\n",
      "<ipython-input-59-3a4a219117bf>:22: DeprecationWarning: Call to deprecated `docvecs` (The `docvecs` property has been renamed `dv`.).\n",
      "  if d2v.docvecs.similarity(reviewer_id,i) > 0.8 and i != reviewer_id:\n",
      "<ipython-input-59-3a4a219117bf>:22: DeprecationWarning: Call to deprecated `docvecs` (The `docvecs` property has been renamed `dv`.).\n",
      "  if d2v.docvecs.similarity(reviewer_id,i) > 0.8 and i != reviewer_id:\n",
      "<ipython-input-59-3a4a219117bf>:22: DeprecationWarning: Call to deprecated `docvecs` (The `docvecs` property has been renamed `dv`.).\n",
      "  if d2v.docvecs.similarity(reviewer_id,i) > 0.8 and i != reviewer_id:\n",
      "<ipython-input-59-3a4a219117bf>:22: DeprecationWarning: Call to deprecated `docvecs` (The `docvecs` property has been renamed `dv`.).\n",
      "  if d2v.docvecs.similarity(reviewer_id,i) > 0.8 and i != reviewer_id:\n",
      "<ipython-input-59-3a4a219117bf>:22: DeprecationWarning: Call to deprecated `docvecs` (The `docvecs` property has been renamed `dv`.).\n",
      "  if d2v.docvecs.similarity(reviewer_id,i) > 0.8 and i != reviewer_id:\n",
      "<ipython-input-59-3a4a219117bf>:22: DeprecationWarning: Call to deprecated `docvecs` (The `docvecs` property has been renamed `dv`.).\n",
      "  if d2v.docvecs.similarity(reviewer_id,i) > 0.8 and i != reviewer_id:\n",
      "<ipython-input-59-3a4a219117bf>:22: DeprecationWarning: Call to deprecated `docvecs` (The `docvecs` property has been renamed `dv`.).\n",
      "  if d2v.docvecs.similarity(reviewer_id,i) > 0.8 and i != reviewer_id:\n",
      "<ipython-input-59-3a4a219117bf>:22: DeprecationWarning: Call to deprecated `docvecs` (The `docvecs` property has been renamed `dv`.).\n",
      "  if d2v.docvecs.similarity(reviewer_id,i) > 0.8 and i != reviewer_id:\n",
      "<ipython-input-59-3a4a219117bf>:22: DeprecationWarning: Call to deprecated `docvecs` (The `docvecs` property has been renamed `dv`.).\n",
      "  if d2v.docvecs.similarity(reviewer_id,i) > 0.8 and i != reviewer_id:\n",
      "<ipython-input-59-3a4a219117bf>:22: DeprecationWarning: Call to deprecated `docvecs` (The `docvecs` property has been renamed `dv`.).\n",
      "  if d2v.docvecs.similarity(reviewer_id,i) > 0.8 and i != reviewer_id:\n",
      "<ipython-input-59-3a4a219117bf>:22: DeprecationWarning: Call to deprecated `docvecs` (The `docvecs` property has been renamed `dv`.).\n",
      "  if d2v.docvecs.similarity(reviewer_id,i) > 0.8 and i != reviewer_id:\n",
      "<ipython-input-59-3a4a219117bf>:22: DeprecationWarning: Call to deprecated `docvecs` (The `docvecs` property has been renamed `dv`.).\n",
      "  if d2v.docvecs.similarity(reviewer_id,i) > 0.8 and i != reviewer_id:\n",
      "<ipython-input-59-3a4a219117bf>:22: DeprecationWarning: Call to deprecated `docvecs` (The `docvecs` property has been renamed `dv`.).\n",
      "  if d2v.docvecs.similarity(reviewer_id,i) > 0.8 and i != reviewer_id:\n",
      "<ipython-input-59-3a4a219117bf>:22: DeprecationWarning: Call to deprecated `docvecs` (The `docvecs` property has been renamed `dv`.).\n",
      "  if d2v.docvecs.similarity(reviewer_id,i) > 0.8 and i != reviewer_id:\n",
      "<ipython-input-59-3a4a219117bf>:22: DeprecationWarning: Call to deprecated `docvecs` (The `docvecs` property has been renamed `dv`.).\n",
      "  if d2v.docvecs.similarity(reviewer_id,i) > 0.8 and i != reviewer_id:\n",
      "<ipython-input-59-3a4a219117bf>:22: DeprecationWarning: Call to deprecated `docvecs` (The `docvecs` property has been renamed `dv`.).\n",
      "  if d2v.docvecs.similarity(reviewer_id,i) > 0.8 and i != reviewer_id:\n",
      "<ipython-input-59-3a4a219117bf>:22: DeprecationWarning: Call to deprecated `docvecs` (The `docvecs` property has been renamed `dv`.).\n",
      "  if d2v.docvecs.similarity(reviewer_id,i) > 0.8 and i != reviewer_id:\n",
      "<ipython-input-59-3a4a219117bf>:22: DeprecationWarning: Call to deprecated `docvecs` (The `docvecs` property has been renamed `dv`.).\n",
      "  if d2v.docvecs.similarity(reviewer_id,i) > 0.8 and i != reviewer_id:\n",
      "<ipython-input-59-3a4a219117bf>:22: DeprecationWarning: Call to deprecated `docvecs` (The `docvecs` property has been renamed `dv`.).\n",
      "  if d2v.docvecs.similarity(reviewer_id,i) > 0.8 and i != reviewer_id:\n",
      "<ipython-input-59-3a4a219117bf>:22: DeprecationWarning: Call to deprecated `docvecs` (The `docvecs` property has been renamed `dv`.).\n",
      "  if d2v.docvecs.similarity(reviewer_id,i) > 0.8 and i != reviewer_id:\n",
      "<ipython-input-59-3a4a219117bf>:22: DeprecationWarning: Call to deprecated `docvecs` (The `docvecs` property has been renamed `dv`.).\n",
      "  if d2v.docvecs.similarity(reviewer_id,i) > 0.8 and i != reviewer_id:\n",
      "<ipython-input-59-3a4a219117bf>:22: DeprecationWarning: Call to deprecated `docvecs` (The `docvecs` property has been renamed `dv`.).\n",
      "  if d2v.docvecs.similarity(reviewer_id,i) > 0.8 and i != reviewer_id:\n",
      "<ipython-input-59-3a4a219117bf>:22: DeprecationWarning: Call to deprecated `docvecs` (The `docvecs` property has been renamed `dv`.).\n",
      "  if d2v.docvecs.similarity(reviewer_id,i) > 0.8 and i != reviewer_id:\n",
      "<ipython-input-59-3a4a219117bf>:22: DeprecationWarning: Call to deprecated `docvecs` (The `docvecs` property has been renamed `dv`.).\n",
      "  if d2v.docvecs.similarity(reviewer_id,i) > 0.8 and i != reviewer_id:\n",
      "<ipython-input-59-3a4a219117bf>:22: DeprecationWarning: Call to deprecated `docvecs` (The `docvecs` property has been renamed `dv`.).\n",
      "  if d2v.docvecs.similarity(reviewer_id,i) > 0.8 and i != reviewer_id:\n",
      "<ipython-input-59-3a4a219117bf>:22: DeprecationWarning: Call to deprecated `docvecs` (The `docvecs` property has been renamed `dv`.).\n",
      "  if d2v.docvecs.similarity(reviewer_id,i) > 0.8 and i != reviewer_id:\n"
     ]
    }
   ],
   "source": [
    "print(find_similar_reviews(\"B00006I5WJ\", \"A14453U0KFWF31\")) "
   ]
  },
  {
   "cell_type": "markdown",
   "metadata": {
    "id": "6KIVR0OodJbc"
   },
   "source": [
    "## 2.4 Build a doc2vec model using product descriptions\n"
   ]
  },
  {
   "cell_type": "markdown",
   "metadata": {
    "id": "6aP5_XP5dO2i"
   },
   "source": [
    "**[10pts]2.4.1** Use product descriptions (located in meta data  [here](http://snap.stanford.edu/data/amazon/productGraph/categoryFiles/meta_Electronics.json.gz)) to build a Doc2Vec model. When building the doc2vec model, use vector_size=100, window=15, min_count=5, max_vocab_size=1000, and train it for 1 epoch."
   ]
  },
  {
   "cell_type": "code",
   "execution_count": 7,
   "metadata": {
    "id": "6j9r0LvidJ7V"
   },
   "outputs": [
    {
     "name": "stderr",
     "output_type": "stream",
     "text": [
      "/Users/ryanli/opt/miniconda3/lib/python3.9/site-packages/ipykernel/ipkernel.py:283: DeprecationWarning: `should_run_async` will not call `transform_cell` automatically in the future. Please pass the result to `transformed_cell` argument and any exception that happen during thetransform in `preprocessing_exc_tuple` in IPython 7.17 and above.\n",
      "  and should_run_async(code)\n"
     ]
    }
   ],
   "source": [
    "def read_product_description(fname):\n",
    "    '''\n",
    "    Load all product descriptions\n",
    "    Args: \n",
    "        fname: dataset file path\n",
    "    Returns:\n",
    "        dict: key is asin, value is description content\n",
    "    '''\n",
    "    result = {}\n",
    "    for i in parse(fname):\n",
    "        try:\n",
    "            if \"Camera & Photo\" in i[\"categories\"][0]:\n",
    "                result[i[\"asin\"]]=i[\"description\"]\n",
    "        except:\n",
    "            continue\n",
    "    return result"
   ]
  },
  {
   "cell_type": "code",
   "execution_count": 8,
   "metadata": {
    "id": "XrSISgv3df6_"
   },
   "outputs": [
    {
     "name": "stderr",
     "output_type": "stream",
     "text": [
      "/Users/ryanli/opt/miniconda3/lib/python3.9/site-packages/ipykernel/ipkernel.py:283: DeprecationWarning: `should_run_async` will not call `transform_cell` automatically in the future. Please pass the result to `transformed_cell` argument and any exception that happen during thetransform in `preprocessing_exc_tuple` in IPython 7.17 and above.\n",
      "  and should_run_async(code)\n"
     ]
    }
   ],
   "source": [
    "class TaggedDescriptionDocument(object):\n",
    "    '''\n",
    "    This class could save all products and review information in its dictionary and generate iter for TaggedDocument\n",
    "        which could used for Doc2Vec model\n",
    "    '''\n",
    "    def __init__(self, descriptondict):\n",
    "        self.descriptondict = descriptondict\n",
    "        \n",
    "\n",
    "    def __iter__(self):\n",
    "        for asin in self.descriptondict:\n",
    "            for content in self.descriptondict[asin]:\n",
    "                yield TaggedDocument(clean_line(content), [asin])\n"
   ]
  },
  {
   "cell_type": "code",
   "execution_count": 10,
   "metadata": {
    "id": "yTRwOCtldinm",
    "scrolled": true
   },
   "outputs": [
    {
     "name": "stderr",
     "output_type": "stream",
     "text": [
      "/Users/ryanli/opt/miniconda3/lib/python3.9/site-packages/ipykernel/ipkernel.py:283: DeprecationWarning: `should_run_async` will not call `transform_cell` automatically in the future. Please pass the result to `transformed_cell` argument and any exception that happen during thetransform in `preprocessing_exc_tuple` in IPython 7.17 and above.\n",
      "  and should_run_async(code)\n"
     ]
    }
   ],
   "source": [
    "description_dict = read_product_description(\"meta_Electronics.json.gz\")\n",
    "des_documents = TaggedDescriptionDocument(description_dict)"
   ]
  },
  {
   "cell_type": "code",
   "execution_count": 12,
   "metadata": {
    "id": "0eG6BC6oeNUA"
   },
   "outputs": [
    {
     "name": "stderr",
     "output_type": "stream",
     "text": [
      "/Users/ryanli/opt/miniconda3/lib/python3.9/site-packages/ipykernel/ipkernel.py:283: DeprecationWarning: `should_run_async` will not call `transform_cell` automatically in the future. Please pass the result to `transformed_cell` argument and any exception that happen during thetransform in `preprocessing_exc_tuple` in IPython 7.17 and above.\n",
      "  and should_run_async(code)\n"
     ]
    }
   ],
   "source": [
    "# Build a doc2vec model\n",
    "from gensim.models.doc2vec import TaggedDocument, Doc2Vec\n",
    "\n",
    "model = Doc2Vec(vector_size=100, window=15, min_count=5, max_vocab_size=1000, epochs=1)\n"
   ]
  },
  {
   "cell_type": "code",
   "execution_count": 13,
   "metadata": {},
   "outputs": [
    {
     "name": "stderr",
     "output_type": "stream",
     "text": [
      "/Users/ryanli/opt/miniconda3/lib/python3.9/site-packages/ipykernel/ipkernel.py:283: DeprecationWarning: `should_run_async` will not call `transform_cell` automatically in the future. Please pass the result to `transformed_cell` argument and any exception that happen during thetransform in `preprocessing_exc_tuple` in IPython 7.17 and above.\n",
      "  and should_run_async(code)\n"
     ]
    }
   ],
   "source": [
    "model.build_vocab(des_documents)"
   ]
  },
  {
   "cell_type": "code",
   "execution_count": null,
   "metadata": {},
   "outputs": [],
   "source": [
    "model.train(des_documents, total_examples=model.corpus_count, epochs=model.epochs)\n"
   ]
  },
  {
   "cell_type": "code",
   "execution_count": null,
   "metadata": {},
   "outputs": [],
   "source": [
    "pip install "
   ]
  },
  {
   "cell_type": "markdown",
   "metadata": {
    "id": "pvwRTr6ueRS4"
   },
   "source": [
    "**[5pts]2.4.2** Find the most similar product for Canon EOS 5D (asin:B0007Y791C) not made by Canon."
   ]
  },
  {
   "cell_type": "code",
   "execution_count": 21,
   "metadata": {},
   "outputs": [
    {
     "name": "stderr",
     "output_type": "stream",
     "text": [
      "/Users/ryanli/opt/miniconda3/lib/python3.9/site-packages/ipykernel/ipkernel.py:283: DeprecationWarning: `should_run_async` will not call `transform_cell` automatically in the future. Please pass the result to `transformed_cell` argument and any exception that happen during thetransform in `preprocessing_exc_tuple` in IPython 7.17 and above.\n",
      "  and should_run_async(code)\n"
     ]
    },
    {
     "ename": "KeyError",
     "evalue": "\"Key 'canon' not present in vocabulary\"",
     "output_type": "error",
     "traceback": [
      "\u001b[0;31m---------------------------------------------------------------------------\u001b[0m",
      "\u001b[0;31mKeyError\u001b[0m                                  Traceback (most recent call last)",
      "\u001b[0;32m<ipython-input-21-10faca351423>\u001b[0m in \u001b[0;36m<module>\u001b[0;34m\u001b[0m\n\u001b[0;32m----> 1\u001b[0;31m \u001b[0mmost_similar_products\u001b[0m \u001b[0;34m=\u001b[0m \u001b[0mmodel\u001b[0m\u001b[0;34m.\u001b[0m\u001b[0mdv\u001b[0m\u001b[0;34m.\u001b[0m\u001b[0mmost_similar\u001b[0m\u001b[0;34m(\u001b[0m\u001b[0mpositive\u001b[0m\u001b[0;34m=\u001b[0m\u001b[0;34m[\u001b[0m\u001b[0mmodel\u001b[0m\u001b[0;34m.\u001b[0m\u001b[0mdv\u001b[0m\u001b[0;34m[\u001b[0m\u001b[0;34m'B0007Y791C'\u001b[0m\u001b[0;34m]\u001b[0m\u001b[0;34m]\u001b[0m\u001b[0;34m,\u001b[0m\u001b[0mnegative\u001b[0m \u001b[0;34m=\u001b[0m \u001b[0;34m'canon'\u001b[0m\u001b[0;34m,\u001b[0m \u001b[0mtopn\u001b[0m\u001b[0;34m=\u001b[0m\u001b[0;36m5\u001b[0m\u001b[0;34m)\u001b[0m\u001b[0;34m\u001b[0m\u001b[0;34m\u001b[0m\u001b[0m\n\u001b[0m\u001b[1;32m      2\u001b[0m \u001b[0;34m\u001b[0m\u001b[0m\n\u001b[1;32m      3\u001b[0m \u001b[0;32mfor\u001b[0m \u001b[0masin\u001b[0m \u001b[0;32min\u001b[0m \u001b[0mmost_similar_products\u001b[0m\u001b[0;34m:\u001b[0m\u001b[0;34m\u001b[0m\u001b[0;34m\u001b[0m\u001b[0m\n\u001b[1;32m      4\u001b[0m     \u001b[0mprint\u001b[0m\u001b[0;34m(\u001b[0m\u001b[0;34mf\"ASIN: {asin} ,Description: {des_documents.descriptondict[asin[0]]}\"\u001b[0m\u001b[0;34m)\u001b[0m\u001b[0;34m\u001b[0m\u001b[0;34m\u001b[0m\u001b[0m\n",
      "\u001b[0;32m~/opt/miniconda3/lib/python3.9/site-packages/gensim/models/keyedvectors.py\u001b[0m in \u001b[0;36mmost_similar\u001b[0;34m(self, positive, negative, topn, clip_start, clip_end, restrict_vocab, indexer)\u001b[0m\n\u001b[1;32m    839\u001b[0m \u001b[0;34m\u001b[0m\u001b[0m\n\u001b[1;32m    840\u001b[0m         \u001b[0;31m# compute the weighted average of all keys\u001b[0m\u001b[0;34m\u001b[0m\u001b[0;34m\u001b[0m\u001b[0;34m\u001b[0m\u001b[0m\n\u001b[0;32m--> 841\u001b[0;31m         \u001b[0mmean\u001b[0m \u001b[0;34m=\u001b[0m \u001b[0mself\u001b[0m\u001b[0;34m.\u001b[0m\u001b[0mget_mean_vector\u001b[0m\u001b[0;34m(\u001b[0m\u001b[0mkeys\u001b[0m\u001b[0;34m,\u001b[0m \u001b[0mweight\u001b[0m\u001b[0;34m,\u001b[0m \u001b[0mpre_normalize\u001b[0m\u001b[0;34m=\u001b[0m\u001b[0;32mTrue\u001b[0m\u001b[0;34m,\u001b[0m \u001b[0mpost_normalize\u001b[0m\u001b[0;34m=\u001b[0m\u001b[0;32mTrue\u001b[0m\u001b[0;34m,\u001b[0m \u001b[0mignore_missing\u001b[0m\u001b[0;34m=\u001b[0m\u001b[0;32mFalse\u001b[0m\u001b[0;34m)\u001b[0m\u001b[0;34m\u001b[0m\u001b[0;34m\u001b[0m\u001b[0m\n\u001b[0m\u001b[1;32m    842\u001b[0m         all_keys = [\n\u001b[1;32m    843\u001b[0m             \u001b[0mself\u001b[0m\u001b[0;34m.\u001b[0m\u001b[0mget_index\u001b[0m\u001b[0;34m(\u001b[0m\u001b[0mkey\u001b[0m\u001b[0;34m)\u001b[0m \u001b[0;32mfor\u001b[0m \u001b[0mkey\u001b[0m \u001b[0;32min\u001b[0m \u001b[0mkeys\u001b[0m \u001b[0;32mif\u001b[0m \u001b[0misinstance\u001b[0m\u001b[0;34m(\u001b[0m\u001b[0mkey\u001b[0m\u001b[0;34m,\u001b[0m \u001b[0m_KEY_TYPES\u001b[0m\u001b[0;34m)\u001b[0m \u001b[0;32mand\u001b[0m \u001b[0mself\u001b[0m\u001b[0;34m.\u001b[0m\u001b[0mhas_index_for\u001b[0m\u001b[0;34m(\u001b[0m\u001b[0mkey\u001b[0m\u001b[0;34m)\u001b[0m\u001b[0;34m\u001b[0m\u001b[0;34m\u001b[0m\u001b[0m\n",
      "\u001b[0;32m~/opt/miniconda3/lib/python3.9/site-packages/gensim/models/keyedvectors.py\u001b[0m in \u001b[0;36mget_mean_vector\u001b[0;34m(self, keys, weights, pre_normalize, post_normalize, ignore_missing)\u001b[0m\n\u001b[1;32m    516\u001b[0m                 \u001b[0mtotal_weight\u001b[0m \u001b[0;34m+=\u001b[0m \u001b[0mabs\u001b[0m\u001b[0;34m(\u001b[0m\u001b[0mweights\u001b[0m\u001b[0;34m[\u001b[0m\u001b[0midx\u001b[0m\u001b[0;34m]\u001b[0m\u001b[0;34m)\u001b[0m\u001b[0;34m\u001b[0m\u001b[0;34m\u001b[0m\u001b[0m\n\u001b[1;32m    517\u001b[0m             \u001b[0;32melif\u001b[0m \u001b[0;32mnot\u001b[0m \u001b[0mignore_missing\u001b[0m\u001b[0;34m:\u001b[0m\u001b[0;34m\u001b[0m\u001b[0;34m\u001b[0m\u001b[0m\n\u001b[0;32m--> 518\u001b[0;31m                 \u001b[0;32mraise\u001b[0m \u001b[0mKeyError\u001b[0m\u001b[0;34m(\u001b[0m\u001b[0;34mf\"Key '{key}' not present in vocabulary\"\u001b[0m\u001b[0;34m)\u001b[0m\u001b[0;34m\u001b[0m\u001b[0;34m\u001b[0m\u001b[0m\n\u001b[0m\u001b[1;32m    519\u001b[0m \u001b[0;34m\u001b[0m\u001b[0m\n\u001b[1;32m    520\u001b[0m         \u001b[0;32mif\u001b[0m \u001b[0mtotal_weight\u001b[0m \u001b[0;34m>\u001b[0m \u001b[0;36m0\u001b[0m\u001b[0;34m:\u001b[0m\u001b[0;34m\u001b[0m\u001b[0;34m\u001b[0m\u001b[0m\n",
      "\u001b[0;31mKeyError\u001b[0m: \"Key 'canon' not present in vocabulary\""
     ]
    }
   ],
   "source": [
    "most_similar_products = model.dv.most_similar(positive=[model.dv['B0007Y791C']],negative = 'canon', topn=5)\n",
    "\n",
    "for asin in most_similar_products:\n",
    "    print(f\"ASIN: {asin} ,Description: {des_documents.descriptondict[asin[0]]}\")"
   ]
  },
  {
   "cell_type": "code",
   "execution_count": 19,
   "metadata": {},
   "outputs": [
    {
     "name": "stdout",
     "output_type": "stream",
     "text": [
      "ASIN: ('B0007Y791C', 1.0) ,Description: World's smallest and lightest full-frame digital SLR as of August 2005 the sensor operates without a conversion factor.New larger 2.5-inch LCD screen can be viewed even at extreme angles of up to 170 degrees.New larger 2.5-inch LCD screen can be viewed even at extreme angles of up to 170 degrees.Consecutive shooting allows the capture of 3.0 frames per second for up to 60 consecutive JPEG or 17 RAW frames in a burst.\n",
      "ASIN: ('B001BP1YEE', 0.4226471781730652) ,Description: Why Choose? Why Settle? Introducing the New Kata 3N1!Why choose between a backpack and a sling when you simply can pick up one of the new Kata 3N1 bags and get the best features of each type of bag? These unique bags provide ultimate freedom designed with three carrying options in one bag: right-handed sling, left-handed sling and backpack. Quick access to a camera has never been faster with a sling that offers a quick release and one-handed bag opening for camera access. Left-handed photographers can celebrate as they discover the first photo bag that can be configured as a left-handed sling. When not in a situation that requires quick camera access, convert the 3N1 into an ergonomic and comfortable backpack. All these product features come in a package that includes the unique combination of protection, light weight and style that has become Kata&#x92;s calling card.Kata 3NI HighlightsFlexible Configurations to Ensure Maximum UseUse both as a sling and backpackAs a photographer, you choose a sling for the ability to gain quick access to your camera in shooting situations. A backpack is key for carrying your equipment long distances without straining your back. Finally, there is a bag that offers the best of both worlds in one sleek design. By including two padded straps that can be easily hidden, you decide which product configuration works best for you. Large sturdy strap buckles make it easy to quickly convert your 3N1 from a right-handed sling to a left-handed sling or a backpack. A waist strap is included to provide maximum comfort to your back when using the 3N1 in backpack mode. You no longer have to decide which camera bag to bring with you into the field. Load up your 3N1 and you are set for all photgraphic situations.Uses Thermal Shield Technology to ensure maximum protectionSuperior Protection for Your DSLRSuperior protection is key to the Kata design philosophy. The creation of TST (Thermal Shield Technology) is a physical expression of this philosophy. TST is modeled to create protective zones where your camera will most likely be impacted. Impact force is distributed to ensure that your camera remains safe and always ready for that important scene or shot. The 3N1 is also designed with reinforced corners to ensure that when in sling mode, the bag holds its shape to ensure your camera does not fall out.Fast, One Handed Camera Access with Quick Release BuckleWhen in sling mode, quick access to your camera is provided via a quick release clip with single pull opening of the camera compartment door. Pinch the clip and pull and the zippers easily slide to offer one-handed access to your camera. Easy access means you are always ready when the action happens and need to capture that perfect shot on the fly.Rain Cover Provides All-Weather ProtectionIncluded with each 3N1 model is a sturdy all-weather rain cover. You never know when Mother Nature will throw you a curve and you need to be prepared. This rain cover wraps around your entire sling / backpack ensuring that your valuable gear is protected. The bright color also reflects sunlight to keep your rucksack and sensitive digital equipment cooler in hot locations.Optional InserTrolley (KT VG-DTS) for Easy TravelingBoth the 3N1-20 and 3N1-30 have a sleeve for use with the Kata InserTrolley (Model KT VG-DTS) or most luggage trolleys. This allows for easy transport of your camera. While connected to the trolley, your camera remains fully accessible. The Kata Insertrolley can be folded for easy storage when not in use. Kata's patented extendable wheel system provides better stabilization when wheeling your 3N1 bag.Ensure you find the right fit for your camera\n",
      "ASIN: ('B007C5LRGC', 0.41753923892974854) ,Description: MOD classic straps are designer/boutique straps, for both SLR cameras, both digital and film. Their unique designs stand out from the crowd of plain, black, synthetic looking products that dominate the strap category. Classic straps are cut from the best fabrics available, and are backed with a soft \"minky\" backing. Strong connector ends on the Classic straps make these straps a must have for the fashionable photographer who needs strength and quality.  All MOD products are  manufactured in the USA, deep in the heart of Texas.\n",
      "ASIN: ('B000MSZQQI', 0.41364675760269165) ,Description: Specifically designed for Panasonic cameras, the Rock-DVX combines the  finest degree of zoom control with the type of wide-sweep rocker favored by broadcast  operators. The result is an easy-to-use, effective means of achieving smooth, sustainable  zooms. Details include a compact, intuitive design; a pressure-sensitive, side-by-side  rocker switch; and a low-profile record/pause button. Offering a greater range of motion  than most zoom controls, the Rock-DVX is compatible with the Panasonic DVX100,  DVX100A, DVX100B, HVX200, DVC30, DVC60, and DVC80 cameras.FeaturesMaterial: ABS plasticCompatibility: DVX100, DVX100A, DVX100B, HVX200, DVC30, DVC60, and  DVC80Dimensions: 2 by 2.75 inchesMax clamp diameter: 1.25 inchesCord length: 40 inchesWeight: 0.25 poundsWarranty: 2 years parts and labor\n",
      "ASIN: ('B00C6PHV9A', 0.3896889388561249) ,Description: The SumacLife Camera Sleeve lets you carry & protect your digital camera in style. The case features a stylish micro-suede exterior for classy good looks & a soft shock absorbent neoprene bubble lined interior to cushion & protect your digital camera against impact, dents & scratches. This sleeve is compact but yet roomy enough to accommodate a wide range of small accessories such memory cards, batteries & USB cables. The dual zipper action opening provides you quick & easy access to your camera, so you won't miss out on another picture perfect moment. (External Dimensions 4.75 x 3.5 x 1 // Internal Dimensions 4.2 x 3 x 1)\n"
     ]
    },
    {
     "name": "stderr",
     "output_type": "stream",
     "text": [
      "/Users/ryanli/opt/miniconda3/lib/python3.9/site-packages/ipykernel/ipkernel.py:283: DeprecationWarning: `should_run_async` will not call `transform_cell` automatically in the future. Please pass the result to `transformed_cell` argument and any exception that happen during thetransform in `preprocessing_exc_tuple` in IPython 7.17 and above.\n",
      "  and should_run_async(code)\n"
     ]
    }
   ],
   "source": [
    "most_similar_products = model.dv.most_similar(positive=[model.dv['B0007Y791C']], topn=5)\n",
    "\n",
    "for asin in most_similar_products:\n",
    "    print(f\"ASIN: {asin} ,Description: {des_documents.descriptondict[asin[0]]}\")\n"
   ]
  },
  {
   "cell_type": "code",
   "execution_count": null,
   "metadata": {},
   "outputs": [],
   "source": [
    "# Based on the above result, the most similar product is B001BP1YEE"
   ]
  }
 ],
 "metadata": {
  "colab": {
   "provenance": []
  },
  "kernelspec": {
   "display_name": "Python 3",
   "language": "python",
   "name": "python3"
  },
  "language_info": {
   "codemirror_mode": {
    "name": "ipython",
    "version": 3
   },
   "file_extension": ".py",
   "mimetype": "text/x-python",
   "name": "python",
   "nbconvert_exporter": "python",
   "pygments_lexer": "ipython3",
   "version": "3.9.5"
  }
 },
 "nbformat": 4,
 "nbformat_minor": 1
}
